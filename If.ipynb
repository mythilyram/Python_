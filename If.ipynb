{
 "cells": [
  {
   "cell_type": "markdown",
   "id": "e3c40c3e-625e-400c-9583-be38ed712a65",
   "metadata": {},
   "source": [
    "n=input(\"Enter a number\")\n",
    "n"
   ]
  },
  {
   "cell_type": "code",
   "execution_count": 2,
   "id": "63b7cb3a-c046-460b-a6f3-d8dde5b3f3ff",
   "metadata": {},
   "outputs": [
    {
     "data": {
      "text/plain": [
       "str"
      ]
     },
     "execution_count": 2,
     "metadata": {},
     "output_type": "execute_result"
    }
   ],
   "source": [
    "type(n)"
   ]
  },
  {
   "cell_type": "code",
   "execution_count": 3,
   "id": "bdbeb094-265a-429d-a410-cb75b910270b",
   "metadata": {},
   "outputs": [
    {
     "data": {
      "text/plain": [
       "int"
      ]
     },
     "execution_count": 3,
     "metadata": {},
     "output_type": "execute_result"
    }
   ],
   "source": [
    "n=int(n)\n",
    "type(n)"
   ]
  },
  {
   "cell_type": "code",
   "execution_count": 4,
   "id": "dd55de40-5e9c-41a1-a2fc-3c36c3e54f20",
   "metadata": {},
   "outputs": [
    {
     "name": "stdout",
     "output_type": "stream",
     "text": [
      "Number is odd\n"
     ]
    }
   ],
   "source": [
    "if n%2 == 0:\n",
    "    print(\"Number is even\")\n",
    "else:\n",
    "    print(\"Number is odd\")"
   ]
  },
  {
   "cell_type": "markdown",
   "id": "57fb17dd-430d-4202-a7e8-124c4d3beec1",
   "metadata": {},
   "source": [
    "<h3 style=\"color:purple\">Conditional operators for if condition</h3>"
   ]
  },
  {
   "cell_type": "code",
   "execution_count": 6,
   "id": "fd0f2446-98f1-4efc-880c-32875dd0064a",
   "metadata": {},
   "outputs": [
    {
     "data": {
      "text/plain": [
       "True"
      ]
     },
     "execution_count": 6,
     "metadata": {},
     "output_type": "execute_result"
    }
   ],
   "source": [
    "3==3"
   ]
  },
  {
   "cell_type": "markdown",
   "id": "bac6ea40-dc8d-4960-8a01-17eaae0f98c4",
   "metadata": {},
   "source": [
    "3>4"
   ]
  },
  {
   "cell_type": "markdown",
   "id": "f9ebe9a5-ddc4-4b06-9ba0-3bd27260b6d5",
   "metadata": {},
   "source": [
    "Find if number is more than 10 and also even"
   ]
  },
  {
   "cell_type": "code",
   "execution_count": 8,
   "id": "d090107e-e5e7-4187-ab3c-3228e2663e79",
   "metadata": {},
   "outputs": [
    {
     "name": "stdout",
     "output_type": "stream",
     "text": [
      "Nope\n"
     ]
    }
   ],
   "source": [
    "n=8\n",
    "if n > 10 and n%2==0:\n",
    "    print(\"Yay\")\n",
    "else:\n",
    "    print(\"Nope\")"
   ]
  },
  {
   "cell_type": "markdown",
   "id": "fde661fa-7c92-489f-922e-9c257df077f2",
   "metadata": {},
   "source": [
    "<h3 style=\"color:purple\">Write code that takes dish name as input and tells you which cuisine it is</h3>"
   ]
  },
  {
   "cell_type": "code",
   "execution_count": 10,
   "id": "78bd3cbd-a74c-48dd-b5bc-f6a85116c734",
   "metadata": {},
   "outputs": [],
   "source": [
    "mexican = [\"taco\",\"enchilada\",\"burrito\"]\n",
    "italian = [\"pasta\",\"ravioli\",\"pizza\"]\n",
    "indian = [\"biryani\",\"samosa\",\"curry\"]"
   ]
  },
  {
   "cell_type": "code",
   "execution_count": 11,
   "id": "c86990c4-c527-4d7c-a313-24402af0cb08",
   "metadata": {},
   "outputs": [
    {
     "name": "stdin",
     "output_type": "stream",
     "text": [
      "Enter a dish name taco\n"
     ]
    },
    {
     "name": "stdout",
     "output_type": "stream",
     "text": [
      "taco is mexican\n"
     ]
    }
   ],
   "source": [
    "dish = input(\"Enter a dish name\")\n",
    "if dish in mexican:\n",
    "    print(f\"{dish} is mexican\")\n",
    "elif dish in italian:\n",
    "    print(f\"{dish} is italian\")\n",
    "elif dish in indian:\n",
    "    print(f\"{dish} is indian\")\n",
    "else:\n",
    "    print(f\"not sure which cuisine is {dish}\")"
   ]
  },
  {
   "cell_type": "markdown",
   "id": "aaa5da48-868f-432b-974f-c09913d2fedc",
   "metadata": {},
   "source": [
    "<h3 style=\"color:purple\">Ternary operator</h3>"
   ]
  },
  {
   "cell_type": "code",
   "execution_count": 14,
   "id": "290f9a67-3464-48d2-8c7d-f695ad1e3520",
   "metadata": {},
   "outputs": [
    {
     "data": {
      "text/plain": [
       "'Number is odd'"
      ]
     },
     "execution_count": 14,
     "metadata": {},
     "output_type": "execute_result"
    }
   ],
   "source": [
    "n=1\n",
    "message = \"Number is even\" if n%2==0 else \"Number is odd\"\n",
    "message"
   ]
  },
  {
   "cell_type": "markdown",
   "id": "3eab2492-608d-43ba-8bc8-049848b86e3e",
   "metadata": {},
   "source": [
    "<h3 style=\"color:purple\">Exercise</h3>\n",
    "\n",
    "1. Write a program that can tell you your BMI Category.\r\n",
    "\r\n",
    "+ Ask user to enter height\r\n",
    "+ Ask user to enter weight\r\n",
    "+ Calculate the BMI(Body Mass Index = wight / height 2) and store it in a variable\r\n",
    "+ If the BMI is 30 or greater, print “Obesity”\r\n",
    "+ If the BMI is in between 25 and 29, print “Over Weight”\r\n",
    "+ If the BMI is in between 18.5 and 25, print “Normal”\r\n",
    "+ If the BMI is less than 18.5, print “UnderWeight”\r\n"
   ]
  },
  {
   "cell_type": "code",
   "execution_count": 17,
   "id": "79e24704-d17e-4901-89c2-918cacd85df6",
   "metadata": {},
   "outputs": [
    {
     "name": "stdin",
     "output_type": "stream",
     "text": [
      "Enter your height in meter:  168\n",
      "Enter your weight in Kg:  59\n"
     ]
    },
    {
     "name": "stdout",
     "output_type": "stream",
     "text": [
      "Underweight\n"
     ]
    }
   ],
   "source": [
    "h = input(\"Enter your height in meter: \")\r\n",
    "h = int(h)\r\n",
    "w = input(\"Enter your weight in Kg: \")\r\n",
    "w = int(w)\r\n",
    "bmi = w/h**2\r\n",
    "if bmi >= 30:\r\n",
    "    print('Obesity')\r\n",
    "elif bmi>=25 and bmi <=29:\r\n",
    "    print('Overweight')\r\n",
    "elif bmi>=18.5 and bmi <25:\r\n",
    "    print('Normal')\r\n",
    "else:\r\n",
    "    print('Underweight')"
   ]
  },
  {
   "cell_type": "markdown",
   "id": "b962214f-ae43-4486-98cf-584cbf5315c3",
   "metadata": {},
   "source": [
    "2. Using the following list of cities per country,\r\n",
    "```python\r\n",
    "India = [\"Mumbai\", \"Bangalore\", \"Chennai\", \"Delhi\"]\r\n",
    "USA = [\"New York\",\"Chicago\",\"Las Vegas\", “San Francisco”]\r\n",
    "UK = [“London”, “Manchester”, “Liverpool”, “Nottingham”]\r\n",
    "```\r\n",
    "- Write a program that asks the user to enter a city name, and it should tell which country the city belongs to\r\n",
    "- Write a program that asks user to enter two cities, and it tells you if they both are in the same country or not. For example, if I enter Mumbai and Chennai, it will print \"Both cities are in India\" but if I enter Mumbai and New York it should print \"They don't belong to the same country\"\r\n"
   ]
  },
  {
   "cell_type": "code",
   "execution_count": 20,
   "id": "799ebbfc-5689-4fb0-9385-2fc97081f562",
   "metadata": {},
   "outputs": [],
   "source": [
    "India = [\"Mumbai\", \"Bangalore\", \"Chennai\", \"Delhi\"]\n",
    "USA = [\"New York\", \"Chicago\", \"Las Vegas\", \"San Francisco\"]\n",
    "UK = [\"London\", \"Manchester\", \"Liverpool\", \"Nottingham\"]"
   ]
  },
  {
   "cell_type": "code",
   "execution_count": 22,
   "id": "51f4566c-48da-4f98-aeb9-3c01159152ea",
   "metadata": {},
   "outputs": [
    {
     "name": "stdin",
     "output_type": "stream",
     "text": [
      "Enter your city name:  london\n"
     ]
    },
    {
     "name": "stdout",
     "output_type": "stream",
     "text": [
      "London is in  UK\n"
     ]
    }
   ],
   "source": [
    " city = input(\"Enter your city name: \")\n",
    " city = city.title()\n",
    " if city in India:\n",
    "     print(f'{city} is in India')\n",
    " elif city in USA:\n",
    "     print(f'{city} is in USA')\n",
    " elif city in UK:\n",
    "     print(f'{city} is in  UK')\n",
    " else:\n",
    "     print(\"Country not known\")"
   ]
  },
  {
   "cell_type": "code",
   "execution_count": 23,
   "id": "5cb6d924-6276-4713-9739-0b9c1b8e0896",
   "metadata": {},
   "outputs": [
    {
     "name": "stdin",
     "output_type": "stream",
     "text": [
      "Enter 2 city names:  london manchester\n"
     ]
    },
    {
     "name": "stdout",
     "output_type": "stream",
     "text": [
      "London and Manchester are in UK\n"
     ]
    }
   ],
   "source": [
    "a,b = input(\"Enter 2 city names: \").split()\n",
    "a = a.title()\n",
    "b = b.title()\n",
    "if a in India and b in India:\n",
    "    print(f'{a} and {b} are in India')\n",
    "elif a in USA and b in USA:\n",
    "    print(f'{a} and {b} are in USA')\n",
    "elif a in UK and b in UK:\n",
    "    print(f'{a} and {b} are in UK')\n",
    "else:\n",
    "    print(f\"{a} and {b} don't belong to the same country\")"
   ]
  },
  {
   "cell_type": "markdown",
   "id": "8d4ef9dd-ee53-47bb-92e3-69bf1b32c78a",
   "metadata": {},
   "source": [
    "<h3 style=\"color:purple\">Quiz</h3>\n",
    "\n",
    "You bought a watch from a company called banana in the past and had a bad experience.\n",
    "Now you have decided to buy a watch from any company except banana. \n",
    "If a company name is stored in a variable called company, what will be the condition to perform this check?\n",
    "\n",
    "if company != ‘banana’:\r\n",
    "\n",
    "\n",
    "\n"
   ]
  }
 ],
 "metadata": {
  "kernelspec": {
   "display_name": "Python 3 (ipykernel)",
   "language": "python",
   "name": "python3"
  },
  "language_info": {
   "codemirror_mode": {
    "name": "ipython",
    "version": 3
   },
   "file_extension": ".py",
   "mimetype": "text/x-python",
   "name": "python",
   "nbconvert_exporter": "python",
   "pygments_lexer": "ipython3",
   "version": "3.8.10"
  }
 },
 "nbformat": 4,
 "nbformat_minor": 5
}
