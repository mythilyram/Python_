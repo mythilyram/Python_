{
 "cells": [
  {
   "cell_type": "code",
   "execution_count": 49,
   "id": "3049884e-ac39-4109-87da-e9e4df025def",
   "metadata": {},
   "outputs": [
    {
     "data": {
      "text/plain": [
       "str"
      ]
     },
     "execution_count": 49,
     "metadata": {},
     "output_type": "execute_result"
    }
   ],
   "source": [
    "can = \"soda\"\n",
    "type(can)"
   ]
  },
  {
   "cell_type": "code",
   "execution_count": 51,
   "id": "76cbbd4e-18aa-46f6-9871-65c947b67320",
   "metadata": {},
   "outputs": [
    {
     "data": {
      "text/plain": [
       "str"
      ]
     },
     "execution_count": 51,
     "metadata": {},
     "output_type": "execute_result"
    }
   ],
   "source": [
    "first_name=\"mythily\"\n",
    "last_name=\"ramanathan\"\n",
    "type(first_name)"
   ]
  },
  {
   "cell_type": "code",
   "execution_count": 52,
   "id": "ac127bbb-f2ac-43e3-8b42-3b0c925d4652",
   "metadata": {},
   "outputs": [
    {
     "data": {
      "text/plain": [
       "'mythily ramanathan'"
      ]
     },
     "execution_count": 52,
     "metadata": {},
     "output_type": "execute_result"
    }
   ],
   "source": [
    "Full_name = first_name +\" \"+ last_name\n",
    "Full_name"
   ]
  },
  {
   "cell_type": "markdown",
   "id": "1d2d8be0-90bb-4212-84e2-3edb8c3b5ddf",
   "metadata": {},
   "source": [
    "Say you went to a restaurant and want to track down total expense for all food items"
   ]
  },
  {
   "cell_type": "code",
   "execution_count": 56,
   "id": "5d6dcb75-593f-4d8c-a7de-69db577b7920",
   "metadata": {},
   "outputs": [
    {
     "data": {
      "text/plain": [
       "33.5"
      ]
     },
     "execution_count": 56,
     "metadata": {},
     "output_type": "execute_result"
    }
   ],
   "source": [
    "pizza=20\n",
    "samosa=5\n",
    "ice_cream=8.5\n",
    "total=pizza+samosa+ice_cream\n",
    "total"
   ]
  },
  {
   "cell_type": "code",
   "execution_count": 57,
   "id": "0fa8ea2c-88c1-4b00-bf39-1a1e53afd03f",
   "metadata": {},
   "outputs": [
    {
     "data": {
      "text/plain": [
       "float"
      ]
     },
     "execution_count": 57,
     "metadata": {},
     "output_type": "execute_result"
    }
   ],
   "source": [
    "type(total)"
   ]
  },
  {
   "cell_type": "code",
   "execution_count": 58,
   "id": "685c7024-e45e-4761-905f-ff071d62e080",
   "metadata": {},
   "outputs": [
    {
     "data": {
      "text/plain": [
       "int"
      ]
     },
     "execution_count": 58,
     "metadata": {},
     "output_type": "execute_result"
    }
   ],
   "source": [
    "type(pizza)"
   ]
  },
  {
   "cell_type": "markdown",
   "id": "dbd7d6ee-7c54-463e-a0a8-a9f013a9700f",
   "metadata": {},
   "source": [
    "**Integer** is a whole number with no decimal point. e.g. 34, 12, 500 \n",
    "\n",
    "**Float** is a number with decimal point. e.g. 1.34, 0.45, 100.5 \n",
    "\n",
    "**String** data types store text information\n",
    "\n",
    "**Boolean** type is used to store true or false value"
   ]
  },
  {
   "cell_type": "code",
   "execution_count": 59,
   "id": "6be32d41-ae03-4920-aa69-b0b8ad40c951",
   "metadata": {},
   "outputs": [],
   "source": [
    "learn_python=True\n",
    "learn_fortran=False"
   ]
  },
  {
   "cell_type": "code",
   "execution_count": 65,
   "id": "02f13ef0-6a06-430d-9a58-9580c4cd9c8d",
   "metadata": {},
   "outputs": [
    {
     "data": {
      "text/plain": [
       "bool"
      ]
     },
     "execution_count": 65,
     "metadata": {},
     "output_type": "execute_result"
    }
   ],
   "source": [
    "type(learn_python)"
   ]
  },
  {
   "cell_type": "markdown",
   "id": "192558d4-ac04-47b4-a9c7-a4b7c8d99bb4",
   "metadata": {},
   "source": [
    "<h3 style=\"color:purple\">Everything is an object in python</h3>"
   ]
  },
  {
   "cell_type": "code",
   "execution_count": 60,
   "id": "fdd802d9-c39a-4f14-9008-4241f6182d0f",
   "metadata": {},
   "outputs": [],
   "source": [
    "food = 5"
   ]
  },
  {
   "cell_type": "markdown",
   "id": "0fda8547-fdf0-4977-856c-ef760b9ebbd6",
   "metadata": {},
   "source": [
    "in memory, it created an object in which it stores jalebi and points a var - food to jalebi"
   ]
  },
  {
   "cell_type": "code",
   "execution_count": 62,
   "id": "b72ce8de-a012-41c5-a4e5-6b0cfdf72bea",
   "metadata": {},
   "outputs": [
    {
     "data": {
      "text/plain": [
       "('jalebi', 'jalebi')"
      ]
     },
     "execution_count": 62,
     "metadata": {},
     "output_type": "execute_result"
    }
   ],
   "source": [
    "food = \"jalebi\"\n",
    "bar = food\n",
    "bar, food"
   ]
  },
  {
   "cell_type": "code",
   "execution_count": 63,
   "id": "582952b6-905f-42ee-8392-f54a0fe7e345",
   "metadata": {},
   "outputs": [
    {
     "data": {
      "text/plain": [
       "1699178105840"
      ]
     },
     "execution_count": 63,
     "metadata": {},
     "output_type": "execute_result"
    }
   ],
   "source": [
    "id(bar)"
   ]
  },
  {
   "cell_type": "code",
   "execution_count": 64,
   "id": "288f6f2d-ff65-4fa8-91ed-311f043aaed8",
   "metadata": {},
   "outputs": [
    {
     "data": {
      "text/plain": [
       "1699178105840"
      ]
     },
     "execution_count": 64,
     "metadata": {},
     "output_type": "execute_result"
    }
   ],
   "source": [
    "id(food)"
   ]
  },
  {
   "cell_type": "code",
   "execution_count": 66,
   "id": "c36fa77f-bc80-4419-af3a-e0298dc04760",
   "metadata": {},
   "outputs": [
    {
     "data": {
      "text/plain": [
       "'jalebi'"
      ]
     },
     "execution_count": 66,
     "metadata": {},
     "output_type": "execute_result"
    }
   ],
   "source": [
    "bar = \"samosa\"\n",
    "food"
   ]
  },
  {
   "cell_type": "code",
   "execution_count": 67,
   "id": "68d54cc3-cdea-46a8-b6e2-9a02e51f9af2",
   "metadata": {},
   "outputs": [
    {
     "data": {
      "text/plain": [
       "1699178191984"
      ]
     },
     "execution_count": 67,
     "metadata": {},
     "output_type": "execute_result"
    }
   ],
   "source": [
    "id(bar)"
   ]
  },
  {
   "cell_type": "markdown",
   "id": "77760876-0f14-4afc-8704-7eb9fd9035dd",
   "metadata": {},
   "source": [
    "when u store a new data, it creates a new obj and piont ur variable to that obj."
   ]
  },
  {
   "cell_type": "markdown",
   "id": "14cc236e-f2ec-4733-8bd8-e0f8f3036600",
   "metadata": {},
   "source": [
    "<h3 style=\"color:green\">Variable naming convention in python</h3>\n",
    "\n",
    "1. snake_case ( 2 words seperated by underscore)\n",
    "\n",
    "2. can`t use Reserve keyword\n",
    "\n",
    "3. Special characters ($,#) not allowed.\n",
    "\n",
    "4. Variable name must begin with letter or _\n",
    "\n",
    "5. Remaining char should be a-z,A-Z, 0-9 or _"
   ]
  },
  {
   "cell_type": "markdown",
   "id": "4b9c3400-3e8b-4de6-8107-21a85c52a60b",
   "metadata": {},
   "source": [
    "<h3 style=\"color:green\">Excercise for variables</h3>\n",
    "\n",
    "1. Create a variable named pi and store the value 22/7 in it. Now check the data type of this variable.\n",
    "2. Create a variable called for and assign it a value 4. See what happens and find out the reason behind the behavior that you see.\n",
    "3. Store the principal amount, rate of interest and time in different variables and then calculate the Simple Interest for 3 years \n"
   ]
  },
  {
   "cell_type": "code",
   "execution_count": 68,
   "id": "66a11a63-7a00-4556-b2af-6a7cdcec42ec",
   "metadata": {},
   "outputs": [
    {
     "data": {
      "text/plain": [
       "3.142857142857143"
      ]
     },
     "execution_count": 68,
     "metadata": {},
     "output_type": "execute_result"
    }
   ],
   "source": [
    "pi = 22/7\n",
    "print(pi)"
   ]
  },
  {
   "cell_type": "code",
   "execution_count": 69,
   "id": "d17120d0-922a-46a1-98e1-7f24fa8a5770",
   "metadata": {},
   "outputs": [
    {
     "data": {
      "text/plain": [
       "float"
      ]
     },
     "execution_count": 69,
     "metadata": {},
     "output_type": "execute_result"
    }
   ],
   "source": [
    "type(pi)"
   ]
  },
  {
   "cell_type": "code",
   "execution_count": 70,
   "id": "e3f374e7-2a87-4c48-b14b-13055f3b3392",
   "metadata": {},
   "outputs": [
    {
     "ename": "SyntaxError",
     "evalue": "invalid syntax (2046953698.py, line 1)",
     "output_type": "error",
     "traceback": [
      "\u001b[1;36m  Cell \u001b[1;32mIn[70], line 1\u001b[1;36m\u001b[0m\n\u001b[1;33m    for = 4\u001b[0m\n\u001b[1;37m        ^\u001b[0m\n\u001b[1;31mSyntaxError\u001b[0m\u001b[1;31m:\u001b[0m invalid syntax\n"
     ]
    }
   ],
   "source": [
    "for = 4"
   ]
  },
  {
   "cell_type": "markdown",
   "id": "e5da9ed8-7f6c-482e-bab7-201a8556c28f",
   "metadata": {},
   "source": [
    "SyntaxError occured becuase for is a reserved keyword in python. We cannot use reserved keywords for making variable names.\n",
    "\n",
    "Solution for this is:"
   ]
  },
  {
   "cell_type": "code",
   "execution_count": 72,
   "id": "029f3d11-a342-4dc6-972e-bcfd851bdcf2",
   "metadata": {},
   "outputs": [
    {
     "name": "stdout",
     "output_type": "stream",
     "text": [
      "4\n"
     ]
    }
   ],
   "source": [
    "for_ = 4\n",
    "print(for_)"
   ]
  },
  {
   "cell_type": "code",
   "execution_count": 75,
   "id": "b5860bae-f6c0-484d-8088-138cf420c6cf",
   "metadata": {},
   "outputs": [
    {
     "name": "stdout",
     "output_type": "stream",
     "text": [
      "95.25599999999999\n"
     ]
    }
   ],
   "source": [
    "# 3. Calculate Simple Interest\n",
    "principle_amount = 567.00\n",
    "rate_of_interest = 5.6\n",
    "time = 3\n",
    "simple_interest = principle_amount*rate_of_interest*time/100\n",
    "print(simple_interest)"
   ]
  },
  {
   "cell_type": "code",
   "execution_count": 76,
   "id": "6e90eba3-222b-42e9-afaa-e996ad54d816",
   "metadata": {},
   "outputs": [
    {
     "name": "stdout",
     "output_type": "stream",
     "text": [
      "<class 'float'>\n"
     ]
    }
   ],
   "source": [
    "print(type(simple_interest))"
   ]
  },
  {
   "cell_type": "code",
   "execution_count": 77,
   "id": "11da4a65-116a-488a-8912-3f3275656800",
   "metadata": {},
   "outputs": [
    {
     "name": "stdout",
     "output_type": "stream",
     "text": [
      "662.256\n"
     ]
    }
   ],
   "source": [
    "# total amount after including interest\n",
    "\n",
    "total_amount = principle_amount + simple_interest\n",
    "print(total_amount)"
   ]
  },
  {
   "cell_type": "code",
   "execution_count": null,
   "id": "9f51fe8c-3ba9-45a4-b06c-fc78b0e3a300",
   "metadata": {},
   "outputs": [],
   "source": []
  }
 ],
 "metadata": {
  "kernelspec": {
   "display_name": "",
   "name": ""
  },
  "language_info": {
   "name": ""
  }
 },
 "nbformat": 4,
 "nbformat_minor": 5
}
