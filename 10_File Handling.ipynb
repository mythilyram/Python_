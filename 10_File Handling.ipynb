{
 "cells": [
  {
   "cell_type": "code",
   "execution_count": 3,
   "id": "19bc331e-2ed3-41af-9d07-2f14cc82021a",
   "metadata": {},
   "outputs": [
    {
     "name": "stdout",
     "output_type": "stream",
     "text": [
      "Teacher: Why are you late, raghu?\n",
      "\n",
      "Raghu: Because of the sign\n",
      "\n",
      "Teacher: What sign?\n",
      "\n",
      "Raghu: The one that says \"School Ahead, Go slow\"\n"
     ]
    }
   ],
   "source": [
    "# read file - needs a close statement\n",
    "f=open(\"C:\\\\Users\\\\sathi\\\\OneDrive\\\\Study\\\\Python\\\\source-code\\\\1_python_basics_code\\\\10_file_handling\\\\funny.txt\",\"r\")\n",
    "for line in f:\n",
    "    print(line)\n",
    "f.close()"
   ]
  },
  {
   "cell_type": "code",
   "execution_count": 8,
   "id": "fad754bb-be45-4c91-ae84-fb6016c9d707",
   "metadata": {},
   "outputs": [
    {
     "name": "stdout",
     "output_type": "stream",
     "text": [
      "Teacher: Why are you late, raghu?\n",
      "\n",
      "Raghu: Because of the sign\n",
      "\n",
      "Teacher: What sign?\n",
      "\n",
      "Raghu: The one that says \"School Ahead, Go slow\"\n"
     ]
    }
   ],
   "source": [
    "# with statement - with open(\"filename\",\"mode\")as f:\n",
    "with open(\"C:\\\\Users\\\\sathi\\\\OneDrive\\\\Study\\\\Python\\\\source-code\\\\1_python_basics_code\\\\10_file_handling\\\\funny.txt\",\"r\")as f:\n",
    "    for line in f:\n",
    "        print(line)"
   ]
  },
  {
   "cell_type": "code",
   "execution_count": 10,
   "id": "4a6bddf6-c5e2-4071-bee2-757fe6440ed1",
   "metadata": {},
   "outputs": [
    {
     "name": "stdout",
     "output_type": "stream",
     "text": [
      "['Teacher: Why are you late, raghu?\\n', 'Raghu: Because of the sign\\n', 'Teacher: What sign?\\n', 'Raghu: The one that says \"School Ahead, Go slow\"']\n"
     ]
    }
   ],
   "source": [
    "# readlines()\n",
    "with open(\"C:\\\\Users\\\\sathi\\\\OneDrive\\\\Study\\\\Python\\\\source-code\\\\1_python_basics_code\\\\10_file_handling\\\\funny.txt\", \"r\")as f:\n",
    "    lines = f.readlines()\n",
    "    print(lines)"
   ]
  },
  {
   "cell_type": "code",
   "execution_count": 12,
   "id": "6eb5da97-419e-4813-8365-0a3cd81e463a",
   "metadata": {},
   "outputs": [],
   "source": [
    "# write file\n",
    "with open(\"C:\\\\Users\\\\sathi\\\\OneDrive\\\\Study\\\\Python\\\\source-code\\\\1_python_basics_code\\\\10_file_handling\\\\love.txt\", \"w\") as f:\n",
    "    f.write(\"I love python\")"
   ]
  },
  {
   "cell_type": "code",
   "execution_count": 13,
   "id": "80ced299-8726-40dd-8d6a-1d5e0dae3bbd",
   "metadata": {},
   "outputs": [],
   "source": [
    "# same file when you write i love javascript the previous line goes away\n",
    "with open(\"C:\\\\Users\\\\sathi\\\\OneDrive\\\\Study\\\\Python\\\\source-code\\\\1_python_basics_code\\\\10_file_handling\\\\love.txt\", \"w\") as f:\n",
    "    f.write(\"I love python\")"
   ]
  },
  {
   "cell_type": "code",
   "execution_count": 14,
   "id": "5a6fc405-8168-4da4-8e13-05a0bdbddd2d",
   "metadata": {},
   "outputs": [],
   "source": [
    "# You can use append mode to stop having previous lines overwritten\n",
    "with open(\"C:\\\\Users\\\\sathi\\\\OneDrive\\\\Study\\\\Python\\\\source-code\\\\1_python_basics_code\\\\10_file_handling\\\\love.txt\", \"a\") as f:\n",
    "    f.write(\"I love python\")"
   ]
  },
  {
   "cell_type": "code",
   "execution_count": 15,
   "id": "f34b9882-613c-49bb-bb3a-6a5301e7aa94",
   "metadata": {},
   "outputs": [],
   "source": [
    "# writelines\n",
    "with open(\"C:\\\\Users\\\\sathi\\\\OneDrive\\\\Study\\\\Python\\\\source-code\\\\1_python_basics_code\\\\10_file_handling\\\\love.txt\", \"w\") as f:\n",
    "    f.writelines([\"I love C++\\n\",\"I love scala\"])"
   ]
  },
  {
   "cell_type": "code",
   "execution_count": 16,
   "id": "1d737e55-0b11-4a18-9294-11cf4c05f81e",
   "metadata": {},
   "outputs": [],
   "source": [
    "# program to perform data analytics on cricket player's performance\n",
    "player_scores = {}\n",
    "with open(\"C:\\\\Users\\\\sathi\\\\OneDrive\\\\Study\\\\Python\\\\source-code\\\\1_python_basics_code\\\\10_file_handling\\\\scores.csv\",\"r\") as f:\n",
    "    for line in f:\n",
    "        tokens = line.split(',')\n",
    "        player = tokens[0]\n",
    "        score = int(tokens[1])\n",
    "        if player in player_scores:\n",
    "            player_scores[player].append(score)\n",
    "        else:\n",
    "            player_scores[player] = [score]"
   ]
  },
  {
   "cell_type": "code",
   "execution_count": 17,
   "id": "0b45936a-5879-4bbb-8f22-98c9edeb95eb",
   "metadata": {},
   "outputs": [
    {
     "name": "stdout",
     "output_type": "stream",
     "text": [
      "{'rohit': [9, 120, 105, 140, 130], 'shakib': [56, 78, 102, 72], 'babar': [56, 45, 120, 5, 67]}\n"
     ]
    }
   ],
   "source": [
    "print(player_scores)"
   ]
  },
  {
   "cell_type": "code",
   "execution_count": 18,
   "id": "c4eaa8e6-cb1b-4dba-8ca7-5f616cb1dbfc",
   "metadata": {},
   "outputs": [
    {
     "name": "stdout",
     "output_type": "stream",
     "text": [
      "rohit==>Min:9, Max:140, Avg:100.8\n",
      "shakib==>Min:56, Max:102, Avg:77.0\n",
      "babar==>Min:5, Max:120, Avg:58.6\n"
     ]
    }
   ],
   "source": [
    "for player, score_list in player_scores.items():\n",
    "    min_score=min(score_list)\n",
    "    max_score=max(score_list)\n",
    "    avg_score=sum(score_list)/len(score_list)\n",
    "\n",
    "    print(f\"{player}==>Min:{min_score}, Max:{max_score}, Avg:{avg_score}\")"
   ]
  },
  {
   "cell_type": "markdown",
   "id": "8b019a4f-9f9b-46a4-8ffb-91cf15543a1d",
   "metadata": {},
   "source": [
    "# File Handling Exercise\n",
    "\n",
    "Solution"
   ]
  },
  {
   "cell_type": "markdown",
   "id": "92104ae2-b661-498c-bc63-da592c172e36",
   "metadata": {},
   "source": [
    "### 1. student_marks.csv contains the marks and other details for some students. Write a python program to:\n",
    "- Open the file in read mode\n",
    "- Create dictionary from the given data\n",
    "- Add a new field to the dictionary `total_marks` and store total marks of the students.\n",
    "- Add new field to the dictionary `Average` and store average marks of the students\n",
    "- Sort the data according to the average marks of the students\n",
    "- Create a new file and write this information to the new file\n",
    "\t(https://www.kaggle.com/arunkumar413/student-marks)"
   ]
  },
  {
   "cell_type": "code",
   "execution_count": 19,
   "id": "466a2b8b-88e0-49f5-b32f-17b8b2f232cc",
   "metadata": {},
   "outputs": [],
   "source": [
    "# openning the file in read mode\n",
    "f = open('C:\\\\Users\\\\sathi\\\\OneDrive\\\\Study\\\\Python\\\\Codebasics_python\\\\student_marks.csv', 'r')"
   ]
  },
  {
   "cell_type": "code",
   "execution_count": 20,
   "id": "4d12359d-0365-4bfb-b526-441707778f99",
   "metadata": {},
   "outputs": [
    {
     "data": {
      "text/plain": [
       "',Gender,DOB,Maths,Physics,Chemistry,English,Biology,Economics,History,Civics\\nJohn,M,05/04/1988,55,45,56,87,21,52,89,65\\nSuresh,M,4/5/1987,75,55,,64,90,61,58,2\\nRamesh,M,25/5/1989,25,54,89,76,95,87,56,74\\nJessica,F,12/8/1990,78,55,86,63,54,89,75,45\\nJennifer,F,2/9/1989,58,96,78,46,96,77,83,53'"
      ]
     },
     "execution_count": 20,
     "metadata": {},
     "output_type": "execute_result"
    }
   ],
   "source": [
    "#let's see the contents of the file\n",
    "f.read()"
   ]
  },
  {
   "cell_type": "code",
   "execution_count": 21,
   "id": "b05bcfff-226f-4888-9046-0046852592c4",
   "metadata": {},
   "outputs": [
    {
     "data": {
      "text/plain": [
       "',Gender,DOB,Maths,Physics,Chemistry,English,Biology,Economics,History,Civics\\n'"
      ]
     },
     "execution_count": 21,
     "metadata": {},
     "output_type": "execute_result"
    }
   ],
   "source": [
    "# creating dictionary\n",
    "f.seek(0)  #goto the start again\n",
    "\n",
    "#creating a dictionary to store as {key: value} pair \n",
    "d = {}\n",
    "\n",
    "#1st line contain all the attributes names\n",
    "keys = f.readline()\n",
    "keys"
   ]
  },
  {
   "cell_type": "code",
   "execution_count": 22,
   "id": "32ce6152-e0a0-4c51-9361-057bab118392",
   "metadata": {},
   "outputs": [
    {
     "data": {
      "text/plain": [
       "['',\n",
       " 'Gender',\n",
       " 'DOB',\n",
       " 'Maths',\n",
       " 'Physics',\n",
       " 'Chemistry',\n",
       " 'English',\n",
       " 'Biology',\n",
       " 'Economics',\n",
       " 'History',\n",
       " 'Civics']"
      ]
     },
     "execution_count": 22,
     "metadata": {},
     "output_type": "execute_result"
    }
   ],
   "source": [
    "#let split on ',' and get all the attributes names\n",
    "keys = keys.split(',')\n",
    "keys[-1] = keys[-1][:-1]    # removing extra '\\n' for Civics attribute [Very Important]\n",
    "keys"
   ]
  },
  {
   "cell_type": "code",
   "execution_count": 23,
   "id": "51a80c98-9aa5-422d-b21e-5df8200eb0ed",
   "metadata": {},
   "outputs": [
    {
     "name": "stdout",
     "output_type": "stream",
     "text": [
      "{'': [], 'Gender': [], 'DOB': [], 'Maths': [], 'Physics': [], 'Chemistry': [], 'English': [], 'Biology': [], 'Economics': [], 'History': [], 'Civics': []}\n"
     ]
    }
   ],
   "source": [
    "# intializing the dictionary with the attributes that we have got and defining values as empty list\n",
    "for key in keys:\n",
    "    d[key] = []\n",
    "\n",
    "print(d)"
   ]
  },
  {
   "cell_type": "code",
   "execution_count": 24,
   "id": "77ae4d77-3e06-49c0-b7d3-b4f7dec56349",
   "metadata": {},
   "outputs": [
    {
     "name": "stdout",
     "output_type": "stream",
     "text": [
      "{'': ['John', 'Suresh', 'Ramesh', 'Jessica', 'Jennifer'], 'Gender': ['M', 'M', 'M', 'F', 'F'], 'DOB': ['05/04/1988', '4/5/1987', '25/5/1989', '12/8/1990', '2/9/1989'], 'Maths': ['55', '75', '25', '78', '58'], 'Physics': ['45', '55', '54', '55', '96'], 'Chemistry': ['56', '', '89', '86', '78'], 'English': ['87', '64', '76', '63', '46'], 'Biology': ['21', '90', '95', '54', '96'], 'Economics': ['52', '61', '87', '89', '77'], 'History': ['89', '58', '56', '75', '83'], 'Civics': ['65', '2', '74', '45', '5']}\n"
     ]
    }
   ],
   "source": [
    "# Adding data to the dictionary\n",
    "for line in f.readlines():\n",
    "    data = line.split(',')\n",
    "    data[-1] = data[-1][:-1]    # removing extra '\\n' from the attribute 'Civics'\n",
    "    \n",
    "    j = 0   #for placing each values in correct key\n",
    "    for key in d:\n",
    "        d[key].append(data[j])\n",
    "        j += 1\n",
    "\n",
    "print(d)"
   ]
  },
  {
   "cell_type": "code",
   "execution_count": 25,
   "id": "c025fbbf-0e0c-49a4-b2ba-370ef2e5f05d",
   "metadata": {},
   "outputs": [
    {
     "name": "stdout",
     "output_type": "stream",
     "text": [
      "{'': ['John', 'Suresh', 'Ramesh', 'Jessica', 'Jennifer'],\n",
      " 'Biology': ['21', '90', '95', '54', '96'],\n",
      " 'Chemistry': ['56', '', '89', '86', '78'],\n",
      " 'Civics': ['65', '2', '74', '45', '5'],\n",
      " 'DOB': ['05/04/1988', '4/5/1987', '25/5/1989', '12/8/1990', '2/9/1989'],\n",
      " 'Economics': ['52', '61', '87', '89', '77'],\n",
      " 'English': ['87', '64', '76', '63', '46'],\n",
      " 'Gender': ['M', 'M', 'M', 'F', 'F'],\n",
      " 'History': ['89', '58', '56', '75', '83'],\n",
      " 'Maths': ['55', '75', '25', '78', '58'],\n",
      " 'Physics': ['45', '55', '54', '55', '96']}\n"
     ]
    }
   ],
   "source": [
    "#let's print in nice format\n",
    "\n",
    "import pprint\n",
    "\n",
    "pprint.pprint(d)"
   ]
  },
  {
   "cell_type": "code",
   "execution_count": 27,
   "id": "b9c58f80-1a4f-436e-bd77-579bb7fac914",
   "metadata": {},
   "outputs": [
    {
     "name": "stdout",
     "output_type": "stream",
     "text": [
      "Keys: \n",
      "dict_keys(['', 'Gender', 'DOB', 'Maths', 'Physics', 'Chemistry', 'English', 'Biology', 'Economics', 'History', 'Civics'])\n"
     ]
    }
   ],
   "source": [
    "#let's see all the keys once\n",
    "\n",
    "print(\"Keys: \")\n",
    "print(d.keys())"
   ]
  },
  {
   "cell_type": "code",
   "execution_count": 28,
   "id": "d1c6ebaf-bd2b-46a6-a7c0-0acc5fe9e1b2",
   "metadata": {},
   "outputs": [
    {
     "name": "stdout",
     "output_type": "stream",
     "text": [
      "Values: \n",
      "dict_values([['John', 'Suresh', 'Ramesh', 'Jessica', 'Jennifer'], ['M', 'M', 'M', 'F', 'F'], ['05/04/1988', '4/5/1987', '25/5/1989', '12/8/1990', '2/9/1989'], ['55', '75', '25', '78', '58'], ['45', '55', '54', '55', '96'], ['56', '', '89', '86', '78'], ['87', '64', '76', '63', '46'], ['21', '90', '95', '54', '96'], ['52', '61', '87', '89', '77'], ['89', '58', '56', '75', '83'], ['65', '2', '74', '45', '5']])\n"
     ]
    }
   ],
   "source": [
    "#let's see all the values once\n",
    "\n",
    "print(\"Values: \")\n",
    "print(d.values())"
   ]
  },
  {
   "cell_type": "code",
   "execution_count": null,
   "id": "6e39c40a-48c2-45e4-b6b3-18a979551923",
   "metadata": {},
   "outputs": [],
   "source": []
  },
  {
   "cell_type": "markdown",
   "id": "ec562b6d-3952-42be-b623-59fa6b7fd8a9",
   "metadata": {},
   "source": [
    "**Task1: calculating the total marks**"
   ]
  },
  {
   "cell_type": "code",
   "execution_count": 30,
   "id": "b054e917-0c94-4b31-b23b-5f07c51255c1",
   "metadata": {},
   "outputs": [],
   "source": [
    "#here we have 5 students John, Suresh, Ramesh, Jessica, Jennifer\n",
    "#here we have 8 subjects 'Maths', 'Physics', 'Chemistry', 'English', 'Biology', 'Economics', 'History', 'Civics'\n",
    "\n",
    "#let's create another key \"total_marks\" in the dictionary to store the total marks for these 5 students\n",
    "#initially let's define the marks as 0\n",
    "\n",
    "d['total_marks'] = [0]* 5   #this will results in [0, 0, 0, 0, 0]\n",
    "\n",
    "#let's define all the subjects that students wrote the exam in another list\n",
    "all_subjects = ['Maths', 'Physics', 'Chemistry', 'English', 'Biology', 'Economics', 'History', 'Civics']"
   ]
  },
  {
   "cell_type": "code",
   "execution_count": 31,
   "id": "a5778a02-ce1f-472a-be9a-086ab7a6809a",
   "metadata": {},
   "outputs": [],
   "source": [
    "for i in range(0, 5):    #Because we have 5 students\n",
    "    sum_marks = 0        #let use one varibale which keep the sum of all subjects for each student\n",
    "    for subject in all_subjects:\n",
    "        try:\n",
    "            #d[subject][i] --> for that particular student [i], get particular subject marks\n",
    "            sum_marks = sum_marks + int(d[subject][i])  \n",
    "        except:\n",
    "            #because we have empty marks for some subjects like chemistry [may be that student did not write that exam]\n",
    "            pass\n",
    "    \n",
    "    #finally assigning the sum_marks to the dictionary d for that student i\n",
    "    d['total_marks'][i] = sum_marks"
   ]
  },
  {
   "cell_type": "code",
   "execution_count": 32,
   "id": "02b87b1d-63eb-4281-a424-83a6b86c8b31",
   "metadata": {},
   "outputs": [
    {
     "data": {
      "text/plain": [
       "[470, 405, 556, 545, 539]"
      ]
     },
     "execution_count": 32,
     "metadata": {},
     "output_type": "execute_result"
    }
   ],
   "source": [
    "#let's print the total marks\n",
    "d['total_marks']"
   ]
  },
  {
   "cell_type": "code",
   "execution_count": null,
   "id": "88ad3726-9474-4401-a341-dc8a2b3365e9",
   "metadata": {},
   "outputs": [],
   "source": []
  },
  {
   "cell_type": "markdown",
   "id": "f2ed3c04-9336-4d79-8d44-c389b0ac91e1",
   "metadata": {},
   "source": [
    "**Task2: calculating the Average marks**"
   ]
  },
  {
   "cell_type": "code",
   "execution_count": 34,
   "id": "413911e3-75c2-4f1e-afd3-33b0b5a53892",
   "metadata": {},
   "outputs": [
    {
     "name": "stdout",
     "output_type": "stream",
     "text": [
      "[58.75, 50.625, 69.5, 68.125, 67.375]\n"
     ]
    }
   ],
   "source": [
    "# Calculating the average marks\n",
    "d['Average Marks'] = [0]*5  # [0]*5 because we have 5 students\n",
    "\n",
    "total_subjects = len(all_subjects) #['Maths', 'Physics', 'Chemistry', 'English', 'Biology', 'Economics', 'History', 'Civics']\n",
    "\n",
    "for i in range(5):\n",
    "    d['Average Marks'][i] = d['total_marks'][i]/total_subjects\n",
    "\n",
    "print(d['Average Marks'])"
   ]
  },
  {
   "cell_type": "code",
   "execution_count": null,
   "id": "eeee5a49-1860-4040-8dba-eb36c29b0f3f",
   "metadata": {},
   "outputs": [],
   "source": []
  },
  {
   "cell_type": "markdown",
   "id": "2ce56efc-4a9a-46f3-91cf-9a489d0c5da7",
   "metadata": {},
   "source": [
    "**Task3**\n",
    "\n",
    "- Can you create a new CSV file from the above student_marks.csv file? The output file should contain the following all the dictionary data with added new total marks and average marks:"
   ]
  },
  {
   "cell_type": "code",
   "execution_count": 35,
   "id": "4fe08c63-390a-4513-bdec-70ae278c21dc",
   "metadata": {},
   "outputs": [
    {
     "name": "stdout",
     "output_type": "stream",
     "text": [
      "Writing to the file (<_io.TextIOWrapper name='output.csv' mode='w' encoding='cp1252'>) is done.\n"
     ]
    }
   ],
   "source": [
    "#opening the file in write mode\n",
    "f_out = open(\"output.csv\", \"w\")\n",
    "\n",
    "#joinging all the keys with comma as seperator\n",
    "header = ','.join([key for key in d.keys()])\n",
    "f_out.write(header+'\\n')\n",
    "\n",
    "#for values [joining by each attribute values]\n",
    "for key in d:\n",
    "    vals = ','.join([str(v) for v in d[key]])\n",
    "    f_out.write(f\"{vals}\\n\")\n",
    "\n",
    "#closing the file\n",
    "f_out.close()\n",
    "print(f\"Writing to the file ({f_out}) is done.\")"
   ]
  },
  {
   "cell_type": "code",
   "execution_count": 36,
   "id": "fb6826b8-f161-4762-85b7-91f7cd34f3df",
   "metadata": {},
   "outputs": [
    {
     "name": "stdout",
     "output_type": "stream",
     "text": [
      ",Gender,DOB,Maths,Physics,Chemistry,English,Biology,Economics,History,Civics,total_marks,Average Marks\n",
      "John,Suresh,Ramesh,Jessica,Jennifer\n",
      "M,M,M,F,F\n",
      "05/04/1988,4/5/1987,25/5/1989,12/8/1990,2/9/1989\n",
      "55,75,25,78,58\n",
      "45,55,54,55,96\n",
      "56,,89,86,78\n",
      "87,64,76,63,46\n",
      "21,90,95,54,96\n",
      "52,61,87,89,77\n",
      "89,58,56,75,83\n",
      "65,2,74,45,5\n",
      "470,405,556,545,539\n",
      "58.75,50.625,69.5,68.125,67.375\n",
      "\n"
     ]
    }
   ],
   "source": [
    "# check the file\n",
    "with open(\"output.csv\", 'r') as f:\n",
    "    print(f.read())"
   ]
  }
 ],
 "metadata": {
  "kernelspec": {
   "display_name": "Python 3 (ipykernel)",
   "language": "python",
   "name": "python3"
  },
  "language_info": {
   "codemirror_mode": {
    "name": "ipython",
    "version": 3
   },
   "file_extension": ".py",
   "mimetype": "text/x-python",
   "name": "python",
   "nbconvert_exporter": "python",
   "pygments_lexer": "ipython3",
   "version": "3.8.10"
  }
 },
 "nbformat": 4,
 "nbformat_minor": 5
}
