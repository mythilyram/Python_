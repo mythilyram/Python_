{
 "cells": [
  {
   "cell_type": "markdown",
   "id": "13df40ea-38dd-409d-af3c-6d0aeb1fad7a",
   "metadata": {},
   "source": [
    "<h3 style='color:blue'>Tuples</h3>"
   ]
  },
  {
   "cell_type": "markdown",
   "id": "65f15856-ee14-431d-94c4-d853a328845e",
   "metadata": {},
   "source": [
    "Tuples are immutable. once initialized, value cannot be changed. Memory management is easier and more efficient. Memory is fixed. \n",
    "\n",
    "Python Lists store values of similar concepts. \n",
    "expenses=[1200,1400,1700] \n",
    "Lists are dynamic arrays. Memory mgnt is expensive. \n",
    "Lists can grow dynamically whereas tuples have a fixed size hence they are more memory efficient"
   ]
  },
  {
   "cell_type": "code",
   "execution_count": 1,
   "id": "58e619d9-afcf-4708-b6aa-f16d84de1f8e",
   "metadata": {},
   "outputs": [],
   "source": [
    "# Tuples are useful when you want to return multiple values from a function\n",
    "\n",
    "def find_pe_and_pb(price, eps, book_value):\n",
    "    pe = price/eps\n",
    "    pb = price/book_value\n",
    "    return pe, pb"
   ]
  },
  {
   "cell_type": "code",
   "execution_count": 2,
   "id": "f17c707f-5279-460b-a7a3-cf4d79c62cd5",
   "metadata": {},
   "outputs": [],
   "source": [
    "pe_ratio, pb_ratio = find_pe_and_pb(100, 2, 4)"
   ]
  },
  {
   "cell_type": "code",
   "execution_count": 3,
   "id": "45f7c580-aecd-4980-875b-3c280e1962d1",
   "metadata": {},
   "outputs": [
    {
     "data": {
      "text/plain": [
       "(50.0, 25.0)"
      ]
     },
     "execution_count": 3,
     "metadata": {},
     "output_type": "execute_result"
    }
   ],
   "source": [
    "pe_ratio, pb_ratio"
   ]
  },
  {
   "cell_type": "markdown",
   "id": "d7fb0b62-1346-49dc-bfc2-6a4d78720da5",
   "metadata": {},
   "source": [
    "<h3 style='color:blue'>Dictionary</h3>"
   ]
  },
  {
   "cell_type": "markdown",
   "id": "bf1a2a8c-4df0-4fa3-934a-d47957e96a82",
   "metadata": {},
   "source": [
    "Let's say you want to write a python program that can store phone numbers. Here you will have name of the person and a phone number. Say you have following people and their phone numbers,\n",
    "\n",
    "rachel => 8887771111\n",
    "monica => 9195675555\n",
    "joey => 3332229999\n",
    "\n",
    "One way to store this information is using a list of tuples as shown below,"
   ]
  },
  {
   "cell_type": "code",
   "execution_count": 6,
   "id": "4d7f7d9e-549f-4a23-8c0d-3696c725a30f",
   "metadata": {},
   "outputs": [],
   "source": [
    "contacts = [('rachel',8887771111), ('monica',9195675555), ('joey',3332229999)]"
   ]
  },
  {
   "cell_type": "code",
   "execution_count": 8,
   "id": "1131b952-f9b2-4597-b8bf-7ca90dfaa6b3",
   "metadata": {},
   "outputs": [
    {
     "name": "stdout",
     "output_type": "stream",
     "text": [
      "3332229999\n"
     ]
    }
   ],
   "source": [
    "# But here when you want to search for a phone number of a specific person you will have \n",
    "# to run a for loop and search the records sequentially\n",
    "for contact in contacts:\n",
    "    if contact[0]=='joey':\n",
    "        print(contact[1])"
   ]
  },
  {
   "cell_type": "markdown",
   "id": "d6ecb320-f7ec-4de6-be09-6dc7c71e04ef",
   "metadata": {},
   "source": [
    "If list is very long say 10000 elements and element you are looking for is at the end, you would have now done 10000 iterations in the loop which is not efficient. In terms of memory complexity this is O(n).\n",
    "\n",
    "There is a better data structure called dictionary that allows you to search for an element in Big O(1) (or constant time complexity). Now we will define a python dictionary"
   ]
  },
  {
   "cell_type": "code",
   "execution_count": 7,
   "id": "9f1a9d82-a86f-4b1a-ba81-88329d4fa156",
   "metadata": {},
   "outputs": [],
   "source": [
    "d = {\n",
    "    'rachel': 8887771111,\n",
    "    'monica': 9195675555,\n",
    "    'joey': 3332229999\n",
    "}"
   ]
  },
  {
   "cell_type": "code",
   "execution_count": 5,
   "id": "bf46eac9-6a6b-484d-af26-04e3ed8b54ea",
   "metadata": {},
   "outputs": [
    {
     "data": {
      "text/plain": [
       "3332229999"
      ]
     },
     "execution_count": 5,
     "metadata": {},
     "output_type": "execute_result"
    }
   ],
   "source": [
    "d['joey']"
   ]
  },
  {
   "cell_type": "markdown",
   "id": "c656d33b-cde0-413d-9812-46fdcbe28a23",
   "metadata": {},
   "source": [
    "Accessing an element in a dictionary by a key is very fast (i.e. O(1) or constant time complexity).\n",
    "Now what happens if you try to access an elementby a key that doesn't exist in a dictionary"
   ]
  },
  {
   "cell_type": "code",
   "execution_count": 10,
   "id": "28482bce-4978-4cc5-ac3f-d95e6323b885",
   "metadata": {},
   "outputs": [
    {
     "ename": "KeyError",
     "evalue": "'satya'",
     "output_type": "error",
     "traceback": [
      "\u001b[1;31m---------------------------------------------------------------------------\u001b[0m",
      "\u001b[1;31mKeyError\u001b[0m                                  Traceback (most recent call last)",
      "Cell \u001b[1;32mIn[10], line 1\u001b[0m\n\u001b[1;32m----> 1\u001b[0m \u001b[43md\u001b[49m\u001b[43m[\u001b[49m\u001b[38;5;124;43m'\u001b[39;49m\u001b[38;5;124;43msatya\u001b[39;49m\u001b[38;5;124;43m'\u001b[39;49m\u001b[43m]\u001b[49m\n",
      "\u001b[1;31mKeyError\u001b[0m: 'satya'"
     ]
    }
   ],
   "source": [
    "d['satya']"
   ]
  },
  {
   "cell_type": "markdown",
   "id": "c6327245-2cd5-4e42-820b-1b227ae23275",
   "metadata": {},
   "source": [
    "*You can use get function which returns None if the element doesn't exist. (=>No value is returned)*"
   ]
  },
  {
   "cell_type": "code",
   "execution_count": 29,
   "id": "a00e677a-7f20-4754-a3ae-d78b553d1a4c",
   "metadata": {},
   "outputs": [],
   "source": [
    "d.get('satya')"
   ]
  },
  {
   "cell_type": "markdown",
   "id": "599bc588-dc3c-4f66-a204-b29a6cf4a72f",
   "metadata": {},
   "source": [
    "* You can supply default value, if item does not exists*. If item is found, it gives the corresp value.*"
   ]
  },
  {
   "cell_type": "code",
   "execution_count": 31,
   "id": "2391a52e-edce-49f2-ad7a-c2ffb7499676",
   "metadata": {},
   "outputs": [
    {
     "data": {
      "text/plain": [
       "0"
      ]
     },
     "execution_count": 31,
     "metadata": {},
     "output_type": "execute_result"
    }
   ],
   "source": [
    "d.get('satya', 0)"
   ]
  },
  {
   "cell_type": "markdown",
   "id": "3d23d3e1-a713-46a7-a523-5056c88456fe",
   "metadata": {},
   "source": [
    "**Change value of existing element**"
   ]
  },
  {
   "cell_type": "code",
   "execution_count": 33,
   "id": "a0a67f0b-ee13-46a1-bd58-4a3b06c4b105",
   "metadata": {},
   "outputs": [
    {
     "data": {
      "text/plain": [
       "1112568888"
      ]
     },
     "execution_count": 33,
     "metadata": {},
     "output_type": "execute_result"
    }
   ],
   "source": [
    "d['rachel'] #returns current value"
   ]
  },
  {
   "cell_type": "code",
   "execution_count": 15,
   "id": "1c3e2403-5102-4942-a5b9-e2a52a57008d",
   "metadata": {},
   "outputs": [
    {
     "data": {
      "text/plain": [
       "1112568888"
      ]
     },
     "execution_count": 15,
     "metadata": {},
     "output_type": "execute_result"
    }
   ],
   "source": [
    "d['rachel']=1112568888\n",
    "d['rachel']"
   ]
  },
  {
   "cell_type": "markdown",
   "id": "00b46ead-02be-4a6f-b97c-2f39d21e8ce2",
   "metadata": {},
   "source": [
    "**Add new element**"
   ]
  },
  {
   "cell_type": "code",
   "execution_count": 16,
   "id": "5c6d2aaf-b88c-4717-a34c-173c19feeaa6",
   "metadata": {},
   "outputs": [
    {
     "data": {
      "text/plain": [
       "{'rachel': 1112568888,\n",
       " 'monica': 9195675555,\n",
       " 'joey': 3332229999,\n",
       " 'satya': 2228764555}"
      ]
     },
     "execution_count": 16,
     "metadata": {},
     "output_type": "execute_result"
    }
   ],
   "source": [
    "d['satya']=2228764555\n",
    "d"
   ]
  },
  {
   "cell_type": "markdown",
   "id": "1b23b982-b9ac-4939-b517-55da1424dcba",
   "metadata": {},
   "source": [
    "**Delete an element**"
   ]
  },
  {
   "cell_type": "code",
   "execution_count": 17,
   "id": "edb52ab8-df51-4266-9a2d-d3d8aca164f0",
   "metadata": {},
   "outputs": [
    {
     "data": {
      "text/plain": [
       "{'rachel': 1112568888, 'monica': 9195675555, 'joey': 3332229999}"
      ]
     },
     "execution_count": 17,
     "metadata": {},
     "output_type": "execute_result"
    }
   ],
   "source": [
    "del d['satya']\n",
    "d"
   ]
  },
  {
   "cell_type": "markdown",
   "id": "ec18896d-0cbb-4511-be42-f6469d540c1a",
   "metadata": {},
   "source": [
    "**in operator**"
   ]
  },
  {
   "cell_type": "code",
   "execution_count": 18,
   "id": "68ada656-57ce-49c3-9108-2ac4baf81859",
   "metadata": {},
   "outputs": [
    {
     "data": {
      "text/plain": [
       "False"
      ]
     },
     "execution_count": 18,
     "metadata": {},
     "output_type": "execute_result"
    }
   ],
   "source": [
    "'abdul' in d"
   ]
  },
  {
   "cell_type": "code",
   "execution_count": 19,
   "id": "8dd6751e-41f9-4ee4-8546-9cfedb2a45c0",
   "metadata": {},
   "outputs": [
    {
     "data": {
      "text/plain": [
       "True"
      ]
     },
     "execution_count": 19,
     "metadata": {},
     "output_type": "execute_result"
    }
   ],
   "source": [
    "'rachel' in d"
   ]
  },
  {
   "cell_type": "markdown",
   "id": "6e5261a3-e289-449e-826b-2ae35b108c83",
   "metadata": {},
   "source": [
    "**Dictionary can store any data type as its value. Below the value in the dictionary is another dictionary**"
   ]
  },
  {
   "cell_type": "code",
   "execution_count": 20,
   "id": "d0329350-acb9-49ed-8dc1-ba34089ca82d",
   "metadata": {},
   "outputs": [],
   "source": [
    "contact_dict = {\n",
    "    'rachel' : { 'phone': 1234, 'address': '1 blue st' },\n",
    "    'joey' : { 'phone': 999, 'address': '7 newton blvd' }\n",
    "}"
   ]
  },
  {
   "cell_type": "code",
   "execution_count": 21,
   "id": "7d709f73-e5d9-457b-adf5-0a3de9264655",
   "metadata": {},
   "outputs": [
    {
     "data": {
      "text/plain": [
       "'1 blue st'"
      ]
     },
     "execution_count": 21,
     "metadata": {},
     "output_type": "execute_result"
    }
   ],
   "source": [
    "contact_dict['rachel']['address']"
   ]
  },
  {
   "cell_type": "code",
   "execution_count": 22,
   "id": "286741c8-dce6-4e5c-ac85-62b677b64ae7",
   "metadata": {},
   "outputs": [
    {
     "data": {
      "text/plain": [
       "1234"
      ]
     },
     "execution_count": 22,
     "metadata": {},
     "output_type": "execute_result"
    }
   ],
   "source": [
    "contact_dict['rachel']['phone']"
   ]
  },
  {
   "cell_type": "markdown",
   "id": "aff431c0-1ba2-46d0-8a96-951829b9b945",
   "metadata": {},
   "source": [
    "**Iterate through every element and print their values**"
   ]
  },
  {
   "cell_type": "code",
   "execution_count": 24,
   "id": "594148b7-f3e6-4607-a30f-589346828f67",
   "metadata": {},
   "outputs": [
    {
     "name": "stdout",
     "output_type": "stream",
     "text": [
      "rachel 1112568888\n",
      "monica 9195675555\n",
      "joey 3332229999\n"
     ]
    }
   ],
   "source": [
    "for name in d:\n",
    "    print(name, d[name])"
   ]
  },
  {
   "cell_type": "code",
   "execution_count": 25,
   "id": "a4715191-964b-495c-bdec-8f8195def348",
   "metadata": {},
   "outputs": [
    {
     "name": "stdout",
     "output_type": "stream",
     "text": [
      "rachel 1112568888\n",
      "monica 9195675555\n",
      "joey 3332229999\n"
     ]
    }
   ],
   "source": [
    "for name, number in d.items():\n",
    "    print(name, number)"
   ]
  },
  {
   "cell_type": "markdown",
   "id": "18fe35e0-f5ff-4059-afdb-7fd544c959f0",
   "metadata": {},
   "source": [
    "**Get only keys or only values**"
   ]
  },
  {
   "cell_type": "code",
   "execution_count": 26,
   "id": "d34ea825-67a7-4869-bf86-954d1a37286a",
   "metadata": {},
   "outputs": [
    {
     "data": {
      "text/plain": [
       "['__class__',\n",
       " '__contains__',\n",
       " '__delattr__',\n",
       " '__delitem__',\n",
       " '__dir__',\n",
       " '__doc__',\n",
       " '__eq__',\n",
       " '__format__',\n",
       " '__ge__',\n",
       " '__getattribute__',\n",
       " '__getitem__',\n",
       " '__gt__',\n",
       " '__hash__',\n",
       " '__init__',\n",
       " '__init_subclass__',\n",
       " '__iter__',\n",
       " '__le__',\n",
       " '__len__',\n",
       " '__lt__',\n",
       " '__ne__',\n",
       " '__new__',\n",
       " '__reduce__',\n",
       " '__reduce_ex__',\n",
       " '__repr__',\n",
       " '__reversed__',\n",
       " '__setattr__',\n",
       " '__setitem__',\n",
       " '__sizeof__',\n",
       " '__str__',\n",
       " '__subclasshook__',\n",
       " 'clear',\n",
       " 'copy',\n",
       " 'fromkeys',\n",
       " 'get',\n",
       " 'items',\n",
       " 'keys',\n",
       " 'pop',\n",
       " 'popitem',\n",
       " 'setdefault',\n",
       " 'update',\n",
       " 'values']"
      ]
     },
     "execution_count": 26,
     "metadata": {},
     "output_type": "execute_result"
    }
   ],
   "source": [
    "dir(d)"
   ]
  },
  {
   "cell_type": "code",
   "execution_count": 27,
   "id": "ff97bc55-7310-4c46-a135-1b8a2047207e",
   "metadata": {},
   "outputs": [
    {
     "data": {
      "text/plain": [
       "dict_keys(['rachel', 'monica', 'joey'])"
      ]
     },
     "execution_count": 27,
     "metadata": {},
     "output_type": "execute_result"
    }
   ],
   "source": [
    "d.keys()"
   ]
  },
  {
   "cell_type": "code",
   "execution_count": 28,
   "id": "5e9a9daf-f3dc-4c92-9855-7022759d11c8",
   "metadata": {},
   "outputs": [
    {
     "data": {
      "text/plain": [
       "dict_values([1112568888, 9195675555, 3332229999])"
      ]
     },
     "execution_count": 28,
     "metadata": {},
     "output_type": "execute_result"
    }
   ],
   "source": [
    "d.values()"
   ]
  },
  {
   "cell_type": "code",
   "execution_count": 35,
   "id": "3ec8e3db-b86a-4426-9e57-82a0ce11fc30",
   "metadata": {},
   "outputs": [
    {
     "data": {
      "text/plain": [
       "[1112568888, 9195675555, 3332229999]"
      ]
     },
     "execution_count": 35,
     "metadata": {},
     "output_type": "execute_result"
    }
   ],
   "source": [
    "list(d.values()) #converts into a list."
   ]
  },
  {
   "cell_type": "code",
   "execution_count": 36,
   "id": "e5dd63cf-4ca6-4451-9fa6-cad9deb28799",
   "metadata": {},
   "outputs": [
    {
     "data": {
      "text/plain": [
       "dict_items([('rachel', 1112568888), ('monica', 9195675555), ('joey', 3332229999)])"
      ]
     },
     "execution_count": 36,
     "metadata": {},
     "output_type": "execute_result"
    }
   ],
   "source": [
    "d.items()"
   ]
  },
  {
   "cell_type": "markdown",
   "id": "0860d941-07ea-47c1-8bfd-377061cc1b6c",
   "metadata": {},
   "source": [
    "<h3 style='color:blue'>Excercise</h3>"
   ]
  },
  {
   "cell_type": "markdown",
   "id": "066f4758-8208-44da-984a-a3ed67a12906",
   "metadata": {},
   "source": [
    "Create a list of your friends' names and now create a list of tuples. The tuple should contain the friend’s name and the length of the name. For Example: if someone’s name is Aditya, the tuple would be: (‘Aditya’, 6)"
   ]
  },
  {
   "cell_type": "code",
   "execution_count": 50,
   "id": "63baf8da-dc66-4240-973e-8bf49bc32ab8",
   "metadata": {},
   "outputs": [],
   "source": [
    "friends = ['Keerthana','Lavanya','Bhagya','Vinu','Jency','Annie','Raji','Mala']"
   ]
  },
  {
   "cell_type": "code",
   "execution_count": 47,
   "id": "fe368c14-9ad6-4380-90bf-63836886b396",
   "metadata": {},
   "outputs": [
    {
     "ename": "TypeError",
     "evalue": "append() takes exactly one argument (2 given)",
     "output_type": "error",
     "traceback": [
      "\u001b[1;31m---------------------------------------------------------------------------\u001b[0m",
      "\u001b[1;31mTypeError\u001b[0m                                 Traceback (most recent call last)",
      "Cell \u001b[1;32mIn[47], line 6\u001b[0m\n\u001b[0;32m      4\u001b[0m         new_list\u001b[38;5;241m.\u001b[39mappend(friend,\u001b[38;5;28mlen\u001b[39m(friend))\n\u001b[0;32m      5\u001b[0m     \u001b[38;5;28;01mreturn\u001b[39;00m new_list\n\u001b[1;32m----> 6\u001b[0m new_list \u001b[38;5;241m=\u001b[39m \u001b[43mlist_of_tuples\u001b[49m\u001b[43m(\u001b[49m\u001b[43mfriends\u001b[49m\u001b[43m)\u001b[49m\n",
      "Cell \u001b[1;32mIn[47], line 4\u001b[0m, in \u001b[0;36mlist_of_tuples\u001b[1;34m(friends)\u001b[0m\n\u001b[0;32m      2\u001b[0m new_list \u001b[38;5;241m=\u001b[39m []\n\u001b[0;32m      3\u001b[0m \u001b[38;5;28;01mfor\u001b[39;00m friend \u001b[38;5;129;01min\u001b[39;00m friends:\n\u001b[1;32m----> 4\u001b[0m     \u001b[43mnew_list\u001b[49m\u001b[38;5;241;43m.\u001b[39;49m\u001b[43mappend\u001b[49m\u001b[43m(\u001b[49m\u001b[43mfriend\u001b[49m\u001b[43m,\u001b[49m\u001b[38;5;28;43mlen\u001b[39;49m\u001b[43m(\u001b[49m\u001b[43mfriend\u001b[49m\u001b[43m)\u001b[49m\u001b[43m)\u001b[49m\n\u001b[0;32m      5\u001b[0m \u001b[38;5;28;01mreturn\u001b[39;00m new_list\n",
      "\u001b[1;31mTypeError\u001b[0m: append() takes exactly one argument (2 given)"
     ]
    }
   ],
   "source": [
    "def list_of_tuples(friends):\n",
    "    new_list = []\n",
    "    for friend in friends:\n",
    "        new_list.append(friend,len(friend))\n",
    "    return new_list\n",
    "new_list = list_of_tuples(friends)"
   ]
  },
  {
   "cell_type": "code",
   "execution_count": 51,
   "id": "28a259e5-87d0-42f3-ae98-ba70ae655c0e",
   "metadata": {},
   "outputs": [
    {
     "data": {
      "text/plain": [
       "[('Keerthana', 9),\n",
       " ('Lavanya', 7),\n",
       " ('Bhagya', 6),\n",
       " ('Vinu', 4),\n",
       " ('Jency', 5),\n",
       " ('Annie', 5),\n",
       " ('Raji', 4),\n",
       " ('Mala', 4)]"
      ]
     },
     "execution_count": 51,
     "metadata": {},
     "output_type": "execute_result"
    }
   ],
   "source": [
    "def list_of_tuples(friends):\n",
    "    new_list = []\n",
    "    for friend in friends:\n",
    "        friend_tuple = friend,len(friend)\n",
    "        new_list.append(friend_tuple)\n",
    "    return new_list\n",
    "new_list = list_of_tuples(friends)\n",
    "new_list"
   ]
  },
  {
   "cell_type": "markdown",
   "id": "b6a22d50-cf06-43e4-92fe-b01e9826b912",
   "metadata": {},
   "source": [
    "### 2.  You and your wife argued upon expenses last night. You both want to know who is spending more in a month. Now you both go to the Little Yoda he is a good python programmer, he suggested both of you to add an entry in a dictionary when next time you spent money. So that you can have clear picture about your expenses and plan to reduce it. Both dictionaries are as below-\r\n",
    "Your expenses - \r\n",
    "\r\n",
    "* Clothes - 1100\r\n",
    "* Shoes - 1000\r\n",
    "* Watch - 900\r\n",
    "* Mobile Recharge - 699\r\n",
    "* Petrol - 1980\r\n",
    "\r\n",
    "Your Wife’s expenses - \r\n",
    "* Mobile Recharge - 799\r\n",
    "* DTH recharge - 999\r\n",
    "* Clothes - 2310\r\n",
    "* Makeup - 3670\r\n",
    "* Shoes - 999\r\n",
    "\r\n",
    "A) Find out total expenses of each of you.\\\r\n",
    "B) Find out who spending more\\\r\n",
    "C) Find out in which thing you and your w spending more \r\n",
    " \r\n"
   ]
  },
  {
   "cell_type": "code",
   "execution_count": 52,
   "id": "7b04d060-f7b9-4b72-aa69-7e626eef478a",
   "metadata": {},
   "outputs": [],
   "source": [
    "my_expenses = dict()\n",
    "wife_expenses = dict()"
   ]
  },
  {
   "cell_type": "code",
   "execution_count": 53,
   "id": "f9ec5801-46dc-4721-9827-74fa3551090a",
   "metadata": {},
   "outputs": [],
   "source": [
    "# adding data to the dictionaries\n",
    "my_expenses['Clothes'] = 100\n",
    "my_expenses['Shoes'] = 1000\n",
    "my_expenses['Watch'] = 900\n",
    "my_expenses['Mobile Recharge'] = 699\n",
    "my_expenses['Petrol'] = 1980"
   ]
  },
  {
   "cell_type": "code",
   "execution_count": 54,
   "id": "6deaed75-e62c-406f-965b-2ace13c72f10",
   "metadata": {},
   "outputs": [],
   "source": [
    "wife_expenses.update({\n",
    "    \"Mobile Recharge\" : 799,\n",
    "    \"DTH recharge\" : 999,\n",
    "    \"Clothes\" : 2310,\n",
    "    \"Makeup\" : 3670,\n",
    "    \"Shoes\" : 999\n",
    "})"
   ]
  },
  {
   "cell_type": "code",
   "execution_count": 55,
   "id": "a31e8ce1-6173-4b59-b631-f8976286cc2e",
   "metadata": {},
   "outputs": [
    {
     "data": {
      "text/plain": [
       "{'Clothes': 100,\n",
       " 'Shoes': 1000,\n",
       " 'Watch': 900,\n",
       " 'Mobile Recharge': 699,\n",
       " 'Petrol': 1980}"
      ]
     },
     "execution_count": 55,
     "metadata": {},
     "output_type": "execute_result"
    }
   ],
   "source": [
    "my_expenses"
   ]
  },
  {
   "cell_type": "code",
   "execution_count": 56,
   "id": "66417eac-f0d6-4168-b90b-3eb973cce934",
   "metadata": {},
   "outputs": [
    {
     "data": {
      "text/plain": [
       "{'Mobile Recharge': 799,\n",
       " 'DTH recharge': 999,\n",
       " 'Clothes': 2310,\n",
       " 'Makeup': 3670,\n",
       " 'Shoes': 999}"
      ]
     },
     "execution_count": 56,
     "metadata": {},
     "output_type": "execute_result"
    }
   ],
   "source": [
    "wife_expenses"
   ]
  },
  {
   "cell_type": "code",
   "execution_count": 57,
   "id": "4e7e48cd-f434-4918-9e47-e8a9bef7bbfd",
   "metadata": {},
   "outputs": [
    {
     "name": "stdout",
     "output_type": "stream",
     "text": [
      "Your Total Expenses are: 4679\n",
      "Your wife`s Total Expenses are: 8777\n"
     ]
    }
   ],
   "source": [
    "# little Yoda's Analysis\n",
    "\n",
    "# finding total expenses\n",
    "total = 0\n",
    "for key in my_expenses:\n",
    "    total += my_expenses[key]\n",
    "\n",
    "my_expenses['Total'] = total\n",
    "\n",
    "total = 0\n",
    "for key in wife_expenses:\n",
    "    total += wife_expenses[key]\n",
    "\n",
    "wife_expenses['Total'] = total\n",
    "\n",
    "print(f\"Your Total Expenses are: {my_expenses['Total']}\")\n",
    "print(f\"Your wife`s Total Expenses are: {wife_expenses['Total']}\")\n"
   ]
  },
  {
   "cell_type": "code",
   "execution_count": 58,
   "id": "b364ae66-6c1a-4966-ae10-26fa81aceccc",
   "metadata": {},
   "outputs": [
    {
     "name": "stdout",
     "output_type": "stream",
     "text": [
      "Total Expenses for both: 13456\n"
     ]
    }
   ],
   "source": [
    "total = my_expenses['Total'] + wife_expenses['Total']\n",
    "print(f\"Total Expenses for both: {total}\")\n"
   ]
  },
  {
   "cell_type": "code",
   "execution_count": 59,
   "id": "e031d276-83e2-4b81-af26-d0507f941008",
   "metadata": {},
   "outputs": [
    {
     "name": "stdout",
     "output_type": "stream",
     "text": [
      "Your wife spent more than you\n"
     ]
    }
   ],
   "source": [
    "# B. Finding who spend more\n",
    "if my_expenses['Total'] > wife_expenses['Total']:\n",
    "    print(\"You spent more than your wife.\")\n",
    "else:\n",
    "    print(\"Your wife spent more than you\")"
   ]
  },
  {
   "cell_type": "code",
   "execution_count": 60,
   "id": "8284f254-bb4a-4cd6-9c8b-0484f84f0c50",
   "metadata": {},
   "outputs": [],
   "source": [
    "# c. finding expensive thing\n",
    "# If we can sort the dictionary in increasing order or decreasing order, we can find it easily\n",
    "\n",
    "def sort_the_dict(dictionary):\n",
    "    # because we need to sord the dictionary according to the values\n",
    "    sorted_dict = sorted(dictionary.items(), key=lambda kv:kv[1])\n",
    "    \n",
    "    return sorted_dict                                            "
   ]
  },
  {
   "cell_type": "code",
   "execution_count": 61,
   "id": "c2441a3e-5f20-47d1-a912-e57a94b0506c",
   "metadata": {},
   "outputs": [
    {
     "data": {
      "text/plain": [
       "[('Clothes', 100),\n",
       " ('Mobile Recharge', 699),\n",
       " ('Watch', 900),\n",
       " ('Shoes', 1000),\n",
       " ('Petrol', 1980),\n",
       " ('Total', 4679)]"
      ]
     },
     "execution_count": 61,
     "metadata": {},
     "output_type": "execute_result"
    }
   ],
   "source": [
    "sort_the_dict(my_expenses)"
   ]
  },
  {
   "cell_type": "code",
   "execution_count": 62,
   "id": "717e44e1-efbf-4d28-b52c-a89d9a1953b4",
   "metadata": {},
   "outputs": [
    {
     "data": {
      "text/plain": [
       "[('Mobile Recharge', 799),\n",
       " ('DTH recharge', 999),\n",
       " ('Shoes', 999),\n",
       " ('Clothes', 2310),\n",
       " ('Makeup', 3670),\n",
       " ('Total', 8777)]"
      ]
     },
     "execution_count": 62,
     "metadata": {},
     "output_type": "execute_result"
    }
   ],
   "source": [
    "sort_the_dict(wife_expenses)"
   ]
  },
  {
   "cell_type": "markdown",
   "id": "3f7c83d1-bcfe-49e2-a722-80a70ef250b8",
   "metadata": {},
   "source": [
    "Because last element will always be the total so we have to print the second last element"
   ]
  },
  {
   "cell_type": "code",
   "execution_count": 63,
   "id": "727d3022-d2c3-450a-9388-6b2835cfaaf5",
   "metadata": {},
   "outputs": [
    {
     "name": "stdout",
     "output_type": "stream",
     "text": [
      "You spent more on: \n"
     ]
    },
    {
     "data": {
      "text/plain": [
       "('Petrol', 1980)"
      ]
     },
     "execution_count": 63,
     "metadata": {},
     "output_type": "execute_result"
    }
   ],
   "source": [
    "print(\"You spent more on: \")\n",
    "sort_the_dict(my_expenses)[-2]"
   ]
  },
  {
   "cell_type": "code",
   "execution_count": 64,
   "id": "64d5af4d-f13c-400f-85e2-65052a21fc15",
   "metadata": {},
   "outputs": [
    {
     "name": "stdout",
     "output_type": "stream",
     "text": [
      "Your wife spent more on: \n"
     ]
    },
    {
     "data": {
      "text/plain": [
       "('Makeup', 3670)"
      ]
     },
     "execution_count": 64,
     "metadata": {},
     "output_type": "execute_result"
    }
   ],
   "source": [
    "print(\"Your wife spent more on: \")\n",
    "sort_the_dict(wife_expenses)[-2]"
   ]
  },
  {
   "cell_type": "code",
   "execution_count": null,
   "id": "d3030153-267c-437c-8aeb-309b39a87012",
   "metadata": {},
   "outputs": [],
   "source": []
  }
 ],
 "metadata": {
  "kernelspec": {
   "display_name": "Python 3 (ipykernel)",
   "language": "python",
   "name": "python3"
  },
  "language_info": {
   "codemirror_mode": {
    "name": "ipython",
    "version": 3
   },
   "file_extension": ".py",
   "mimetype": "text/x-python",
   "name": "python",
   "nbconvert_exporter": "python",
   "pygments_lexer": "ipython3",
   "version": "3.8.10"
  }
 },
 "nbformat": 4,
 "nbformat_minor": 5
}
