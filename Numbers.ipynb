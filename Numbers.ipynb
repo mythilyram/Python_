{
 "cells": [
  {
   "cell_type": "code",
   "execution_count": 1,
   "id": "2c0221f9-0dab-4c0e-bb5f-bb18482fecfc",
   "metadata": {},
   "outputs": [
    {
     "data": {
      "text/plain": [
       "35.0"
      ]
     },
     "execution_count": 1,
     "metadata": {},
     "output_type": "execute_result"
    }
   ],
   "source": [
    "# find an area of a triangle using python.\n",
    "base = 10\n",
    "height = 7\n",
    "area = (1/2) * base * height\n",
    "area"
   ]
  },
  {
   "cell_type": "code",
   "execution_count": 2,
   "id": "b82e388d-b57e-4639-946f-0b824d4128e7",
   "metadata": {},
   "outputs": [
    {
     "data": {
      "text/plain": [
       "float"
      ]
     },
     "execution_count": 2,
     "metadata": {},
     "output_type": "execute_result"
    }
   ],
   "source": [
    "type(area)"
   ]
  },
  {
   "cell_type": "markdown",
   "id": "60b1dad8-4293-47b1-9bba-d9b31b346251",
   "metadata": {},
   "source": [
    "<h3 style=\"color:purple\">Two type of numbers: Integers and Float</h3>"
   ]
  },
  {
   "cell_type": "code",
   "execution_count": 3,
   "id": "474ffb50-9af5-4ce2-85ef-8a6ee0e9c4fa",
   "metadata": {},
   "outputs": [
    {
     "data": {
      "text/plain": [
       "float"
      ]
     },
     "execution_count": 3,
     "metadata": {},
     "output_type": "execute_result"
    }
   ],
   "source": [
    "weight = 100.5\n",
    "type(weight)"
   ]
  },
  {
   "cell_type": "code",
   "execution_count": 4,
   "id": "ce5522ca-0fb5-45b2-a205-dc0cd5fb7a79",
   "metadata": {},
   "outputs": [
    {
     "data": {
      "text/plain": [
       "int"
      ]
     },
     "execution_count": 4,
     "metadata": {},
     "output_type": "execute_result"
    }
   ],
   "source": [
    "family_members = 5\n",
    "type(family_members)"
   ]
  },
  {
   "cell_type": "markdown",
   "id": "db06d56f-75cc-4cf1-8e36-fe675dd86a07",
   "metadata": {},
   "source": [
    "<h3 style=\"color:purple\">Basic airthmetic with numbers</h3>"
   ]
  },
  {
   "cell_type": "code",
   "execution_count": 6,
   "id": "973d0e54-f6c4-469a-823a-3cc73009e669",
   "metadata": {},
   "outputs": [
    {
     "data": {
      "text/plain": [
       "3"
      ]
     },
     "execution_count": 6,
     "metadata": {},
     "output_type": "execute_result"
    }
   ],
   "source": [
    "1+2"
   ]
  },
  {
   "cell_type": "code",
   "execution_count": 7,
   "id": "ebdbbdaf-70fa-4486-9876-c8132e978ed9",
   "metadata": {},
   "outputs": [
    {
     "data": {
      "text/plain": [
       "3.3333333333333335"
      ]
     },
     "execution_count": 7,
     "metadata": {},
     "output_type": "execute_result"
    }
   ],
   "source": [
    "10/3"
   ]
  },
  {
   "cell_type": "code",
   "execution_count": 8,
   "id": "7f65925a-7483-4952-868a-53755c8a08ec",
   "metadata": {},
   "outputs": [
    {
     "data": {
      "text/plain": [
       "3"
      ]
     },
     "execution_count": 8,
     "metadata": {},
     "output_type": "execute_result"
    }
   ],
   "source": [
    "# floor division - gives only int o/p\n",
    "10//3"
   ]
  },
  {
   "cell_type": "code",
   "execution_count": 9,
   "id": "f5a1a22d-2e04-4e41-abac-476ca24cf956",
   "metadata": {},
   "outputs": [
    {
     "data": {
      "text/plain": [
       "2"
      ]
     },
     "execution_count": 9,
     "metadata": {},
     "output_type": "execute_result"
    }
   ],
   "source": [
    "# modulo operator - gives the reminder\n",
    "17%3"
   ]
  },
  {
   "cell_type": "code",
   "execution_count": 10,
   "id": "eda31f93-8aa7-48a9-9458-553891a8afb5",
   "metadata": {},
   "outputs": [
    {
     "data": {
      "text/plain": [
       "6"
      ]
     },
     "execution_count": 10,
     "metadata": {},
     "output_type": "execute_result"
    }
   ],
   "source": [
    "3*2"
   ]
  },
  {
   "cell_type": "code",
   "execution_count": 12,
   "id": "0cff8cd6-0c67-41b8-a2f5-5c8b0be090dd",
   "metadata": {},
   "outputs": [
    {
     "data": {
      "text/plain": [
       "9"
      ]
     },
     "execution_count": 12,
     "metadata": {},
     "output_type": "execute_result"
    }
   ],
   "source": [
    "# power, square\n",
    "3**2"
   ]
  },
  {
   "cell_type": "code",
   "execution_count": 13,
   "id": "10212ff6-7bac-4340-8b23-5536d3c2e587",
   "metadata": {},
   "outputs": [
    {
     "data": {
      "text/plain": [
       "16"
      ]
     },
     "execution_count": 13,
     "metadata": {},
     "output_type": "execute_result"
    }
   ],
   "source": [
    "10+2*3"
   ]
  },
  {
   "cell_type": "code",
   "execution_count": 14,
   "id": "e3bde25d-0aec-4053-ab83-42758f510e75",
   "metadata": {},
   "outputs": [
    {
     "data": {
      "text/plain": [
       "36"
      ]
     },
     "execution_count": 14,
     "metadata": {},
     "output_type": "execute_result"
    }
   ],
   "source": [
    "(10+2)*3"
   ]
  },
  {
   "cell_type": "code",
   "execution_count": 15,
   "id": "cf156bcf-970e-4c67-9117-4ae4221d0aa6",
   "metadata": {},
   "outputs": [
    {
     "data": {
      "text/plain": [
       "int"
      ]
     },
     "execution_count": 15,
     "metadata": {},
     "output_type": "execute_result"
    }
   ],
   "source": [
    "type(5)"
   ]
  },
  {
   "cell_type": "code",
   "execution_count": 16,
   "id": "96d934d3-6152-4609-8f2b-ec2038f6cd61",
   "metadata": {},
   "outputs": [
    {
     "data": {
      "text/plain": [
       "float"
      ]
     },
     "execution_count": 16,
     "metadata": {},
     "output_type": "execute_result"
    }
   ],
   "source": [
    "type(5.2)"
   ]
  },
  {
   "cell_type": "code",
   "execution_count": 18,
   "id": "fee33f15-9515-41cd-a569-698f4c04d527",
   "metadata": {},
   "outputs": [
    {
     "data": {
      "text/plain": [
       "23000.0"
      ]
     },
     "execution_count": 18,
     "metadata": {},
     "output_type": "execute_result"
    }
   ],
   "source": [
    "a = 2.3e4\n",
    "a"
   ]
  },
  {
   "cell_type": "code",
   "execution_count": 19,
   "id": "d31bde7c-3905-49a4-b807-fd57c67762a7",
   "metadata": {},
   "outputs": [
    {
     "data": {
      "text/plain": [
       "10000.0"
      ]
     },
     "execution_count": 19,
     "metadata": {},
     "output_type": "execute_result"
    }
   ],
   "source": [
    "1e4"
   ]
  },
  {
   "cell_type": "code",
   "execution_count": 20,
   "id": "a9af2ca4-d5f5-481c-b4aa-37931d7a55cc",
   "metadata": {},
   "outputs": [
    {
     "data": {
      "text/plain": [
       "0.0001"
      ]
     },
     "execution_count": 20,
     "metadata": {},
     "output_type": "execute_result"
    }
   ],
   "source": [
    "1e-4"
   ]
  },
  {
   "cell_type": "code",
   "execution_count": 21,
   "id": "9405c5c8-17a4-4934-a9ae-ab30d5b01d56",
   "metadata": {},
   "outputs": [
    {
     "data": {
      "text/plain": [
       "821.36"
      ]
     },
     "execution_count": 21,
     "metadata": {},
     "output_type": "execute_result"
    }
   ],
   "source": [
    "food=120.34\n",
    "rent=500.67\n",
    "utilities=200.35\n",
    "total_expense = food + rent + utilities\n",
    "total_expense"
   ]
  },
  {
   "cell_type": "code",
   "execution_count": 22,
   "id": "acf5e651-5e62-4aa2-97c4-199d83e22728",
   "metadata": {},
   "outputs": [
    {
     "data": {
      "text/plain": [
       "821"
      ]
     },
     "execution_count": 22,
     "metadata": {},
     "output_type": "execute_result"
    }
   ],
   "source": [
    "round(total_expense)"
   ]
  },
  {
   "cell_type": "code",
   "execution_count": 24,
   "id": "b2a35d57-fa8c-4e04-a432-4689244e9e3b",
   "metadata": {},
   "outputs": [
    {
     "data": {
      "text/plain": [
       "'120.34500.67'"
      ]
     },
     "execution_count": 24,
     "metadata": {},
     "output_type": "execute_result"
    }
   ],
   "source": [
    "# number value dont have quotes. if quotes, it is considered as string\n",
    "food = \"120.34\"\n",
    "rent = \"500.67\"\n",
    "\n",
    "total = food + rent\n",
    "total\n",
    "#string concat"
   ]
  },
  {
   "cell_type": "code",
   "execution_count": 25,
   "id": "80a1d44f-ae6d-42fa-b0c7-8e95deece011",
   "metadata": {},
   "outputs": [
    {
     "data": {
      "text/plain": [
       "str"
      ]
     },
     "execution_count": 25,
     "metadata": {},
     "output_type": "execute_result"
    }
   ],
   "source": [
    "type(total)"
   ]
  },
  {
   "cell_type": "code",
   "execution_count": 26,
   "id": "962cb14f-cec9-4e8b-9a61-8376cf5fc21a",
   "metadata": {},
   "outputs": [
    {
     "data": {
      "text/plain": [
       "float"
      ]
     },
     "execution_count": 26,
     "metadata": {},
     "output_type": "execute_result"
    }
   ],
   "source": [
    "type(total_expense)"
   ]
  },
  {
   "cell_type": "markdown",
   "id": "782a2be8-85a1-44b5-8c91-a00c69e86ff4",
   "metadata": {},
   "source": [
    "<h3 style=\"color:purple\">Binary Representation Of Integers</h3>"
   ]
  },
  {
   "cell_type": "code",
   "execution_count": 28,
   "id": "c9dff399-ce1b-4bd6-b7b9-81623d260ee9",
   "metadata": {},
   "outputs": [
    {
     "data": {
      "text/plain": [
       "'101'"
      ]
     },
     "execution_count": 28,
     "metadata": {},
     "output_type": "execute_result"
    }
   ],
   "source": [
    "format(5, 'b')"
   ]
  },
  {
   "cell_type": "code",
   "execution_count": 29,
   "id": "22edaaf3-fb42-45ae-8ad2-f7253cbfcd62",
   "metadata": {},
   "outputs": [],
   "source": [
    "# 1*2^2 + 0*2^1+ 1*2^0 = 4+0+1 = 5"
   ]
  },
  {
   "cell_type": "markdown",
   "id": "49dfc9c8-246b-440f-bc9b-fcdb7265be05",
   "metadata": {},
   "source": [
    "<h2 style=\"color:purple\">Excercise: </h2>\n",
    "\n",
    "1. Pass 145 and ‘o’ in the format() function and see what it returns. Try to find out which representation it is.\r",
    "2. \n",
    "There is a circular pond in a village. This pond has a radius of 84 meters. Can you find the area of the pond? (Bonus: If there is exactly 1.4 liter of water in a square meter, what is the total amount of water in the pond?)\r\n",
    "Hin :\r\n",
    "Circle Area = \n",
    "3. 2\r\n",
    "\r\n",
    "If you cross a 490-meter-long street in 7 minutes, then what is your speed in meters per second? Print your answer without any decimal point in it."
   ]
  },
  {
   "cell_type": "code",
   "execution_count": 31,
   "id": "16a297f9-4888-4803-9a4e-12aaadc67650",
   "metadata": {},
   "outputs": [
    {
     "data": {
      "text/plain": [
       "'221'"
      ]
     },
     "execution_count": 31,
     "metadata": {},
     "output_type": "execute_result"
    }
   ],
   "source": [
    "# format function to formate the number\n",
    "format(145, 'o')"
   ]
  },
  {
   "cell_type": "code",
   "execution_count": 33,
   "id": "db9a6dd0-4064-46c7-9be7-65b749e5a5d7",
   "metadata": {},
   "outputs": [],
   "source": [
    "# 2*8^2 + 2*8^1 + 1*8^0 = 2*64+ 2*8 +1*1 = 128+ 16+ 1 = 145\n",
    "#'o' stands for `octal representation` of the number."
   ]
  },
  {
   "cell_type": "code",
   "execution_count": 37,
   "id": "63400f0f-e0f9-4ac1-bea5-e965e33f46ca",
   "metadata": {},
   "outputs": [
    {
     "name": "stdout",
     "output_type": "stream",
     "text": [
      "22155.84\n"
     ]
    }
   ],
   "source": [
    "#2. circular pond\n",
    "radius = 84\n",
    "pond_area = 3.14 * radius ** 2\n",
    "print(pond_area)"
   ]
  },
  {
   "cell_type": "markdown",
   "id": "3765ebea-b304-4e57-bf53-384ffafc4468",
   "metadata": {},
   "source": [
    "**BONUS**\n",
    "\n",
    "Because there is exactly 1.4 liter of water in 1 square meter. And we know that the total area of pond is `22155.84` square meter.\n",
    "\n",
    "We can get the total amount of water if we multiply the given amount wih given area. "
   ]
  },
  {
   "cell_type": "code",
   "execution_count": 35,
   "id": "e39e5925-6789-49ec-84cc-acb40d1fff9f",
   "metadata": {},
   "outputs": [
    {
     "name": "stdout",
     "output_type": "stream",
     "text": [
      "31018.176\n"
     ]
    }
   ],
   "source": [
    "per_sqt_meter_water = 1.4\n",
    "total_water = pond_area * per_sqt_meter_water\n",
    "print(total_water)\n"
   ]
  },
  {
   "cell_type": "code",
   "execution_count": 36,
   "id": "878371b3-aef1-4f56-a1ca-02e9aa6a6760",
   "metadata": {},
   "outputs": [],
   "source": [
    "#There is total `31018.176` liter water in the pond."
   ]
  },
  {
   "cell_type": "code",
   "execution_count": 39,
   "id": "dda93bf9-67cb-4b25-8d81-86145ec6fdc1",
   "metadata": {},
   "outputs": [
    {
     "data": {
      "text/plain": [
       "420"
      ]
     },
     "execution_count": 39,
     "metadata": {},
     "output_type": "execute_result"
    }
   ],
   "source": [
    "#3.\n",
    "distance = 490\n",
    "time = 7 * 60 # convert minute to seconds\n",
    "time"
   ]
  },
  {
   "cell_type": "code",
   "execution_count": 41,
   "id": "dee1c425-b1bb-4a34-b502-30bc2328d3a1",
   "metadata": {},
   "outputs": [
    {
     "name": "stdout",
     "output_type": "stream",
     "text": [
      "1.1666666666666667\n"
     ]
    }
   ],
   "source": [
    "speed = distance / time\n",
    "print(speed)"
   ]
  },
  {
   "cell_type": "code",
   "execution_count": 42,
   "id": "25864c93-d651-426d-9cba-dea9d089fbe5",
   "metadata": {},
   "outputs": [
    {
     "name": "stdout",
     "output_type": "stream",
     "text": [
      "1\n"
     ]
    }
   ],
   "source": [
    "print(round(speed))"
   ]
  },
  {
   "cell_type": "code",
   "execution_count": null,
   "id": "9bcbb751-57b7-48c6-a149-99c37029621d",
   "metadata": {},
   "outputs": [],
   "source": []
  }
 ],
 "metadata": {
  "kernelspec": {
   "display_name": "Python 3 (ipykernel)",
   "language": "python",
   "name": "python3"
  },
  "language_info": {
   "codemirror_mode": {
    "name": "ipython",
    "version": 3
   },
   "file_extension": ".py",
   "mimetype": "text/x-python",
   "name": "python",
   "nbconvert_exporter": "python",
   "pygments_lexer": "ipython3",
   "version": "3.8.10"
  }
 },
 "nbformat": 4,
 "nbformat_minor": 5
}
