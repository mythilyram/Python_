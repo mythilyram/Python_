{
 "cells": [
  {
   "cell_type": "code",
   "execution_count": 7,
   "id": "a03b471d-15dd-4276-acff-b65659ead3e9",
   "metadata": {},
   "outputs": [
    {
     "name": "stdout",
     "output_type": "stream",
     "text": [
      "radius: 5\n",
      "height: 10\n",
      "785.0\n",
      "785.0\n"
     ]
    }
   ],
   "source": [
    "# Find volume of a cylinder using a function\n",
    "def find_cylinder_volume(radius, height=7):\n",
    "    print(\"radius:\", radius)\n",
    "    print(\"height:\", height)\n",
    "    volume = 3.14*(radius**2)*height\n",
    "    print(volume)\n",
    "    return volume\n",
    "\n",
    "r = 5\n",
    "h = 10\n",
    "\n",
    "print(find_cylinder_volume(r, h))"
   ]
  },
  {
   "cell_type": "code",
   "execution_count": 8,
   "id": "fdecf81b-2a48-4de1-9a1f-3bf6d1e47b1c",
   "metadata": {},
   "outputs": [
    {
     "name": "stdout",
     "output_type": "stream",
     "text": [
      "Sergey's total expense:  235\n",
      "Sundar's total expense:  158\n"
     ]
    }
   ],
   "source": [
    "def find_total(expenses):\n",
    "    '''\n",
    "    This function takes expenses list as an input\n",
    "    and return a total sum of that list\n",
    "    :param expenses: list of input expenses\n",
    "    :return: total expense\n",
    "    '''\n",
    "    total = 0\n",
    "    for expense in expenses:\n",
    "        total += expense\n",
    "    return total\n",
    "\n",
    "expenses_sergey = [30, 45, 70, 90]\n",
    "expenses_sundar = [40, 23, 10, 85]\n",
    "\n",
    "total = find_total(expenses_sergey)\n",
    "\n",
    "print(\"Sergey's total expense: \", total)\n",
    "\n",
    "total = find_total(expenses_sundar)\n",
    "\n",
    "print(\"Sundar's total expense: \", total)"
   ]
  },
  {
   "cell_type": "code",
   "execution_count": 12,
   "id": "184ee795-7fac-4eae-ba9e-244d858322a2",
   "metadata": {},
   "outputs": [
    {
     "name": "stdin",
     "output_type": "stream",
     "text": [
      "Enter the number to be checked 45\n"
     ]
    },
    {
     "data": {
      "text/plain": [
       "False"
      ]
     },
     "execution_count": 12,
     "metadata": {},
     "output_type": "execute_result"
    }
   ],
   "source": [
    "def is_prime_and_odd(numbr):\n",
    "    # check for even numbers\n",
    "    if numbr % 2 == 0:\n",
    "        return False\n",
    "    if numbr < 2:\n",
    "        return False\n",
    "    # check for prime numbers    \n",
    "    for i in range(2, numbr//2):\n",
    "        if numbr % i == 0:\n",
    "            return False\n",
    "    return True  \n"
   ]
  },
  {
   "cell_type": "code",
   "execution_count": 13,
   "id": "7eed345b-da3f-4d94-9e07-bdecf21982af",
   "metadata": {},
   "outputs": [
    {
     "name": "stdin",
     "output_type": "stream",
     "text": [
      "Enter the number to be checked 4\n"
     ]
    },
    {
     "data": {
      "text/plain": [
       "False"
      ]
     },
     "execution_count": 13,
     "metadata": {},
     "output_type": "execute_result"
    }
   ],
   "source": [
    "# get user input    \n",
    "numb = int(input(\"Enter the number to be checked\"))\n",
    "# Function call\n",
    "is_prime_and_odd(numb)"
   ]
  },
  {
   "cell_type": "code",
   "execution_count": 17,
   "id": "c4d01e87-da3b-43ab-afb6-0769c6d39804",
   "metadata": {},
   "outputs": [
    {
     "name": "stdout",
     "output_type": "stream",
     "text": [
      "1 False\n",
      "2 False\n",
      "3 True\n",
      "4 False\n",
      "5 True\n",
      "6 False\n",
      "7 True\n",
      "8 False\n",
      "9 False\n",
      "10 False\n"
     ]
    }
   ],
   "source": [
    "# checking first 10 numbers\n",
    "for i in range(1, 11):\n",
    "    print(i, is_prime_and_odd(i))"
   ]
  },
  {
   "cell_type": "markdown",
   "id": "942bb764-3558-489b-851b-65989838e67f",
   "metadata": {},
   "source": [
    "Write a python function that will take n as input and print the pattern of n rows. If the n is even, then print it flipped.\n",
    "Example:\n",
    "\n",
    "n=3\n",
    "\n",
    "#*\n",
    "\n",
    "#* *\n",
    "\n",
    "#* * *\n",
    "\n",
    "n=4\n",
    "\n",
    "#* * * *\n",
    "\n",
    "#* * *\n",
    "\n",
    "#* *\n",
    "\n",
    "#*"
   ]
  },
  {
   "cell_type": "code",
   "execution_count": 19,
   "id": "b70594d1-0378-4a65-8a0e-1652ebe885e2",
   "metadata": {},
   "outputs": [],
   "source": [
    "def is_even(num):\n",
    "    if num % 2 == 0:\n",
    "        return True\n",
    "    else:\n",
    "        return False"
   ]
  },
  {
   "cell_type": "code",
   "execution_count": 21,
   "id": "864a1ea8-86a7-4aa5-84a0-47a011d40252",
   "metadata": {},
   "outputs": [],
   "source": [
    "def print_pyramid(num):\n",
    "    if is_even(num):\n",
    "\n",
    "        for i in range(num,0,-1):\n",
    "            for j in range(i):\n",
    "                print(\"*\",end = \" \")\n",
    "            print()    \n",
    "\n",
    "    else:\n",
    "        for i in range(num+1):\n",
    "            for j in range(i):\n",
    "                print(\"*\", end=\" \")\n",
    "            print()    "
   ]
  },
  {
   "cell_type": "code",
   "execution_count": 22,
   "id": "e813968b-0d93-4962-b52d-69f07a872559",
   "metadata": {},
   "outputs": [
    {
     "name": "stdout",
     "output_type": "stream",
     "text": [
      "\n",
      "* \n",
      "* * \n",
      "* * * \n"
     ]
    }
   ],
   "source": [
    "print_pyramid(3)"
   ]
  },
  {
   "cell_type": "code",
   "execution_count": 23,
   "id": "86f379f2-35c8-40a7-ae7b-ac64af17cdfd",
   "metadata": {},
   "outputs": [
    {
     "name": "stdout",
     "output_type": "stream",
     "text": [
      "* * * * \n",
      "* * * \n",
      "* * \n",
      "* \n"
     ]
    }
   ],
   "source": [
    "print_pyramid(4)"
   ]
  },
  {
   "cell_type": "code",
   "execution_count": 24,
   "id": "57c70788-3a8f-4851-87cd-4a1c6248e378",
   "metadata": {},
   "outputs": [
    {
     "name": "stdout",
     "output_type": "stream",
     "text": [
      "\n",
      "* \n",
      "* * \n",
      "* * * \n",
      "* * * * \n",
      "* * * * * \n",
      "* * * * * * \n",
      "* * * * * * * \n"
     ]
    }
   ],
   "source": [
    "print_pyramid(7)"
   ]
  },
  {
   "cell_type": "markdown",
   "id": "0228cdcb-8764-47d8-8313-4d1c5758f0d9",
   "metadata": {},
   "source": [
    "### 3. Master Yoda speaks a sentence in a different order. Let's say you want to convert a sentence to Yoda’s speak.  Write a function named master_yoda which will take a string as input and return the output after reversing the words of the sentence."
   ]
  },
  {
   "cell_type": "code",
   "execution_count": 31,
   "id": "870ace5b-6c81-423d-b9dc-f8d3884d2a12",
   "metadata": {},
   "outputs": [],
   "source": [
    "def master_yoda(sentence):\n",
    "    # creating list of words\n",
    "    words = []\n",
    "    for word in sentence.split(' '):\n",
    "        words.append(word)\n",
    "    \n",
    "    terminator = \"\"\n",
    "    # If the sentence ends with a dot(.) we need to extract that \n",
    "    if words[-1].endswith('.') or words[-1].endswith('?'):\n",
    "        terminator = words[-1][-1]\n",
    "        words[-1] = words[-1][:-1]\n",
    "\n",
    "    # reversing the words\n",
    "    words.reverse()\n",
    "\n",
    "    # recreating the sentence with reversed words\n",
    "    new_sentence = \" \".join(words)\n",
    "    new_sentence = new_sentence + terminator\n",
    "    return new_sentence"
   ]
  },
  {
   "cell_type": "code",
   "execution_count": 32,
   "id": "72145224-f711-4775-b889-69321b578db2",
   "metadata": {},
   "outputs": [
    {
     "data": {
      "text/plain": [
       "'Python learning am I.'"
      ]
     },
     "execution_count": 32,
     "metadata": {},
     "output_type": "execute_result"
    }
   ],
   "source": [
    "master_yoda(\"I am learning Python.\")"
   ]
  },
  {
   "cell_type": "code",
   "execution_count": 34,
   "id": "4a696310-7fba-4744-a463-aa62cdede794",
   "metadata": {},
   "outputs": [
    {
     "data": {
      "text/plain": [
       "'World Hello'"
      ]
     },
     "execution_count": 34,
     "metadata": {},
     "output_type": "execute_result"
    }
   ],
   "source": [
    "master_yoda(sentence=\"Hello World\")"
   ]
  },
  {
   "cell_type": "markdown",
   "id": "1d93e355-1371-40eb-b114-07361cc362e1",
   "metadata": {},
   "source": [
    "### 4. Write a function pay_bill which will take list of expenses, percent commission, and a special offer amount\n",
    "* If you don’t pass percent_comission it should be always 9.8%\n",
    "* The Last argument special_offer_amount is not a required argument, you don’t need to pass is. Make it an optional parameter.\n",
    "* If you want to give a special offer to the user, then you have to pass the third argument special_offer_amount. If user makes the purchase of greater than special_offer_amount, then give him extra  commission of 1.2%.\n",
    "* Calculate the final payable price of the bill and return it from the function.\n"
   ]
  },
  {
   "cell_type": "code",
   "execution_count": 35,
   "id": "ea3b0cea-b3ec-4f1b-aba5-905683acd1fe",
   "metadata": {},
   "outputs": [],
   "source": [
    "def pay_bill(expenses, percent_commission=0.098, offer_amount=None):\n",
    "    \n",
    "    # calculating the total bill amount\n",
    "    total_bill_amount = 0\n",
    "    for amount in  expenses:\n",
    "        total_bill_amount += amount\n",
    "\n",
    "    # calculate extra commision percentage\n",
    "    extra_commission = 0\n",
    "    if offer_amount:\n",
    "        if total_bill_amount >= offer_amount:\n",
    "            extra_commission = 0.012\n",
    "            print(f\"Congratulations! You earned 1.2% extra commission.\")\n",
    "\n",
    "    # Calculate final payable amount\n",
    "    commission_amount = total_bill_amount * (percent_commission + extra_commission)\n",
    "    final_amount = total_bill_amount - commission_amount\n",
    "    return final_amount"
   ]
  },
  {
   "cell_type": "code",
   "execution_count": 36,
   "id": "c0663eb0-cf2f-4bbe-af1d-a83fe06a903e",
   "metadata": {},
   "outputs": [
    {
     "data": {
      "text/plain": [
       "1022.8679999999999"
      ]
     },
     "execution_count": 36,
     "metadata": {},
     "output_type": "execute_result"
    }
   ],
   "source": [
    "pay_bill([100, 145, 567, 322])"
   ]
  },
  {
   "cell_type": "code",
   "execution_count": 37,
   "id": "1603760c-e70f-4c28-9dd5-74a84d4b2036",
   "metadata": {},
   "outputs": [
    {
     "data": {
      "text/plain": [
       "1043.704"
      ]
     },
     "execution_count": 37,
     "metadata": {},
     "output_type": "execute_result"
    }
   ],
   "source": [
    "pay_bill([100, 145, 565, 322], 0.078)"
   ]
  },
  {
   "cell_type": "code",
   "execution_count": 38,
   "id": "798750a5-9caa-4f56-9d29-607be718268e",
   "metadata": {},
   "outputs": [
    {
     "name": "stdout",
     "output_type": "stream",
     "text": [
      "Congratulations! You earned 1.2% extra commission.\n"
     ]
    },
    {
     "data": {
      "text/plain": [
       "1334.4279999999999"
      ]
     },
     "execution_count": 38,
     "metadata": {},
     "output_type": "execute_result"
    }
   ],
   "source": [
    "pay_bill([200, 400, 86, 300, 500], 0.09, 800)"
   ]
  },
  {
   "cell_type": "code",
   "execution_count": 39,
   "id": "0f88443b-91ee-42d4-8177-3b3d785c8d14",
   "metadata": {},
   "outputs": [
    {
     "name": "stdout",
     "output_type": "stream",
     "text": [
      "Congratulations! You earned 1.2% extra commission.\n"
     ]
    },
    {
     "data": {
      "text/plain": [
       "1322.54"
      ]
     },
     "execution_count": 39,
     "metadata": {},
     "output_type": "execute_result"
    }
   ],
   "source": [
    "pay_bill([200, 400, 86, 300, 500], offer_amount=900)"
   ]
  },
  {
   "cell_type": "code",
   "execution_count": 40,
   "id": "91f54008-e2d0-42bd-80c0-acc70175185c",
   "metadata": {},
   "outputs": [
    {
     "data": {
      "text/plain": [
       "1337.4"
      ]
     },
     "execution_count": 40,
     "metadata": {},
     "output_type": "execute_result"
    }
   ],
   "source": [
    "pay_bill([200, 400, 86, 300, 500], percent_commission=0.1, offer_amount=1500)"
   ]
  },
  {
   "cell_type": "code",
   "execution_count": null,
   "id": "f3af88b3-3f38-409f-826a-db245db348ff",
   "metadata": {},
   "outputs": [],
   "source": []
  }
 ],
 "metadata": {
  "kernelspec": {
   "display_name": "Python 3 (ipykernel)",
   "language": "python",
   "name": "python3"
  },
  "language_info": {
   "codemirror_mode": {
    "name": "ipython",
    "version": 3
   },
   "file_extension": ".py",
   "mimetype": "text/x-python",
   "name": "python",
   "nbconvert_exporter": "python",
   "pygments_lexer": "ipython3",
   "version": "3.8.10"
  }
 },
 "nbformat": 4,
 "nbformat_minor": 5
}
