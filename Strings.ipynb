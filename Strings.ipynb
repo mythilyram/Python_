{
 "cells": [
  {
   "cell_type": "markdown",
   "id": "0aaea676-2f61-4a96-89e9-4c08fc16b8f9",
   "metadata": {},
   "source": [
    "<h3 style=\"color:purple\">String introduction and index operator</h3>"
   ]
  },
  {
   "cell_type": "code",
   "execution_count": 58,
   "id": "7c7f76da-633d-4d8d-a12e-a2370296b0a2",
   "metadata": {},
   "outputs": [],
   "source": [
    "#to store text data\n",
    "first = \"Mythily\"\n",
    "last = \"Ramanathan\""
   ]
  },
  {
   "cell_type": "code",
   "execution_count": 2,
   "id": "27a269b8-bd37-459d-aeef-eeab0fa3f9ce",
   "metadata": {},
   "outputs": [
    {
     "data": {
      "text/plain": [
       "str"
      ]
     },
     "execution_count": 2,
     "metadata": {},
     "output_type": "execute_result"
    }
   ],
   "source": [
    "type(first)"
   ]
  },
  {
   "cell_type": "code",
   "execution_count": 3,
   "id": "beb63b76-4674-4985-85b1-8439081fd502",
   "metadata": {},
   "outputs": [
    {
     "data": {
      "text/plain": [
       "'Mythily Ramanathan'"
      ]
     },
     "execution_count": 3,
     "metadata": {},
     "output_type": "execute_result"
    }
   ],
   "source": [
    "name = first + \" \" +last\n",
    "name"
   ]
  },
  {
   "cell_type": "code",
   "execution_count": 59,
   "id": "e875ce7e-5085-4070-912c-93b0c92c7418",
   "metadata": {},
   "outputs": [
    {
     "data": {
      "text/plain": [
       "'Mythily Ramanathan'"
      ]
     },
     "execution_count": 59,
     "metadata": {},
     "output_type": "execute_result"
    }
   ],
   "source": [
    "#Python format string\n",
    "full_name = f'{first} {last}'\n",
    "full_name"
   ]
  },
  {
   "cell_type": "code",
   "execution_count": 6,
   "id": "1b03b1df-3f00-4eaf-bf04-1a24968bda98",
   "metadata": {},
   "outputs": [
    {
     "data": {
      "text/plain": [
       "'M'"
      ]
     },
     "execution_count": 6,
     "metadata": {},
     "output_type": "execute_result"
    }
   ],
   "source": [
    "name[0]"
   ]
  },
  {
   "cell_type": "code",
   "execution_count": 7,
   "id": "8f9a758e-a42a-4b36-88ef-f87703a48694",
   "metadata": {},
   "outputs": [
    {
     "data": {
      "text/plain": [
       "'Mythily'"
      ]
     },
     "execution_count": 7,
     "metadata": {},
     "output_type": "execute_result"
    }
   ],
   "source": [
    "name[0:7]"
   ]
  },
  {
   "cell_type": "code",
   "execution_count": 9,
   "id": "8377e573-f5c6-4fd3-8f24-871b8e8d6195",
   "metadata": {},
   "outputs": [
    {
     "data": {
      "text/plain": [
       "'Ramanathan'"
      ]
     },
     "execution_count": 9,
     "metadata": {},
     "output_type": "execute_result"
    }
   ],
   "source": [
    "name[8:18]"
   ]
  },
  {
   "cell_type": "code",
   "execution_count": 10,
   "id": "0be32ad9-e316-4c0f-a5f0-a4a31bdde0cf",
   "metadata": {},
   "outputs": [
    {
     "data": {
      "text/plain": [
       "'n'"
      ]
     },
     "execution_count": 10,
     "metadata": {},
     "output_type": "execute_result"
    }
   ],
   "source": [
    "name[-1]"
   ]
  },
  {
   "cell_type": "code",
   "execution_count": 13,
   "id": "2800e6d9-f449-401f-8f34-7791b528947a",
   "metadata": {},
   "outputs": [
    {
     "data": {
      "text/plain": [
       "'Ramanathan'"
      ]
     },
     "execution_count": 13,
     "metadata": {},
     "output_type": "execute_result"
    }
   ],
   "source": [
    "name[-10:]"
   ]
  },
  {
   "cell_type": "code",
   "execution_count": 14,
   "id": "c8c9b2ea-949e-483f-bd4d-2b5adae81ac9",
   "metadata": {},
   "outputs": [
    {
     "ename": "IndexError",
     "evalue": "string index out of range",
     "output_type": "error",
     "traceback": [
      "\u001b[1;31m---------------------------------------------------------------------------\u001b[0m",
      "\u001b[1;31mIndexError\u001b[0m                                Traceback (most recent call last)",
      "Cell \u001b[1;32mIn[14], line 1\u001b[0m\n\u001b[1;32m----> 1\u001b[0m \u001b[43mname\u001b[49m\u001b[43m[\u001b[49m\u001b[38;5;241;43m18\u001b[39;49m\u001b[43m]\u001b[49m\n",
      "\u001b[1;31mIndexError\u001b[0m: string index out of range"
     ]
    }
   ],
   "source": [
    "name[18]"
   ]
  },
  {
   "cell_type": "code",
   "execution_count": 15,
   "id": "aa0dc292-a9ad-4801-a419-41e2736792ff",
   "metadata": {},
   "outputs": [
    {
     "data": {
      "text/plain": [
       "'n'"
      ]
     },
     "execution_count": 15,
     "metadata": {},
     "output_type": "execute_result"
    }
   ],
   "source": [
    "name[17]"
   ]
  },
  {
   "cell_type": "code",
   "execution_count": 60,
   "id": "1e3a4eeb-3e79-46ce-9a61-e1f0ea2b1144",
   "metadata": {},
   "outputs": [
    {
     "data": {
      "text/plain": [
       "18"
      ]
     },
     "execution_count": 60,
     "metadata": {},
     "output_type": "execute_result"
    }
   ],
   "source": [
    "#length of a string\n",
    "len(name)"
   ]
  },
  {
   "cell_type": "markdown",
   "id": "e60db490-5fcf-4e57-af74-e19722337ed7",
   "metadata": {},
   "source": [
    "<h3 style=\"color:purple\">in operator with string - to check if sub-string in main string.</h3>"
   ]
  },
  {
   "cell_type": "code",
   "execution_count": 17,
   "id": "ad915643-573d-4777-abd4-d6370eadaec1",
   "metadata": {},
   "outputs": [
    {
     "data": {
      "text/plain": [
       "True"
      ]
     },
     "execution_count": 17,
     "metadata": {},
     "output_type": "execute_result"
    }
   ],
   "source": [
    "my_food = \"samosa,jalebi\"\n",
    "'samosa' in my_food"
   ]
  },
  {
   "cell_type": "code",
   "execution_count": 18,
   "id": "44e137e6-eefd-4f06-89c4-e77e70643077",
   "metadata": {},
   "outputs": [
    {
     "data": {
      "text/plain": [
       "False"
      ]
     },
     "execution_count": 18,
     "metadata": {},
     "output_type": "execute_result"
    }
   ],
   "source": [
    "'pasta' in my_food"
   ]
  },
  {
   "cell_type": "code",
   "execution_count": 19,
   "id": "8cb62946-f801-443b-908f-5295eba17db5",
   "metadata": {},
   "outputs": [
    {
     "data": {
      "text/plain": [
       "True"
      ]
     },
     "execution_count": 19,
     "metadata": {},
     "output_type": "execute_result"
    }
   ],
   "source": [
    "'pasta' not in my_food"
   ]
  },
  {
   "cell_type": "markdown",
   "id": "2d187900-8fa3-4cc3-8e8b-ae8398e42161",
   "metadata": {},
   "source": [
    "<h3 style=\"color:purple\">single vs double vs tripple quotes</h3>"
   ]
  },
  {
   "cell_type": "code",
   "execution_count": 21,
   "id": "bb3b444d-9323-4094-8b56-b6ee0361fc06",
   "metadata": {},
   "outputs": [],
   "source": [
    "my_food = 'samosa,jalebi'"
   ]
  },
  {
   "cell_type": "code",
   "execution_count": 22,
   "id": "f8683f51-c1d9-47eb-a244-3965c0085c18",
   "metadata": {},
   "outputs": [
    {
     "data": {
      "text/plain": [
       "'he said \"oops\"'"
      ]
     },
     "execution_count": 22,
     "metadata": {},
     "output_type": "execute_result"
    }
   ],
   "source": [
    "food_story = \"Alex's favourite food is banana\"\n",
    "s = 'he said \"oops\"'\n",
    "s"
   ]
  },
  {
   "cell_type": "code",
   "execution_count": 23,
   "id": "c319949d-5627-464d-b0cd-bd34efeb47d4",
   "metadata": {},
   "outputs": [
    {
     "data": {
      "text/plain": [
       "\"Alex's favourite food is banana\""
      ]
     },
     "execution_count": 23,
     "metadata": {},
     "output_type": "execute_result"
    }
   ],
   "source": [
    "food_story"
   ]
  },
  {
   "cell_type": "code",
   "execution_count": 24,
   "id": "c7be58a1-721b-4b32-b77a-539f97704763",
   "metadata": {},
   "outputs": [
    {
     "data": {
      "text/plain": [
       "'I was forced to do fast after seeing food in my plate in this amazing restaurant. \\nYou know what they are known for? They help people maintain the weight!\\n'"
      ]
     },
     "execution_count": 24,
     "metadata": {},
     "output_type": "execute_result"
    }
   ],
   "source": [
    "food_review = '''I was forced to do fast after seeing food in my plate in this amazing restaurant. \n",
    "You know what they are known for? They help people maintain the weight!\n",
    "'''\n",
    "food_review"
   ]
  },
  {
   "cell_type": "code",
   "execution_count": 62,
   "id": "e223aeba-785f-4f48-85be-d35ac2a9ce1f",
   "metadata": {},
   "outputs": [
    {
     "name": "stdout",
     "output_type": "stream",
     "text": [
      "I was forced to do fast after seeing food in my plate in this amazing restaurant. \n",
      "You know what they are known for? They help people maintain the weight!\n",
      "\n"
     ]
    }
   ],
   "source": [
    "print(food_review) # print fn prints new line in place of \\n"
   ]
  },
  {
   "cell_type": "markdown",
   "id": "4c150508-7876-48ff-bfc9-124b53ea25ee",
   "metadata": {},
   "source": [
    "<h3 style=\"color:purple\">Some useful functions: replace, upper, lower, str, index, isdigit etc</h3>"
   ]
  },
  {
   "cell_type": "code",
   "execution_count": 64,
   "id": "2a6f1331-f759-42fc-bb26-69ea9656b6b6",
   "metadata": {},
   "outputs": [
    {
     "data": {
      "text/plain": [
       "'patient was charged 100$ for lab test'"
      ]
     },
     "execution_count": 64,
     "metadata": {},
     "output_type": "execute_result"
    }
   ],
   "source": [
    "s = \"patient was charged 100$ for lab test\"\n",
    "s"
   ]
  },
  {
   "cell_type": "code",
   "execution_count": 66,
   "id": "e598f46e-45a9-498a-8aee-328141253119",
   "metadata": {},
   "outputs": [
    {
     "data": {
      "text/plain": [
       "'patient was charged 100$ for lab test'"
      ]
     },
     "execution_count": 66,
     "metadata": {},
     "output_type": "execute_result"
    }
   ],
   "source": [
    "s.replace(\"100$\",\"50$\")\n",
    "s"
   ]
  },
  {
   "cell_type": "markdown",
   "id": "e49042c1-7ccd-4cf2-96b7-a58d76282852",
   "metadata": {},
   "source": [
    " Just replace does not change the original string. it replaces in a new string. if you want to replace the original, assign it to the original.\n"
   ]
  },
  {
   "cell_type": "code",
   "execution_count": 26,
   "id": "d053be3f-bd0c-4121-80a1-fe09f3ba78e4",
   "metadata": {},
   "outputs": [
    {
     "data": {
      "text/plain": [
       "'patient was charged 50$ for lab test'"
      ]
     },
     "execution_count": 26,
     "metadata": {},
     "output_type": "execute_result"
    }
   ],
   "source": [
    "s = s.replace(\"100$\",\"50$\")\n",
    "s"
   ]
  },
  {
   "cell_type": "code",
   "execution_count": 72,
   "id": "ea754e9d-df7d-4df5-8b72-27fdad3b0a91",
   "metadata": {},
   "outputs": [
    {
     "data": {
      "text/plain": [
       "['__add__',\n",
       " '__class__',\n",
       " '__contains__',\n",
       " '__delattr__',\n",
       " '__dir__',\n",
       " '__doc__',\n",
       " '__eq__',\n",
       " '__format__',\n",
       " '__ge__',\n",
       " '__getattribute__',\n",
       " '__getitem__',\n",
       " '__getnewargs__',\n",
       " '__gt__',\n",
       " '__hash__',\n",
       " '__init__',\n",
       " '__init_subclass__',\n",
       " '__iter__',\n",
       " '__le__',\n",
       " '__len__',\n",
       " '__lt__',\n",
       " '__mod__',\n",
       " '__mul__',\n",
       " '__ne__',\n",
       " '__new__',\n",
       " '__reduce__',\n",
       " '__reduce_ex__',\n",
       " '__repr__',\n",
       " '__rmod__',\n",
       " '__rmul__',\n",
       " '__setattr__',\n",
       " '__sizeof__',\n",
       " '__str__',\n",
       " '__subclasshook__',\n",
       " 'capitalize',\n",
       " 'casefold',\n",
       " 'center',\n",
       " 'count',\n",
       " 'encode',\n",
       " 'endswith',\n",
       " 'expandtabs',\n",
       " 'find',\n",
       " 'format',\n",
       " 'format_map',\n",
       " 'index',\n",
       " 'isalnum',\n",
       " 'isalpha',\n",
       " 'isascii',\n",
       " 'isdecimal',\n",
       " 'isdigit',\n",
       " 'isidentifier',\n",
       " 'islower',\n",
       " 'isnumeric',\n",
       " 'isprintable',\n",
       " 'isspace',\n",
       " 'istitle',\n",
       " 'isupper',\n",
       " 'join',\n",
       " 'ljust',\n",
       " 'lower',\n",
       " 'lstrip',\n",
       " 'maketrans',\n",
       " 'partition',\n",
       " 'replace',\n",
       " 'rfind',\n",
       " 'rindex',\n",
       " 'rjust',\n",
       " 'rpartition',\n",
       " 'rsplit',\n",
       " 'rstrip',\n",
       " 'split',\n",
       " 'splitlines',\n",
       " 'startswith',\n",
       " 'strip',\n",
       " 'swapcase',\n",
       " 'title',\n",
       " 'translate',\n",
       " 'upper',\n",
       " 'zfill']"
      ]
     },
     "execution_count": 72,
     "metadata": {},
     "output_type": "execute_result"
    }
   ],
   "source": [
    "dir(s)"
   ]
  },
  {
   "cell_type": "code",
   "execution_count": 67,
   "id": "ffb8d264-ed29-4f3d-9e2c-b6a330621b1f",
   "metadata": {},
   "outputs": [
    {
     "data": {
      "text/plain": [
       "'PATIENT WAS CHARGED 100$ FOR LAB TEST'"
      ]
     },
     "execution_count": 67,
     "metadata": {},
     "output_type": "execute_result"
    }
   ],
   "source": [
    "s.upper()"
   ]
  },
  {
   "cell_type": "code",
   "execution_count": 68,
   "id": "6fa85698-2084-49d7-b80f-4dac09c8c99f",
   "metadata": {},
   "outputs": [
    {
     "data": {
      "text/plain": [
       "'abc'"
      ]
     },
     "execution_count": 68,
     "metadata": {},
     "output_type": "execute_result"
    }
   ],
   "source": [
    "'ABC'.lower()"
   ]
  },
  {
   "cell_type": "code",
   "execution_count": 69,
   "id": "aaecb6dd-9c0e-465c-8852-e1ae0cddfc2d",
   "metadata": {},
   "outputs": [
    {
     "data": {
      "text/plain": [
       "8"
      ]
     },
     "execution_count": 69,
     "metadata": {},
     "output_type": "execute_result"
    }
   ],
   "source": [
    "s.index('was')"
   ]
  },
  {
   "cell_type": "code",
   "execution_count": 70,
   "id": "7b553bfb-0f6e-410b-a45e-dc3e1cab9655",
   "metadata": {},
   "outputs": [
    {
     "ename": "ValueError",
     "evalue": "substring not found",
     "output_type": "error",
     "traceback": [
      "\u001b[1;31m---------------------------------------------------------------------------\u001b[0m",
      "\u001b[1;31mValueError\u001b[0m                                Traceback (most recent call last)",
      "Cell \u001b[1;32mIn[70], line 1\u001b[0m\n\u001b[1;32m----> 1\u001b[0m \u001b[43ms\u001b[49m\u001b[38;5;241;43m.\u001b[39;49m\u001b[43mindex\u001b[49m\u001b[43m(\u001b[49m\u001b[38;5;124;43m'\u001b[39;49m\u001b[38;5;124;43mis\u001b[39;49m\u001b[38;5;124;43m'\u001b[39;49m\u001b[43m)\u001b[49m\n",
      "\u001b[1;31mValueError\u001b[0m: substring not found"
     ]
    }
   ],
   "source": [
    "s.index('is')"
   ]
  },
  {
   "cell_type": "code",
   "execution_count": 29,
   "id": "299b0add-a8fd-40b1-a5dc-4d1e4e7dd34c",
   "metadata": {},
   "outputs": [
    {
     "data": {
      "text/plain": [
       "True"
      ]
     },
     "execution_count": 29,
     "metadata": {},
     "output_type": "execute_result"
    }
   ],
   "source": [
    "'410'.isdigit()"
   ]
  },
  {
   "cell_type": "code",
   "execution_count": 30,
   "id": "69853867-576e-4333-b908-783b2d88ce63",
   "metadata": {},
   "outputs": [
    {
     "data": {
      "text/plain": [
       "False"
      ]
     },
     "execution_count": 30,
     "metadata": {},
     "output_type": "execute_result"
    }
   ],
   "source": [
    "'410a'.isdigit()"
   ]
  },
  {
   "cell_type": "code",
   "execution_count": 31,
   "id": "cd75408b-5e4f-4615-8a53-bc3838237481",
   "metadata": {},
   "outputs": [
    {
     "data": {
      "text/plain": [
       "'patient was charged 50$ for lab test'"
      ]
     },
     "execution_count": 31,
     "metadata": {},
     "output_type": "execute_result"
    }
   ],
   "source": [
    "s"
   ]
  },
  {
   "cell_type": "code",
   "execution_count": 32,
   "id": "5de8edb9-308a-46de-b09f-8f221cf679ba",
   "metadata": {},
   "outputs": [
    {
     "ename": "TypeError",
     "evalue": "can only concatenate str (not \"int\") to str",
     "output_type": "error",
     "traceback": [
      "\u001b[1;31m---------------------------------------------------------------------------\u001b[0m",
      "\u001b[1;31mTypeError\u001b[0m                                 Traceback (most recent call last)",
      "Cell \u001b[1;32mIn[32], line 3\u001b[0m\n\u001b[0;32m      1\u001b[0m age\u001b[38;5;241m=\u001b[39m\u001b[38;5;241m38\u001b[39m\n\u001b[0;32m      2\u001b[0m text\u001b[38;5;241m=\u001b[39m\u001b[38;5;124m\"\u001b[39m\u001b[38;5;124mmy age is:\u001b[39m\u001b[38;5;124m\"\u001b[39m\n\u001b[1;32m----> 3\u001b[0m \u001b[43mtext\u001b[49m\u001b[38;5;241;43m+\u001b[39;49m\u001b[43mage\u001b[49m\n",
      "\u001b[1;31mTypeError\u001b[0m: can only concatenate str (not \"int\") to str"
     ]
    }
   ],
   "source": [
    "age=38\n",
    "text=\"my age is:\"\n",
    "text+age"
   ]
  },
  {
   "cell_type": "code",
   "execution_count": 33,
   "id": "b3afe8a1-37f9-4deb-910e-3855445f6835",
   "metadata": {},
   "outputs": [
    {
     "data": {
      "text/plain": [
       "38"
      ]
     },
     "execution_count": 33,
     "metadata": {},
     "output_type": "execute_result"
    }
   ],
   "source": [
    "age"
   ]
  },
  {
   "cell_type": "code",
   "execution_count": 71,
   "id": "67927adf-01fb-42b9-b2f3-186955b02162",
   "metadata": {},
   "outputs": [
    {
     "data": {
      "text/plain": [
       "'38'"
      ]
     },
     "execution_count": 71,
     "metadata": {},
     "output_type": "execute_result"
    }
   ],
   "source": [
    "str(age) #converts number to string."
   ]
  },
  {
   "cell_type": "code",
   "execution_count": 35,
   "id": "642ba780-1c01-4b9b-bd9d-b3c0cb2576f7",
   "metadata": {},
   "outputs": [
    {
     "data": {
      "text/plain": [
       "'my age is:38'"
      ]
     },
     "execution_count": 35,
     "metadata": {},
     "output_type": "execute_result"
    }
   ],
   "source": [
    "text+str(age)"
   ]
  },
  {
   "cell_type": "markdown",
   "id": "e8406564-de3d-408a-807f-d38714785dfa",
   "metadata": {},
   "source": [
    "<h3 style=\"color:purple\">Python format strings: a.k.a f strings and special characters: \\n \\t</h3>"
   ]
  },
  {
   "cell_type": "code",
   "execution_count": 36,
   "id": "c4e718fc-5805-4e43-a895-3f8d57437e15",
   "metadata": {},
   "outputs": [
    {
     "data": {
      "text/plain": [
       "'Height: 65 cm, Weight: 75 kg'"
      ]
     },
     "execution_count": 36,
     "metadata": {},
     "output_type": "execute_result"
    }
   ],
   "source": [
    "height = 65\n",
    "weight = 75\n",
    "patient_information = f\"Height: {height} cm, Weight: {weight} kg\"\n",
    "patient_information"
   ]
  },
  {
   "cell_type": "code",
   "execution_count": 37,
   "id": "934a59bf-ad7c-4fc0-bf97-0a5287e252ce",
   "metadata": {},
   "outputs": [
    {
     "name": "stdout",
     "output_type": "stream",
     "text": [
      "Height: 65 cm\n",
      "Weight: 75 kg\n"
     ]
    }
   ],
   "source": [
    "patient_information = f\"Height: {height} cm\\nWeight: {weight} kg\"\n",
    "print(patient_information)"
   ]
  },
  {
   "cell_type": "code",
   "execution_count": 39,
   "id": "b8961ddc-a487-4ea4-89a1-b3d6f356ac65",
   "metadata": {},
   "outputs": [
    {
     "name": "stdout",
     "output_type": "stream",
     "text": [
      "hey\tbro\n"
     ]
    }
   ],
   "source": [
    "s=\"hey\\tbro\"\n",
    "print(s)"
   ]
  },
  {
   "cell_type": "markdown",
   "id": "8266a503-0208-4f15-84b1-65a781500b89",
   "metadata": {},
   "source": [
    "<h3 style=\"color:purple\">Excersice</h3>\n",
    "\n",
    "1. Create two variables to store how many fruits and vegetables you eat in a day. Now Print \"I eat x vegetables and y fruits daily\" where x and y present vegetables and fruits that you eat every day. Use Python f string for this.\n",
    "\n",
    "2. Create a variable and store the string “The Himalayas are one of the youngest mountain ranges on the planet.”\n",
    "\n",
    "    i. Print ‘The Himalayas’ using slice operator\n",
    "\n",
    "    ii. Print “mountain range” using a negative index\n",
    "   \n",
    "    iii. Print “The Himalayas on the planet” using slice as well as f-string\n",
    "\n",
    "4. You have created a string variable called string= ”There are 9 planets in the solar system”. After some time, you have realized that your sentence is incorrect and there are only 8 planets, now correct your sentence by replacing the incorrect words. (Bonus: Try to do it in one line)\n",
    "\n",
    "5. type this code help(str) in the code cell and press CTRL+enter. "
   ]
  },
  {
   "cell_type": "code",
   "execution_count": 40,
   "id": "8640fcaf-e9b2-4b29-9f4d-91e2d31b278a",
   "metadata": {},
   "outputs": [
    {
     "name": "stdout",
     "output_type": "stream",
     "text": [
      "I eat 5 vegatables and 2 fruits daily.\n"
     ]
    }
   ],
   "source": [
    "#1. \n",
    "fruits = 2\n",
    "vegatables = 5"
   ]
  },
  {
   "cell_type": "code",
   "execution_count": 41,
   "id": "01c2f069-cbcb-4cf5-b215-4429b5699ace",
   "metadata": {},
   "outputs": [],
   "source": [
    "# 2.\n",
    "string = \"The Himalayas are one of the youngest mountain range on the planet.\""
   ]
  },
  {
   "cell_type": "code",
   "execution_count": 44,
   "id": "7c7928bd-da0e-4f03-8b5e-edadde7324ed",
   "metadata": {},
   "outputs": [
    {
     "data": {
      "text/plain": [
       "'The Himalayas'"
      ]
     },
     "execution_count": 44,
     "metadata": {},
     "output_type": "execute_result"
    }
   ],
   "source": [
    "#printing the himalayas\n",
    "string[:13]"
   ]
  },
  {
   "cell_type": "code",
   "execution_count": 45,
   "id": "5558cd50-4b50-4a2c-bdd9-088f5dc3ad29",
   "metadata": {},
   "outputs": [
    {
     "name": "stdout",
     "output_type": "stream",
     "text": [
      "mountain range\n"
     ]
    }
   ],
   "source": [
    "# printing mountain range\n",
    "print(string[-29:-15])"
   ]
  },
  {
   "cell_type": "code",
   "execution_count": 46,
   "id": "886d8843-e0f5-4fbe-bc48-c0bbb2be1740",
   "metadata": {},
   "outputs": [
    {
     "name": "stdout",
     "output_type": "stream",
     "text": [
      "The Himalayas on the planet.\n"
     ]
    }
   ],
   "source": [
    "# slicing\n",
    "print(string[0:13] + string[-15:])"
   ]
  },
  {
   "cell_type": "code",
   "execution_count": 47,
   "id": "a878203d-98df-489d-8d22-0bb0862e5e53",
   "metadata": {},
   "outputs": [
    {
     "name": "stdout",
     "output_type": "stream",
     "text": [
      "There are 9 planet in the solar system\n"
     ]
    }
   ],
   "source": [
    "# 4.\n",
    "string = \"There are 9 planet in the solar system\"\n",
    "print(string)\n"
   ]
  },
  {
   "cell_type": "markdown",
   "id": "1121cdd6-c6c7-4e13-bdac-7aaff8d66fe2",
   "metadata": {},
   "source": [
    "*Correcting the Errors:*\n",
    "\n",
    "There are two errors in the sentence.\\\n",
    "instead of 9 there should be 8 in the sentence\\\n",
    "instead of `planet` it should be `planets` "
   ]
  },
  {
   "cell_type": "code",
   "execution_count": 48,
   "id": "1318a735-64b9-42f0-b24a-008a5dfec0b1",
   "metadata": {},
   "outputs": [
    {
     "name": "stdout",
     "output_type": "stream",
     "text": [
      "There are 8 planet in the solar system\n"
     ]
    }
   ],
   "source": [
    "# replacing the 9 with 8\n",
    "string = string.replace('9', '8')\n",
    "print(string)"
   ]
  },
  {
   "cell_type": "code",
   "execution_count": 49,
   "id": "f482f1f5-7811-4d42-b72d-0a486ef939f8",
   "metadata": {},
   "outputs": [
    {
     "name": "stdout",
     "output_type": "stream",
     "text": [
      "There are 8 planets in the solar system\n"
     ]
    }
   ],
   "source": [
    "string = string.replace('planet', 'planets')\n",
    "print(string)"
   ]
  },
  {
   "cell_type": "code",
   "execution_count": 50,
   "id": "2e455c52-4418-4d70-973c-1e64b353ffab",
   "metadata": {},
   "outputs": [
    {
     "name": "stdout",
     "output_type": "stream",
     "text": [
      "There are 8 planets in the solar system\n"
     ]
    }
   ],
   "source": [
    "#using a single line of code.\n",
    "string = \"There are 9 planet in the solar system\"\n",
    "string = string.replace('9 planet', '8 planets')\n",
    "print(string)"
   ]
  },
  {
   "cell_type": "code",
   "execution_count": 51,
   "id": "f0aff1d2-42d5-4829-a3d4-f17ae09b2ddf",
   "metadata": {},
   "outputs": [
    {
     "name": "stdout",
     "output_type": "stream",
     "text": [
      "Help on class str in module builtins:\n",
      "\n",
      "class str(object)\n",
      " |  str(object='') -> str\n",
      " |  str(bytes_or_buffer[, encoding[, errors]]) -> str\n",
      " |  \n",
      " |  Create a new string object from the given object. If encoding or\n",
      " |  errors is specified, then the object must expose a data buffer\n",
      " |  that will be decoded using the given encoding and error handler.\n",
      " |  Otherwise, returns the result of object.__str__() (if defined)\n",
      " |  or repr(object).\n",
      " |  encoding defaults to sys.getdefaultencoding().\n",
      " |  errors defaults to 'strict'.\n",
      " |  \n",
      " |  Methods defined here:\n",
      " |  \n",
      " |  __add__(self, value, /)\n",
      " |      Return self+value.\n",
      " |  \n",
      " |  __contains__(self, key, /)\n",
      " |      Return key in self.\n",
      " |  \n",
      " |  __eq__(self, value, /)\n",
      " |      Return self==value.\n",
      " |  \n",
      " |  __format__(self, format_spec, /)\n",
      " |      Return a formatted version of the string as described by format_spec.\n",
      " |  \n",
      " |  __ge__(self, value, /)\n",
      " |      Return self>=value.\n",
      " |  \n",
      " |  __getattribute__(self, name, /)\n",
      " |      Return getattr(self, name).\n",
      " |  \n",
      " |  __getitem__(self, key, /)\n",
      " |      Return self[key].\n",
      " |  \n",
      " |  __getnewargs__(...)\n",
      " |  \n",
      " |  __gt__(self, value, /)\n",
      " |      Return self>value.\n",
      " |  \n",
      " |  __hash__(self, /)\n",
      " |      Return hash(self).\n",
      " |  \n",
      " |  __iter__(self, /)\n",
      " |      Implement iter(self).\n",
      " |  \n",
      " |  __le__(self, value, /)\n",
      " |      Return self<=value.\n",
      " |  \n",
      " |  __len__(self, /)\n",
      " |      Return len(self).\n",
      " |  \n",
      " |  __lt__(self, value, /)\n",
      " |      Return self<value.\n",
      " |  \n",
      " |  __mod__(self, value, /)\n",
      " |      Return self%value.\n",
      " |  \n",
      " |  __mul__(self, value, /)\n",
      " |      Return self*value.\n",
      " |  \n",
      " |  __ne__(self, value, /)\n",
      " |      Return self!=value.\n",
      " |  \n",
      " |  __repr__(self, /)\n",
      " |      Return repr(self).\n",
      " |  \n",
      " |  __rmod__(self, value, /)\n",
      " |      Return value%self.\n",
      " |  \n",
      " |  __rmul__(self, value, /)\n",
      " |      Return value*self.\n",
      " |  \n",
      " |  __sizeof__(self, /)\n",
      " |      Return the size of the string in memory, in bytes.\n",
      " |  \n",
      " |  __str__(self, /)\n",
      " |      Return str(self).\n",
      " |  \n",
      " |  capitalize(self, /)\n",
      " |      Return a capitalized version of the string.\n",
      " |      \n",
      " |      More specifically, make the first character have upper case and the rest lower\n",
      " |      case.\n",
      " |  \n",
      " |  casefold(self, /)\n",
      " |      Return a version of the string suitable for caseless comparisons.\n",
      " |  \n",
      " |  center(self, width, fillchar=' ', /)\n",
      " |      Return a centered string of length width.\n",
      " |      \n",
      " |      Padding is done using the specified fill character (default is a space).\n",
      " |  \n",
      " |  count(...)\n",
      " |      S.count(sub[, start[, end]]) -> int\n",
      " |      \n",
      " |      Return the number of non-overlapping occurrences of substring sub in\n",
      " |      string S[start:end].  Optional arguments start and end are\n",
      " |      interpreted as in slice notation.\n",
      " |  \n",
      " |  encode(self, /, encoding='utf-8', errors='strict')\n",
      " |      Encode the string using the codec registered for encoding.\n",
      " |      \n",
      " |      encoding\n",
      " |        The encoding in which to encode the string.\n",
      " |      errors\n",
      " |        The error handling scheme to use for encoding errors.\n",
      " |        The default is 'strict' meaning that encoding errors raise a\n",
      " |        UnicodeEncodeError.  Other possible values are 'ignore', 'replace' and\n",
      " |        'xmlcharrefreplace' as well as any other name registered with\n",
      " |        codecs.register_error that can handle UnicodeEncodeErrors.\n",
      " |  \n",
      " |  endswith(...)\n",
      " |      S.endswith(suffix[, start[, end]]) -> bool\n",
      " |      \n",
      " |      Return True if S ends with the specified suffix, False otherwise.\n",
      " |      With optional start, test S beginning at that position.\n",
      " |      With optional end, stop comparing S at that position.\n",
      " |      suffix can also be a tuple of strings to try.\n",
      " |  \n",
      " |  expandtabs(self, /, tabsize=8)\n",
      " |      Return a copy where all tab characters are expanded using spaces.\n",
      " |      \n",
      " |      If tabsize is not given, a tab size of 8 characters is assumed.\n",
      " |  \n",
      " |  find(...)\n",
      " |      S.find(sub[, start[, end]]) -> int\n",
      " |      \n",
      " |      Return the lowest index in S where substring sub is found,\n",
      " |      such that sub is contained within S[start:end].  Optional\n",
      " |      arguments start and end are interpreted as in slice notation.\n",
      " |      \n",
      " |      Return -1 on failure.\n",
      " |  \n",
      " |  format(...)\n",
      " |      S.format(*args, **kwargs) -> str\n",
      " |      \n",
      " |      Return a formatted version of S, using substitutions from args and kwargs.\n",
      " |      The substitutions are identified by braces ('{' and '}').\n",
      " |  \n",
      " |  format_map(...)\n",
      " |      S.format_map(mapping) -> str\n",
      " |      \n",
      " |      Return a formatted version of S, using substitutions from mapping.\n",
      " |      The substitutions are identified by braces ('{' and '}').\n",
      " |  \n",
      " |  index(...)\n",
      " |      S.index(sub[, start[, end]]) -> int\n",
      " |      \n",
      " |      Return the lowest index in S where substring sub is found,\n",
      " |      such that sub is contained within S[start:end].  Optional\n",
      " |      arguments start and end are interpreted as in slice notation.\n",
      " |      \n",
      " |      Raises ValueError when the substring is not found.\n",
      " |  \n",
      " |  isalnum(self, /)\n",
      " |      Return True if the string is an alpha-numeric string, False otherwise.\n",
      " |      \n",
      " |      A string is alpha-numeric if all characters in the string are alpha-numeric and\n",
      " |      there is at least one character in the string.\n",
      " |  \n",
      " |  isalpha(self, /)\n",
      " |      Return True if the string is an alphabetic string, False otherwise.\n",
      " |      \n",
      " |      A string is alphabetic if all characters in the string are alphabetic and there\n",
      " |      is at least one character in the string.\n",
      " |  \n",
      " |  isascii(self, /)\n",
      " |      Return True if all characters in the string are ASCII, False otherwise.\n",
      " |      \n",
      " |      ASCII characters have code points in the range U+0000-U+007F.\n",
      " |      Empty string is ASCII too.\n",
      " |  \n",
      " |  isdecimal(self, /)\n",
      " |      Return True if the string is a decimal string, False otherwise.\n",
      " |      \n",
      " |      A string is a decimal string if all characters in the string are decimal and\n",
      " |      there is at least one character in the string.\n",
      " |  \n",
      " |  isdigit(self, /)\n",
      " |      Return True if the string is a digit string, False otherwise.\n",
      " |      \n",
      " |      A string is a digit string if all characters in the string are digits and there\n",
      " |      is at least one character in the string.\n",
      " |  \n",
      " |  isidentifier(self, /)\n",
      " |      Return True if the string is a valid Python identifier, False otherwise.\n",
      " |      \n",
      " |      Call keyword.iskeyword(s) to test whether string s is a reserved identifier,\n",
      " |      such as \"def\" or \"class\".\n",
      " |  \n",
      " |  islower(self, /)\n",
      " |      Return True if the string is a lowercase string, False otherwise.\n",
      " |      \n",
      " |      A string is lowercase if all cased characters in the string are lowercase and\n",
      " |      there is at least one cased character in the string.\n",
      " |  \n",
      " |  isnumeric(self, /)\n",
      " |      Return True if the string is a numeric string, False otherwise.\n",
      " |      \n",
      " |      A string is numeric if all characters in the string are numeric and there is at\n",
      " |      least one character in the string.\n",
      " |  \n",
      " |  isprintable(self, /)\n",
      " |      Return True if the string is printable, False otherwise.\n",
      " |      \n",
      " |      A string is printable if all of its characters are considered printable in\n",
      " |      repr() or if it is empty.\n",
      " |  \n",
      " |  isspace(self, /)\n",
      " |      Return True if the string is a whitespace string, False otherwise.\n",
      " |      \n",
      " |      A string is whitespace if all characters in the string are whitespace and there\n",
      " |      is at least one character in the string.\n",
      " |  \n",
      " |  istitle(self, /)\n",
      " |      Return True if the string is a title-cased string, False otherwise.\n",
      " |      \n",
      " |      In a title-cased string, upper- and title-case characters may only\n",
      " |      follow uncased characters and lowercase characters only cased ones.\n",
      " |  \n",
      " |  isupper(self, /)\n",
      " |      Return True if the string is an uppercase string, False otherwise.\n",
      " |      \n",
      " |      A string is uppercase if all cased characters in the string are uppercase and\n",
      " |      there is at least one cased character in the string.\n",
      " |  \n",
      " |  join(self, iterable, /)\n",
      " |      Concatenate any number of strings.\n",
      " |      \n",
      " |      The string whose method is called is inserted in between each given string.\n",
      " |      The result is returned as a new string.\n",
      " |      \n",
      " |      Example: '.'.join(['ab', 'pq', 'rs']) -> 'ab.pq.rs'\n",
      " |  \n",
      " |  ljust(self, width, fillchar=' ', /)\n",
      " |      Return a left-justified string of length width.\n",
      " |      \n",
      " |      Padding is done using the specified fill character (default is a space).\n",
      " |  \n",
      " |  lower(self, /)\n",
      " |      Return a copy of the string converted to lowercase.\n",
      " |  \n",
      " |  lstrip(self, chars=None, /)\n",
      " |      Return a copy of the string with leading whitespace removed.\n",
      " |      \n",
      " |      If chars is given and not None, remove characters in chars instead.\n",
      " |  \n",
      " |  partition(self, sep, /)\n",
      " |      Partition the string into three parts using the given separator.\n",
      " |      \n",
      " |      This will search for the separator in the string.  If the separator is found,\n",
      " |      returns a 3-tuple containing the part before the separator, the separator\n",
      " |      itself, and the part after it.\n",
      " |      \n",
      " |      If the separator is not found, returns a 3-tuple containing the original string\n",
      " |      and two empty strings.\n",
      " |  \n",
      " |  replace(self, old, new, count=-1, /)\n",
      " |      Return a copy with all occurrences of substring old replaced by new.\n",
      " |      \n",
      " |        count\n",
      " |          Maximum number of occurrences to replace.\n",
      " |          -1 (the default value) means replace all occurrences.\n",
      " |      \n",
      " |      If the optional argument count is given, only the first count occurrences are\n",
      " |      replaced.\n",
      " |  \n",
      " |  rfind(...)\n",
      " |      S.rfind(sub[, start[, end]]) -> int\n",
      " |      \n",
      " |      Return the highest index in S where substring sub is found,\n",
      " |      such that sub is contained within S[start:end].  Optional\n",
      " |      arguments start and end are interpreted as in slice notation.\n",
      " |      \n",
      " |      Return -1 on failure.\n",
      " |  \n",
      " |  rindex(...)\n",
      " |      S.rindex(sub[, start[, end]]) -> int\n",
      " |      \n",
      " |      Return the highest index in S where substring sub is found,\n",
      " |      such that sub is contained within S[start:end].  Optional\n",
      " |      arguments start and end are interpreted as in slice notation.\n",
      " |      \n",
      " |      Raises ValueError when the substring is not found.\n",
      " |  \n",
      " |  rjust(self, width, fillchar=' ', /)\n",
      " |      Return a right-justified string of length width.\n",
      " |      \n",
      " |      Padding is done using the specified fill character (default is a space).\n",
      " |  \n",
      " |  rpartition(self, sep, /)\n",
      " |      Partition the string into three parts using the given separator.\n",
      " |      \n",
      " |      This will search for the separator in the string, starting at the end. If\n",
      " |      the separator is found, returns a 3-tuple containing the part before the\n",
      " |      separator, the separator itself, and the part after it.\n",
      " |      \n",
      " |      If the separator is not found, returns a 3-tuple containing two empty strings\n",
      " |      and the original string.\n",
      " |  \n",
      " |  rsplit(self, /, sep=None, maxsplit=-1)\n",
      " |      Return a list of the words in the string, using sep as the delimiter string.\n",
      " |      \n",
      " |        sep\n",
      " |          The delimiter according which to split the string.\n",
      " |          None (the default value) means split according to any whitespace,\n",
      " |          and discard empty strings from the result.\n",
      " |        maxsplit\n",
      " |          Maximum number of splits to do.\n",
      " |          -1 (the default value) means no limit.\n",
      " |      \n",
      " |      Splits are done starting at the end of the string and working to the front.\n",
      " |  \n",
      " |  rstrip(self, chars=None, /)\n",
      " |      Return a copy of the string with trailing whitespace removed.\n",
      " |      \n",
      " |      If chars is given and not None, remove characters in chars instead.\n",
      " |  \n",
      " |  split(self, /, sep=None, maxsplit=-1)\n",
      " |      Return a list of the words in the string, using sep as the delimiter string.\n",
      " |      \n",
      " |      sep\n",
      " |        The delimiter according which to split the string.\n",
      " |        None (the default value) means split according to any whitespace,\n",
      " |        and discard empty strings from the result.\n",
      " |      maxsplit\n",
      " |        Maximum number of splits to do.\n",
      " |        -1 (the default value) means no limit.\n",
      " |  \n",
      " |  splitlines(self, /, keepends=False)\n",
      " |      Return a list of the lines in the string, breaking at line boundaries.\n",
      " |      \n",
      " |      Line breaks are not included in the resulting list unless keepends is given and\n",
      " |      true.\n",
      " |  \n",
      " |  startswith(...)\n",
      " |      S.startswith(prefix[, start[, end]]) -> bool\n",
      " |      \n",
      " |      Return True if S starts with the specified prefix, False otherwise.\n",
      " |      With optional start, test S beginning at that position.\n",
      " |      With optional end, stop comparing S at that position.\n",
      " |      prefix can also be a tuple of strings to try.\n",
      " |  \n",
      " |  strip(self, chars=None, /)\n",
      " |      Return a copy of the string with leading and trailing whitespace removed.\n",
      " |      \n",
      " |      If chars is given and not None, remove characters in chars instead.\n",
      " |  \n",
      " |  swapcase(self, /)\n",
      " |      Convert uppercase characters to lowercase and lowercase characters to uppercase.\n",
      " |  \n",
      " |  title(self, /)\n",
      " |      Return a version of the string where each word is titlecased.\n",
      " |      \n",
      " |      More specifically, words start with uppercased characters and all remaining\n",
      " |      cased characters have lower case.\n",
      " |  \n",
      " |  translate(self, table, /)\n",
      " |      Replace each character in the string using the given translation table.\n",
      " |      \n",
      " |        table\n",
      " |          Translation table, which must be a mapping of Unicode ordinals to\n",
      " |          Unicode ordinals, strings, or None.\n",
      " |      \n",
      " |      The table must implement lookup/indexing via __getitem__, for instance a\n",
      " |      dictionary or list.  If this operation raises LookupError, the character is\n",
      " |      left untouched.  Characters mapped to None are deleted.\n",
      " |  \n",
      " |  upper(self, /)\n",
      " |      Return a copy of the string converted to uppercase.\n",
      " |  \n",
      " |  zfill(self, width, /)\n",
      " |      Pad a numeric string with zeros on the left, to fill a field of the given width.\n",
      " |      \n",
      " |      The string is never truncated.\n",
      " |  \n",
      " |  ----------------------------------------------------------------------\n",
      " |  Static methods defined here:\n",
      " |  \n",
      " |  __new__(*args, **kwargs) from builtins.type\n",
      " |      Create and return a new object.  See help(type) for accurate signature.\n",
      " |  \n",
      " |  maketrans(...)\n",
      " |      Return a translation table usable for str.translate().\n",
      " |      \n",
      " |      If there is only one argument, it must be a dictionary mapping Unicode\n",
      " |      ordinals (integers) or characters to Unicode ordinals, strings or None.\n",
      " |      Character keys will be then converted to ordinals.\n",
      " |      If there are two arguments, they must be strings of equal length, and\n",
      " |      in the resulting dictionary, each character in x will be mapped to the\n",
      " |      character at the same position in y. If there is a third argument, it\n",
      " |      must be a string, whose characters will be mapped to None in the result.\n",
      "\n"
     ]
    }
   ],
   "source": [
    "help(str)"
   ]
  },
  {
   "cell_type": "markdown",
   "id": "4d6bb8a8-9d39-49d0-94b8-0a4c2a395005",
   "metadata": {},
   "source": [
    "`help` is used for getting information about any datatype & methods\n",
    "\n",
    "`str` is used for string datatype\n",
    "\n",
    " There are a lot of methods to try with string datatypes. lets look at some of them"
   ]
  },
  {
   "cell_type": "markdown",
   "id": "68ccfb53-1f8f-42af-9f85-59356d92af5e",
   "metadata": {},
   "source": [
    "One method I am seeing\n",
    "\n",
    "```\n",
    "endswith(...)\n",
    " |      S.endswith(suffix[, start[, end]]) -> bool\n",
    " |      \n",
    " |      Return True if S ends with the specified suffix, False otherwise.\n",
    " |      With optional start, test S beginning at that position.\n",
    " |      With optional end, stop comparing S at that position.\n",
    " |      suffix can also be a tuple of strings to try.\n",
    "```\n",
    "This is used to check if a string ends with the given letter or not."
   ]
  },
  {
   "cell_type": "code",
   "execution_count": 53,
   "id": "5cd88b45-05b0-4db0-adf5-ed44c7012eb2",
   "metadata": {},
   "outputs": [],
   "source": [
    "# creating a string\n",
    "s = \"Python is Easy.\""
   ]
  },
  {
   "cell_type": "code",
   "execution_count": 54,
   "id": "39510972-febe-4cd2-8662-19f6c7696a30",
   "metadata": {},
   "outputs": [
    {
     "data": {
      "text/plain": [
       "True"
      ]
     },
     "execution_count": 54,
     "metadata": {},
     "output_type": "execute_result"
    }
   ],
   "source": [
    "s.endswith('.')"
   ]
  },
  {
   "cell_type": "code",
   "execution_count": 55,
   "id": "ea7f3e71-4f33-4eb8-a3a0-33c96d90d7cc",
   "metadata": {},
   "outputs": [],
   "source": [
    "#It did return True becuase our string is ending with a dot(.)"
   ]
  },
  {
   "cell_type": "code",
   "execution_count": 56,
   "id": "e73da79f-1c75-42f4-b677-ddfc920425bf",
   "metadata": {},
   "outputs": [],
   "source": [
    "s2 = \"I love Pandas\""
   ]
  },
  {
   "cell_type": "code",
   "execution_count": 57,
   "id": "39bd835b-e45b-42fd-bff8-15af302c107a",
   "metadata": {},
   "outputs": [
    {
     "data": {
      "text/plain": [
       "False"
      ]
     },
     "execution_count": 57,
     "metadata": {},
     "output_type": "execute_result"
    }
   ],
   "source": [
    "s2.endswith('.')"
   ]
  },
  {
   "cell_type": "markdown",
   "id": "2e01a350-48b4-4b07-8b68-396c14eae92d",
   "metadata": {},
   "source": [
    "<h3 style=\"color:purple\">QUIZ</h3>"
   ]
  },
  {
   "cell_type": "code",
   "execution_count": 74,
   "id": "7082dde4-44a6-4a18-85a6-6028bda5333b",
   "metadata": {},
   "outputs": [
    {
     "data": {
      "text/plain": [
       "True"
      ]
     },
     "execution_count": 74,
     "metadata": {},
     "output_type": "execute_result"
    }
   ],
   "source": [
    "my_fav_sweet = \"I love jalebi, kaju katli and laddu.\"\n",
    "\n",
    "\"Jalebi\" not in my_fav_sweet"
   ]
  },
  {
   "cell_type": "markdown",
   "id": "f77af2b7-ad5e-4ea4-96ec-6d79a7e9e5ed",
   "metadata": {},
   "source": [
    "1. Index of the strings in python starts with 0\n",
    "\n",
    "2.   To get the length of the string in Python - len()"
   ]
  },
  {
   "cell_type": "code",
   "execution_count": 75,
   "id": "9567dafa-716d-4c43-893c-b355ebe03f0e",
   "metadata": {},
   "outputs": [
    {
     "name": "stdout",
     "output_type": "stream",
     "text": [
      "Skill\n"
     ]
    }
   ],
   "source": [
    "string = \"CodeBasics\"\n",
    "print(string[:4].replace(\"Code\", \"Skill\"))"
   ]
  },
  {
   "cell_type": "code",
   "execution_count": 80,
   "id": "db50ce7e-3b75-47c6-b901-997c19e21847",
   "metadata": {},
   "outputs": [
    {
     "data": {
      "text/plain": [
       "'Hello Python!'"
      ]
     },
     "execution_count": 80,
     "metadata": {},
     "output_type": "execute_result"
    }
   ],
   "source": [
    "# convert the string “hello python!” to “Hello Python!”\n",
    "s1 = \"hello python!\"\n",
    "s1=s1.title()\n",
    "s1"
   ]
  }
 ],
 "metadata": {
  "kernelspec": {
   "display_name": "Python 3 (ipykernel)",
   "language": "python",
   "name": "python3"
  },
  "language_info": {
   "codemirror_mode": {
    "name": "ipython",
    "version": 3
   },
   "file_extension": ".py",
   "mimetype": "text/x-python",
   "name": "python",
   "nbconvert_exporter": "python",
   "pygments_lexer": "ipython3",
   "version": "3.8.10"
  }
 },
 "nbformat": 4,
 "nbformat_minor": 5
}
