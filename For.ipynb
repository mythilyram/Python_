{
 "cells": [
  {
   "cell_type": "markdown",
   "id": "c5a355d9-f8c5-4b46-9c2c-52b2749b4a77",
   "metadata": {},
   "source": [
    "C:\\Users\\sathi>cd C:\\Users\\sathi\\AppData\\Roaming\\Microsoft\\Windows\\Start Menu\\Programs\\Python 3.8\n",
    "\n",
    "C:\\Users\\sathi\\AppData\\Roaming\\Microsoft\\Windows\\Start Menu\\Programs\\Python 3.8>python -m notebook"
   ]
  },
  {
   "cell_type": "code",
   "execution_count": 2,
   "id": "7e2e1c61-26c9-4002-9ea3-4a1681bd4795",
   "metadata": {},
   "outputs": [],
   "source": [
    "expenses = [1200,1300,1500,1700]"
   ]
  },
  {
   "cell_type": "code",
   "execution_count": 4,
   "id": "72c51686-d408-4e96-b7dc-595845792ab9",
   "metadata": {},
   "outputs": [
    {
     "name": "stdout",
     "output_type": "stream",
     "text": [
      "5700\n"
     ]
    }
   ],
   "source": [
    "total_expense = 0\n",
    "\n",
    "for expense in expenses:\n",
    "    total_expense = total_expense + expense\n",
    "print(total_expense)    "
   ]
  },
  {
   "cell_type": "markdown",
   "id": "f64689ee-f7b6-4181-80fc-e9087f193d27",
   "metadata": {},
   "source": [
    "to display as \n",
    "\n",
    "month 1 : 1200\n",
    "\n",
    "month 2 : 1300.."
   ]
  },
  {
   "cell_type": "code",
   "execution_count": 5,
   "id": "deacd4fd-68b2-4c24-9e63-ec26aa13e8d3",
   "metadata": {},
   "outputs": [
    {
     "data": {
      "text/plain": [
       "range(0, 5)"
      ]
     },
     "execution_count": 5,
     "metadata": {},
     "output_type": "execute_result"
    }
   ],
   "source": [
    "range(5)"
   ]
  },
  {
   "cell_type": "code",
   "execution_count": 15,
   "id": "e6975536-8de8-476c-9b69-463fc8760728",
   "metadata": {},
   "outputs": [
    {
     "name": "stdout",
     "output_type": "stream",
     "text": [
      "0\n",
      "1\n",
      "2\n",
      "3\n",
      "4\n"
     ]
    }
   ],
   "source": [
    "for i in range(5): # : is required\n",
    "    print (i)      # i in ()"
   ]
  },
  {
   "cell_type": "code",
   "execution_count": 8,
   "id": "456da498-68fb-4035-875c-768486cbaeef",
   "metadata": {},
   "outputs": [
    {
     "data": {
      "text/plain": [
       "range(0, 4)"
      ]
     },
     "execution_count": 8,
     "metadata": {},
     "output_type": "execute_result"
    }
   ],
   "source": [
    "range(len(expenses))"
   ]
  },
  {
   "cell_type": "code",
   "execution_count": 27,
   "id": "dfc3a881-082a-4eab-9e51-7d159ee27063",
   "metadata": {},
   "outputs": [
    {
     "name": "stdout",
     "output_type": "stream",
     "text": [
      "Month 1, expense : 1200\n",
      "Month 2, expense : 1300\n",
      "Month 3, expense : 1500\n",
      "Month 4, expense : 1700\n",
      "Total expense: 5700\n"
     ]
    }
   ],
   "source": [
    "expenses = [1200,1300,1500,1700]\n",
    "total_expense = 0\n",
    "\n",
    "for i in range(len(expenses)):\n",
    "    expense = expenses[i]\n",
    "    print(f\"Month {i+1}, expense : {expense}\")    \n",
    "    total_expense += expense                  #total_expense = total_expense + expense\n",
    "    \n",
    "print(f\"Total expense: {total_expense}\")    "
   ]
  },
  {
   "cell_type": "code",
   "execution_count": 28,
   "id": "72bd2271-5f29-4304-9ea9-3e0397bcee5d",
   "metadata": {},
   "outputs": [
    {
     "name": "stdout",
     "output_type": "stream",
     "text": [
      "Month 1, expense : 1200\n",
      "Month 2, expense : 1300\n",
      "Month 3, expense : 1500\n",
      "Month 4, expense : 1700\n",
      "Total expense: 5700\n"
     ]
    }
   ],
   "source": [
    "expenses = [1200,1300,1500,1700]\n",
    "total_expense = 0\n",
    "\n",
    "for i, expense in enumerate(expenses):\n",
    "    print(f\"Month {i+1}, expense : {expense}\")    \n",
    "    total_expense = total_expense + expense\n",
    "    \n",
    "print(f\"Total expense: {total_expense}\")    "
   ]
  },
  {
   "cell_type": "code",
   "execution_count": 31,
   "id": "fb8cfe58-c3ea-4271-984d-5c2071398fcb",
   "metadata": {},
   "outputs": [
    {
     "name": "stdout",
     "output_type": "stream",
     "text": [
      "Month 3 has expense >2000\n"
     ]
    }
   ],
   "source": [
    "# find the first month when expense > 2000\n",
    "\n",
    "expenses = [1200,1900,2100,1700,2300]\n",
    "\n",
    "for i, expense in enumerate(expenses):\n",
    "    if expense > 2000:\n",
    "        print(f\"Month {i+1} has expense >2000\")  \n",
    "        break"
   ]
  },
  {
   "cell_type": "markdown",
   "id": "5471382a-94e5-4377-820d-aa5a4fac986e",
   "metadata": {},
   "source": [
    "Exercise\n",
    "\n",
    "Write a Python program to print the following pattern.\n",
    "\n",
    "1 2 3 4 5\n",
    "\n",
    "1 2 3 4 \n",
    "\n",
    "1 2 3\n",
    "\n",
    "1 2\n",
    "\n",
    "1"
   ]
  },
  {
   "cell_type": "code",
   "execution_count": 53,
   "id": "73f80284-a116-4fe7-8476-d4c3b1223ecf",
   "metadata": {},
   "outputs": [
    {
     "name": "stdout",
     "output_type": "stream",
     "text": [
      "1 2 3 4 5 \n",
      "1 2 3 4 \n",
      "1 2 3 \n",
      "1 2 \n",
      "1 \n"
     ]
    }
   ],
   "source": [
    "rows = 5\n",
    "for i in range(rows,0,-1):\n",
    "    for j in range(1,i+1):\n",
    "        print(j, end=\" \")\n",
    "    print(\"\")"
   ]
  },
  {
   "cell_type": "code",
   "execution_count": 56,
   "id": "e313ae51-4423-4c6b-a224-c5f0c14f9fe8",
   "metadata": {},
   "outputs": [
    {
     "name": "stdout",
     "output_type": "stream",
     "text": [
      "5 4 3 2 1 "
     ]
    }
   ],
   "source": [
    "for i in range(rows,0,-1):\n",
    "    print(i, end=\" \")"
   ]
  },
  {
   "cell_type": "code",
   "execution_count": 67,
   "id": "443951ef-24d4-4820-b78f-b9ea2d191761",
   "metadata": {},
   "outputs": [
    {
     "name": "stdout",
     "output_type": "stream",
     "text": [
      "110\n"
     ]
    }
   ],
   "source": [
    "# Write a Python program to find the sum of all the numbers except odd numbers between 1 and 20 using a loop. \n",
    "#Can you also do this using a while loop?\n",
    "\n",
    "sum=0\n",
    "for num in range(1,21):\n",
    "    if(num%2 == 1):\n",
    "        continue\n",
    "    sum = sum + num\n",
    "print(sum)\n"
   ]
  },
  {
   "cell_type": "code",
   "execution_count": 80,
   "id": "704bf175-f114-455b-914a-fed411c16e8a",
   "metadata": {},
   "outputs": [
    {
     "name": "stdout",
     "output_type": "stream",
     "text": [
      "count of 6 = 4, count of 1 = 3, count of 6s two times in a row = 0\n"
     ]
    }
   ],
   "source": [
    "#After throwing the dice several times, you got this result,\n",
    "# dice_result  = [5,6,4,2,5,4,4,5,3,3,2,6,1,2,1,1,6,5]\n",
    "# Using a for loop find out the followings:\n",
    "    # How many times have you got 6s\n",
    "    # How many times have you got 1s\n",
    "    # How many times have you got 6s two times in a row\n",
    "dice_result  = [5,6,4,2,5,4,4,5,3,3,2,6,1,2,1,1,6,6,5]\n",
    "count_6 = 0\n",
    "count_1 = 0\n",
    "\n",
    "for num in dice_result:\n",
    "    if(num == 1):\n",
    "        count_1 +=1\n",
    "    if(num == 6):\n",
    "        if(dice_result[num]==6):\n",
    "            count_6_twice_in_a_row += 1 \n",
    "        count_6 +=1\n",
    "print(f\"count of 6 = {count_6}, count of 1 = {count_1}, count of 6s two times in a row = {count_6_twice_in_a_row}\" )\n",
    "    "
   ]
  },
  {
   "cell_type": "code",
   "execution_count": 84,
   "id": "787acf33-9a0f-4fff-866c-e8d93c9dfd2c",
   "metadata": {},
   "outputs": [
    {
     "name": "stdout",
     "output_type": "stream",
     "text": [
      "count of 6s two times in a row = 3\n"
     ]
    }
   ],
   "source": [
    "dice_result  = [5,6,4,2,5,4,4,5,3,3,2,6,6,1,2,1,1,6,6,6,5]\n",
    "count_6_twice_in_a_row = 0\n",
    "l = len(dice_result)\n",
    "for i in range(l-1):\n",
    "    if dice_result[i] ==6 and  dice_result[i+1] ==6:\n",
    "        count_6_twice_in_a_row +=1\n",
    "print(f\"count of 6s two times in a row = {count_6_twice_in_a_row}\" )\n",
    " "
   ]
  },
  {
   "cell_type": "code",
   "execution_count": 91,
   "id": "5750859c-b21d-4900-8081-6829aaed3df7",
   "metadata": {},
   "outputs": [
    {
     "name": "stdin",
     "output_type": "stream",
     "text": [
      "Are you tired? n\n"
     ]
    },
    {
     "name": "stdout",
     "output_type": "stream",
     "text": [
      "You only have 50 push-ups remaining\n"
     ]
    },
    {
     "name": "stdin",
     "output_type": "stream",
     "text": [
      "Are you tired? n\n"
     ]
    },
    {
     "name": "stdout",
     "output_type": "stream",
     "text": [
      "You only have 40 push-ups remaining\n"
     ]
    },
    {
     "name": "stdin",
     "output_type": "stream",
     "text": [
      "Are you tired? n\n"
     ]
    },
    {
     "name": "stdout",
     "output_type": "stream",
     "text": [
      "You only have 30 push-ups remaining\n"
     ]
    },
    {
     "name": "stdin",
     "output_type": "stream",
     "text": [
      "Are you tired? n\n"
     ]
    },
    {
     "name": "stdout",
     "output_type": "stream",
     "text": [
      "You only have 20 push-ups remaining\n"
     ]
    },
    {
     "name": "stdin",
     "output_type": "stream",
     "text": [
      "Are you tired? n\n"
     ]
    },
    {
     "name": "stdout",
     "output_type": "stream",
     "text": [
      "You only have 10 push-ups remaining\n",
      "Congratulations! You made it\n"
     ]
    }
   ],
   "source": [
    "# Let's say you are doing push-ups and you have to complete 50 push-ups daily, write a program that,\n",
    "# Upon completing 10 push-ups in a go, asks you, “Are you tired?”\n",
    "# If you reply “yes” or “y” then it should break and print “You did total push-ups.”\n",
    "# For example: If you did only 30  push-ups and answered “yes” to your program. It will break the loop and print “You did a total of 30 push-ups**”**\n",
    "# If you reply “no” or “n” then it should continue and display how many push-ups are remaining  now after that ask you again “Are you tired?”\n",
    "# For Example: if you answered “no” then it should display that 20 push-ups are remaining and ask you again “Are you tired?”\n",
    "# If you complete all 50 push-ups, then it should print the “Congratulations! You made it” and stopped the program.\n",
    "\n",
    "push_up = 50\n",
    "for i in range(push_up):\n",
    "    if(i % 10 ) == 0:\n",
    "        ans = input(\"Are you tired?\")\n",
    "        if ans == \"yes\" or ans == \"y\":\n",
    "            print(f\"You did a total of {i} push-ups\")\n",
    "            break\n",
    "        elif  ans == \"no\" or ans == \"n\":\n",
    "            print(f\"You only have {50-i} push-ups remaining\")\n",
    "print(\"Congratulations! You made it\")"
   ]
  },
  {
   "cell_type": "code",
   "execution_count": null,
   "id": "473aa416-1d6d-4e65-9570-1c2aaa697416",
   "metadata": {},
   "outputs": [],
   "source": []
  }
 ],
 "metadata": {
  "kernelspec": {
   "display_name": "Python 3 (ipykernel)",
   "language": "python",
   "name": "python3"
  },
  "language_info": {
   "codemirror_mode": {
    "name": "ipython",
    "version": 3
   },
   "file_extension": ".py",
   "mimetype": "text/x-python",
   "name": "python",
   "nbconvert_exporter": "python",
   "pygments_lexer": "ipython3",
   "version": "3.8.10"
  }
 },
 "nbformat": 4,
 "nbformat_minor": 5
}
