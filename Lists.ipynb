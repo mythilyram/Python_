{
 "cells": [
  {
   "cell_type": "markdown",
   "id": "729f49fb-414f-4192-8c9b-be6e7fc53559",
   "metadata": {},
   "source": [
    "<h3 style=\"color:purple\">Lists introduction</h3>"
   ]
  },
  {
   "cell_type": "code",
   "execution_count": 1,
   "id": "331ca946-d316-4635-a8cc-6585481706e0",
   "metadata": {},
   "outputs": [],
   "source": [
    "item1 = \"bread\"\n",
    "item2 = \"pasta\"\n",
    "item3 = \"cheese\"\n",
    "item4 = \"veggies\"\n"
   ]
  },
  {
   "cell_type": "code",
   "execution_count": 2,
   "id": "3a174e1d-9c60-4d19-86d6-ac424160f8ab",
   "metadata": {},
   "outputs": [
    {
     "data": {
      "text/plain": [
       "['bread', 'pasta', 'fruits', 'veggies']"
      ]
     },
     "execution_count": 2,
     "metadata": {},
     "output_type": "execute_result"
    }
   ],
   "source": [
    "items = [\"bread\",\"pasta\",\"fruits\",\"veggies\"]\n",
    "items"
   ]
  },
  {
   "cell_type": "markdown",
   "id": "0c350490-fdec-41fd-8e39-4411f2eb7579",
   "metadata": {},
   "source": [
    "<h3 style=\"color:purple\">Accessing list elements</h3>"
   ]
  },
  {
   "cell_type": "code",
   "execution_count": 3,
   "id": "af1608fe-ec8e-4f2e-b5c3-c36623fb30ef",
   "metadata": {},
   "outputs": [
    {
     "data": {
      "text/plain": [
       "'bread'"
      ]
     },
     "execution_count": 3,
     "metadata": {},
     "output_type": "execute_result"
    }
   ],
   "source": [
    "items[0]"
   ]
  },
  {
   "cell_type": "code",
   "execution_count": 4,
   "id": "10115f98-5e54-490a-a0f3-27d308aa9250",
   "metadata": {},
   "outputs": [
    {
     "data": {
      "text/plain": [
       "['bread', 'pasta']"
      ]
     },
     "execution_count": 4,
     "metadata": {},
     "output_type": "execute_result"
    }
   ],
   "source": [
    "items[:2]"
   ]
  },
  {
   "cell_type": "code",
   "execution_count": 5,
   "id": "a5826d11-6a92-4d38-b2eb-90a83cd53e8b",
   "metadata": {},
   "outputs": [
    {
     "data": {
      "text/plain": [
       "'veggies'"
      ]
     },
     "execution_count": 5,
     "metadata": {},
     "output_type": "execute_result"
    }
   ],
   "source": [
    "items[-1]"
   ]
  },
  {
   "cell_type": "code",
   "execution_count": 6,
   "id": "6b8f07e6-29de-4aa6-b129-ce5929e89e4a",
   "metadata": {},
   "outputs": [
    {
     "data": {
      "text/plain": [
       "['bread', 'pasta', 'eggs', 'veggies']"
      ]
     },
     "execution_count": 6,
     "metadata": {},
     "output_type": "execute_result"
    }
   ],
   "source": [
    "items[2] = 'eggs'\n",
    "items"
   ]
  },
  {
   "cell_type": "markdown",
   "id": "5afe6f41-15c9-4459-a431-344f67c99871",
   "metadata": {},
   "source": [
    "<h3 style=\"color:purple\">Adding and removing elements from the list</h3>"
   ]
  },
  {
   "cell_type": "code",
   "execution_count": 7,
   "id": "8e514796-0ad6-4b15-a3ae-f17a6efcf5e3",
   "metadata": {},
   "outputs": [
    {
     "data": {
      "text/plain": [
       "['bread', 'pasta', 'eggs', 'veggies', 'butter']"
      ]
     },
     "execution_count": 7,
     "metadata": {},
     "output_type": "execute_result"
    }
   ],
   "source": [
    "items.append('butter')\n",
    "items"
   ]
  },
  {
   "cell_type": "code",
   "execution_count": 8,
   "id": "6ea2e4ff-e32e-4d35-99f4-f7da08c17feb",
   "metadata": {},
   "outputs": [
    {
     "data": {
      "text/plain": [
       "['bread', 'pasta', 'fruits', 'veggies']"
      ]
     },
     "execution_count": 8,
     "metadata": {},
     "output_type": "execute_result"
    }
   ],
   "source": [
    "#To add with bread\n",
    "items = [\"bread\",\"pasta\",\"fruits\",\"veggies\"]\n",
    "items"
   ]
  },
  {
   "cell_type": "code",
   "execution_count": 9,
   "id": "b861640d-6cbb-477b-8c18-286cd5557dba",
   "metadata": {},
   "outputs": [
    {
     "data": {
      "text/plain": [
       "['bread', 'butter', 'pasta', 'fruits', 'veggies']"
      ]
     },
     "execution_count": 9,
     "metadata": {},
     "output_type": "execute_result"
    }
   ],
   "source": [
    "items.insert(1,\"butter\")\n",
    "items"
   ]
  },
  {
   "cell_type": "code",
   "execution_count": 10,
   "id": "43356924-1e9a-4ccc-9461-4d97fbe57cf1",
   "metadata": {},
   "outputs": [
    {
     "data": {
      "text/plain": [
       "['bread', 'butter', 'fruits', 'veggies']"
      ]
     },
     "execution_count": 10,
     "metadata": {},
     "output_type": "execute_result"
    }
   ],
   "source": [
    "items.remove(\"pasta\")\n",
    "items"
   ]
  },
  {
   "cell_type": "code",
   "execution_count": 11,
   "id": "9227bda7-597d-4536-a948-a7f2e9eb461f",
   "metadata": {},
   "outputs": [
    {
     "ename": "ValueError",
     "evalue": "list.remove(x): x not in list",
     "output_type": "error",
     "traceback": [
      "\u001b[1;31m---------------------------------------------------------------------------\u001b[0m",
      "\u001b[1;31mValueError\u001b[0m                                Traceback (most recent call last)",
      "Cell \u001b[1;32mIn[11], line 1\u001b[0m\n\u001b[1;32m----> 1\u001b[0m \u001b[43mitems\u001b[49m\u001b[38;5;241;43m.\u001b[39;49m\u001b[43mremove\u001b[49m\u001b[43m(\u001b[49m\u001b[38;5;124;43m\"\u001b[39;49m\u001b[38;5;124;43mfan\u001b[39;49m\u001b[38;5;124;43m\"\u001b[39;49m\u001b[43m)\u001b[49m\n",
      "\u001b[1;31mValueError\u001b[0m: list.remove(x): x not in list"
     ]
    }
   ],
   "source": [
    "items.remove(\"fan\")"
   ]
  },
  {
   "cell_type": "code",
   "execution_count": 12,
   "id": "b03a78e7-4c7d-4ed8-b446-f77f630bfb9d",
   "metadata": {},
   "outputs": [
    {
     "data": {
      "text/plain": [
       "['bread', 'butter', 'fruits', 'veggies']"
      ]
     },
     "execution_count": 12,
     "metadata": {},
     "output_type": "execute_result"
    }
   ],
   "source": [
    "items"
   ]
  },
  {
   "cell_type": "markdown",
   "id": "1eb28040-ec5a-40f4-80d6-15a71f39892d",
   "metadata": {},
   "source": [
    "<h3 style=\"color:purple\">in operator</h3>"
   ]
  },
  {
   "cell_type": "code",
   "execution_count": 13,
   "id": "fc5ca807-72e4-45d3-8305-c78cd2c61637",
   "metadata": {},
   "outputs": [
    {
     "data": {
      "text/plain": [
       "True"
      ]
     },
     "execution_count": 13,
     "metadata": {},
     "output_type": "execute_result"
    }
   ],
   "source": [
    "\"bread\" in items"
   ]
  },
  {
   "cell_type": "code",
   "execution_count": 14,
   "id": "76bb541c-ef93-4ca0-bdba-cc34c0e11947",
   "metadata": {},
   "outputs": [
    {
     "data": {
      "text/plain": [
       "False"
      ]
     },
     "execution_count": 14,
     "metadata": {},
     "output_type": "execute_result"
    }
   ],
   "source": [
    "\"rice\" in items"
   ]
  },
  {
   "cell_type": "markdown",
   "id": "f0a92b8f-44cf-4649-95a0-0375caf9cfc0",
   "metadata": {},
   "source": [
    "<h3 style=\"color:purple\">sort the list</h3>"
   ]
  },
  {
   "cell_type": "code",
   "execution_count": 15,
   "id": "251dbc74-24ec-49d5-b55f-5fb4738da301",
   "metadata": {},
   "outputs": [
    {
     "data": {
      "text/plain": [
       "[30, 45, 300, 1200]"
      ]
     },
     "execution_count": 15,
     "metadata": {},
     "output_type": "execute_result"
    }
   ],
   "source": [
    "expenses = [30,1200,45,300]\n",
    "expenses.sort()\n",
    "expenses"
   ]
  },
  {
   "cell_type": "markdown",
   "id": "d8ed937a-7521-47c7-8819-e85d2be534d3",
   "metadata": {},
   "source": [
    "<h3 style=\"color:purple\">Joining two lists. Also known as concatenation</h3>"
   ]
  },
  {
   "cell_type": "code",
   "execution_count": 16,
   "id": "08bf8e02-3ebe-4013-b357-00ab5f6a1698",
   "metadata": {},
   "outputs": [],
   "source": [
    "food_items=[\"bread\",\"pasta\",\"fruits\"]\n",
    "bathroom_items=[\"shampoo\",\"soap\"]"
   ]
  },
  {
   "cell_type": "code",
   "execution_count": 17,
   "id": "4119fb91-e683-445f-8732-5ffe6fc6540b",
   "metadata": {},
   "outputs": [
    {
     "data": {
      "text/plain": [
       "['bread', 'pasta', 'fruits', 'shampoo', 'soap']"
      ]
     },
     "execution_count": 17,
     "metadata": {},
     "output_type": "execute_result"
    }
   ],
   "source": [
    "all_items = food_items+bathroom_items\n",
    "all_items"
   ]
  },
  {
   "cell_type": "code",
   "execution_count": 18,
   "id": "d406b46f-f1d1-4ab1-9608-c3d668dbdac7",
   "metadata": {},
   "outputs": [
    {
     "data": {
      "text/plain": [
       "5"
      ]
     },
     "execution_count": 18,
     "metadata": {},
     "output_type": "execute_result"
    }
   ],
   "source": [
    "len(all_items)"
   ]
  },
  {
   "cell_type": "markdown",
   "id": "d8767a4e-4acc-4390-8104-19d61e6c9d5f",
   "metadata": {},
   "source": [
    "<h3 style=\"color:purple\">Printing all list funcitons</h3>"
   ]
  },
  {
   "cell_type": "code",
   "execution_count": 19,
   "id": "64fe2539-152f-4590-ae5c-54f9f40b93e7",
   "metadata": {},
   "outputs": [
    {
     "data": {
      "text/plain": [
       "['__add__',\n",
       " '__class__',\n",
       " '__contains__',\n",
       " '__delattr__',\n",
       " '__delitem__',\n",
       " '__dir__',\n",
       " '__doc__',\n",
       " '__eq__',\n",
       " '__format__',\n",
       " '__ge__',\n",
       " '__getattribute__',\n",
       " '__getitem__',\n",
       " '__gt__',\n",
       " '__hash__',\n",
       " '__iadd__',\n",
       " '__imul__',\n",
       " '__init__',\n",
       " '__init_subclass__',\n",
       " '__iter__',\n",
       " '__le__',\n",
       " '__len__',\n",
       " '__lt__',\n",
       " '__mul__',\n",
       " '__ne__',\n",
       " '__new__',\n",
       " '__reduce__',\n",
       " '__reduce_ex__',\n",
       " '__repr__',\n",
       " '__reversed__',\n",
       " '__rmul__',\n",
       " '__setattr__',\n",
       " '__setitem__',\n",
       " '__sizeof__',\n",
       " '__str__',\n",
       " '__subclasshook__',\n",
       " 'append',\n",
       " 'clear',\n",
       " 'copy',\n",
       " 'count',\n",
       " 'extend',\n",
       " 'index',\n",
       " 'insert',\n",
       " 'pop',\n",
       " 'remove',\n",
       " 'reverse',\n",
       " 'sort']"
      ]
     },
     "execution_count": 19,
     "metadata": {},
     "output_type": "execute_result"
    }
   ],
   "source": [
    "dir(all_items)"
   ]
  },
  {
   "cell_type": "code",
   "execution_count": 20,
   "id": "b882f1bb-7b0a-4b1a-b1b1-030c3f8b4a04",
   "metadata": {},
   "outputs": [
    {
     "data": {
      "text/plain": [
       "['bread', 'pasta', 'fruits', 'shampoo', 'soap']"
      ]
     },
     "execution_count": 20,
     "metadata": {},
     "output_type": "execute_result"
    }
   ],
   "source": [
    "all_items"
   ]
  },
  {
   "cell_type": "code",
   "execution_count": 21,
   "id": "5e3a646e-f17b-40db-bbd2-372ebe212cfa",
   "metadata": {},
   "outputs": [
    {
     "data": {
      "text/plain": [
       "['soap', 'shampoo', 'fruits', 'pasta', 'bread']"
      ]
     },
     "execution_count": 21,
     "metadata": {},
     "output_type": "execute_result"
    }
   ],
   "source": [
    "all_items.reverse()\n",
    "all_items"
   ]
  },
  {
   "cell_type": "code",
   "execution_count": 22,
   "id": "88d3684f-2d68-4e14-a4f3-45519b31fc0d",
   "metadata": {},
   "outputs": [
    {
     "data": {
      "text/plain": [
       "['car', 4.5, True]"
      ]
     },
     "execution_count": 22,
     "metadata": {},
     "output_type": "execute_result"
    }
   ],
   "source": [
    "random = [\"car\", 4.5, True]\n",
    "random"
   ]
  },
  {
   "cell_type": "markdown",
   "id": "a01e593a-6882-4788-a654-727c729ce1e8",
   "metadata": {},
   "source": [
    "<h3 style=\"color:purple\">Excersice: list</h3>\n",
    "\n",
    "You are a Marvel fan and created a list of superheroes.\r\n",
    "\r\n",
    "​​​​​​​avengers  = [\"Iron Man\", \"Captain America\", \"Black Widow\", \"Hulk\", \"Thor\", \"Hawkeye\"\n",
    "]\r\n",
    "Using this list, do the following1. :\r\n",
    "\r\n",
    "Calculate how many members are in the Avengers.\n",
    "\n",
    "2. eam?\r\n",
    "Iron Man made Spider-Man a new member of the Avengers, add him to your\n",
    "\n",
    "3. list.\r\n",
    "Captain America is the leader of the Avengers, you need to add him before Iron Man, so remove him from the list and add him before Ir\n",
    " \n",
    "4. n Man.\r\n",
    "You don’t like Thor and Hulk together because they get angry easily and fight with each other. So you have to separate them from each other. To separate them, either move “Black Widow” or “Hawkeye” in betwe\n",
    "\n",
    "5. n them.\r\n",
    "After Avengers: End Game the original six avengers are retired, now you need to remove them from your list and add new superheroes like Doctor Strange, Vision, Wanda, Kate Bishop, and\n",
    "\n",
    "6. Ant-Man.\r\n",
    "As “Captain America” is also retired and now currently, no one is the leader, so sort the list in alphabetical order. Whoever will come at the 0th index will become the Leader. (BONUS: can you guess who will become the leader)"
   ]
  },
  {
   "cell_type": "code",
   "execution_count": 27,
   "id": "0badc4f5-9ff8-4cbe-aa04-ad98c7c18e8d",
   "metadata": {},
   "outputs": [
    {
     "data": {
      "text/plain": [
       "['Iron Man', 'Captain America', 'Black Widow', 'Hulk', 'Thor', 'Hawkeye']"
      ]
     },
     "execution_count": 27,
     "metadata": {},
     "output_type": "execute_result"
    }
   ],
   "source": [
    "avengers  = ['Iron Man', 'Captain America', 'Black Widow', 'Hulk', 'Thor', 'Hawkeye']\n",
    "avengers"
   ]
  },
  {
   "cell_type": "code",
   "execution_count": 24,
   "id": "872fdb3d-7a41-4727-93a9-97addf7ecccf",
   "metadata": {},
   "outputs": [
    {
     "data": {
      "text/plain": [
       "6"
      ]
     },
     "execution_count": 24,
     "metadata": {},
     "output_type": "execute_result"
    }
   ],
   "source": [
    "#1.\n",
    "len(avengers)"
   ]
  },
  {
   "cell_type": "code",
   "execution_count": 28,
   "id": "47c8a576-fa16-43a6-ae2c-338fe6f670ea",
   "metadata": {},
   "outputs": [
    {
     "data": {
      "text/plain": [
       "['Iron Man',\n",
       " 'Captain America',\n",
       " 'Black Widow',\n",
       " 'Hulk',\n",
       " 'Thor',\n",
       " 'Hawkeye',\n",
       " 'Spider Man']"
      ]
     },
     "execution_count": 28,
     "metadata": {},
     "output_type": "execute_result"
    }
   ],
   "source": [
    "# 2.\n",
    "avengers.append('Spider Man')\n",
    "avengers"
   ]
  },
  {
   "cell_type": "markdown",
   "id": "495fb3d2-4aec-4be2-95ad-8e21b5a5b20e",
   "metadata": {},
   "source": [
    "### 3. Moving Captain America to the first position\n",
    "\n",
    "First remove Captain from 1st index: \n",
    "We can use .pop() to remove from the given index.\n",
    "\n",
    "Because we need to insert him later so store this in a variable called `captain_america`"
   ]
  },
  {
   "cell_type": "code",
   "execution_count": 30,
   "id": "6ca3df2e-d853-47eb-b592-585553dae31d",
   "metadata": {},
   "outputs": [],
   "source": [
    "captain_america = avengers.pop(1)"
   ]
  },
  {
   "cell_type": "code",
   "execution_count": 31,
   "id": "af63c86f-4809-4603-8615-6d0058254142",
   "metadata": {},
   "outputs": [
    {
     "data": {
      "text/plain": [
       "'Captain America'"
      ]
     },
     "execution_count": 31,
     "metadata": {},
     "output_type": "execute_result"
    }
   ],
   "source": [
    "captain_america"
   ]
  },
  {
   "cell_type": "code",
   "execution_count": 32,
   "id": "37834e8c-e002-4e68-8119-32ec7ab874f5",
   "metadata": {},
   "outputs": [
    {
     "data": {
      "text/plain": [
       "['Iron Man', 'Black Widow', 'Hulk', 'Thor', 'Hawkeye', 'Spider Man']"
      ]
     },
     "execution_count": 32,
     "metadata": {},
     "output_type": "execute_result"
    }
   ],
   "source": [
    "avengers"
   ]
  },
  {
   "cell_type": "markdown",
   "id": "26a7e292-768d-4a49-bd4c-3d4538a8c360",
   "metadata": {},
   "source": [
    "Now Add him to the 0th index using .insert()"
   ]
  },
  {
   "cell_type": "code",
   "execution_count": 33,
   "id": "9e546d4b-ffdb-4a9c-9842-29468561f963",
   "metadata": {},
   "outputs": [],
   "source": [
    "avengers.insert(0, captain_america)"
   ]
  },
  {
   "cell_type": "code",
   "execution_count": 34,
   "id": "ba4c8e95-d13a-40da-9169-a1ce149a0df4",
   "metadata": {},
   "outputs": [
    {
     "data": {
      "text/plain": [
       "['Captain America',\n",
       " 'Iron Man',\n",
       " 'Black Widow',\n",
       " 'Hulk',\n",
       " 'Thor',\n",
       " 'Hawkeye',\n",
       " 'Spider Man']"
      ]
     },
     "execution_count": 34,
     "metadata": {},
     "output_type": "execute_result"
    }
   ],
   "source": [
    "avengers"
   ]
  },
  {
   "cell_type": "markdown",
   "id": "8835a8cf-5ad6-4e69-958d-05321d7dcbb6",
   "metadata": {},
   "source": [
    "### Separating Thor and Hulk\n",
    "\n",
    "To seprate them we can move Black Window to in between them\n",
    "- Removing Black Widow\n",
    "- Adding Black widow to the new position which is 3"
   ]
  },
  {
   "cell_type": "code",
   "execution_count": 35,
   "id": "80e71df5-0696-45cf-93d4-a98ec898b619",
   "metadata": {},
   "outputs": [
    {
     "data": {
      "text/plain": [
       "['Captain America', 'Iron Man', 'Hulk', 'Thor', 'Hawkeye', 'Spider Man']"
      ]
     },
     "execution_count": 35,
     "metadata": {},
     "output_type": "execute_result"
    }
   ],
   "source": [
    "black_widow = avengers.pop(2)\n",
    "avengers"
   ]
  },
  {
   "cell_type": "code",
   "execution_count": 36,
   "id": "50922215-1a87-4122-bf59-b15cf7f34674",
   "metadata": {},
   "outputs": [
    {
     "data": {
      "text/plain": [
       "['Captain America',\n",
       " 'Iron Man',\n",
       " 'Hulk',\n",
       " 'Black Widow',\n",
       " 'Thor',\n",
       " 'Hawkeye',\n",
       " 'Spider Man']"
      ]
     },
     "execution_count": 36,
     "metadata": {},
     "output_type": "execute_result"
    }
   ],
   "source": [
    "avengers.insert(3, black_widow)\n",
    "avengers"
   ]
  },
  {
   "cell_type": "markdown",
   "id": "c9aece43-7bdc-4d53-937d-b5ea84e35a3a",
   "metadata": {},
   "source": [
    "### Replacing the team with new heros\n",
    "\n",
    "First remove the retired heroes"
   ]
  },
  {
   "cell_type": "code",
   "execution_count": 37,
   "id": "451e28b9-c28c-4b7d-a2de-c904f7af1080",
   "metadata": {},
   "outputs": [
    {
     "data": {
      "text/plain": [
       "'Captain America'"
      ]
     },
     "execution_count": 37,
     "metadata": {},
     "output_type": "execute_result"
    }
   ],
   "source": [
    "avengers.pop(0)"
   ]
  },
  {
   "cell_type": "code",
   "execution_count": 38,
   "id": "f4608183-184d-4685-9095-eb12997a7f9a",
   "metadata": {},
   "outputs": [
    {
     "data": {
      "text/plain": [
       "'Iron Man'"
      ]
     },
     "execution_count": 38,
     "metadata": {},
     "output_type": "execute_result"
    }
   ],
   "source": [
    "avengers.pop(0)"
   ]
  },
  {
   "cell_type": "code",
   "execution_count": 39,
   "id": "bf807115-7e0f-498a-91e2-42bbc6b7d3c0",
   "metadata": {},
   "outputs": [
    {
     "data": {
      "text/plain": [
       "'Hulk'"
      ]
     },
     "execution_count": 39,
     "metadata": {},
     "output_type": "execute_result"
    }
   ],
   "source": [
    "avengers.pop(0)"
   ]
  },
  {
   "cell_type": "code",
   "execution_count": 40,
   "id": "08d06cd7-77d1-49e1-9c71-41603b8efa0b",
   "metadata": {},
   "outputs": [
    {
     "data": {
      "text/plain": [
       "'Black Widow'"
      ]
     },
     "execution_count": 40,
     "metadata": {},
     "output_type": "execute_result"
    }
   ],
   "source": [
    "avengers.pop(0)"
   ]
  },
  {
   "cell_type": "code",
   "execution_count": 41,
   "id": "28a46310-815b-42fc-bbd8-2b23548eddba",
   "metadata": {},
   "outputs": [
    {
     "data": {
      "text/plain": [
       "'Thor'"
      ]
     },
     "execution_count": 41,
     "metadata": {},
     "output_type": "execute_result"
    }
   ],
   "source": [
    "avengers.pop(0)"
   ]
  },
  {
   "cell_type": "code",
   "execution_count": 42,
   "id": "718de5a0-4cab-4678-8802-71fa54498025",
   "metadata": {},
   "outputs": [
    {
     "data": {
      "text/plain": [
       "'Hawkeye'"
      ]
     },
     "execution_count": 42,
     "metadata": {},
     "output_type": "execute_result"
    }
   ],
   "source": [
    "avengers.pop(0)"
   ]
  },
  {
   "cell_type": "code",
   "execution_count": 43,
   "id": "c0db0740-6359-4a0c-84bc-d1f380fe1e32",
   "metadata": {},
   "outputs": [
    {
     "data": {
      "text/plain": [
       "['Spider Man']"
      ]
     },
     "execution_count": 43,
     "metadata": {},
     "output_type": "execute_result"
    }
   ],
   "source": [
    "avengers"
   ]
  },
  {
   "cell_type": "markdown",
   "id": "1ebcbb19-ec06-4279-ad2b-08d1f5e1882d",
   "metadata": {},
   "source": [
    "Only spider man left in the team\n",
    "\n",
    "Let's add new superheroes to the team\n",
    "\n",
    "Doctor Strange, Vision, Wanda, Kate Bishop and Ant-Man"
   ]
  },
  {
   "cell_type": "code",
   "execution_count": 44,
   "id": "b37bdd3d-cf86-47e8-b626-cdb12cf64f2c",
   "metadata": {},
   "outputs": [
    {
     "name": "stdout",
     "output_type": "stream",
     "text": [
      "Help on list object:\n",
      "\n",
      "class list(object)\n",
      " |  list(iterable=(), /)\n",
      " |  \n",
      " |  Built-in mutable sequence.\n",
      " |  \n",
      " |  If no argument is given, the constructor creates a new empty list.\n",
      " |  The argument must be an iterable if specified.\n",
      " |  \n",
      " |  Methods defined here:\n",
      " |  \n",
      " |  __add__(self, value, /)\n",
      " |      Return self+value.\n",
      " |  \n",
      " |  __contains__(self, key, /)\n",
      " |      Return key in self.\n",
      " |  \n",
      " |  __delitem__(self, key, /)\n",
      " |      Delete self[key].\n",
      " |  \n",
      " |  __eq__(self, value, /)\n",
      " |      Return self==value.\n",
      " |  \n",
      " |  __ge__(self, value, /)\n",
      " |      Return self>=value.\n",
      " |  \n",
      " |  __getattribute__(self, name, /)\n",
      " |      Return getattr(self, name).\n",
      " |  \n",
      " |  __getitem__(...)\n",
      " |      x.__getitem__(y) <==> x[y]\n",
      " |  \n",
      " |  __gt__(self, value, /)\n",
      " |      Return self>value.\n",
      " |  \n",
      " |  __iadd__(self, value, /)\n",
      " |      Implement self+=value.\n",
      " |  \n",
      " |  __imul__(self, value, /)\n",
      " |      Implement self*=value.\n",
      " |  \n",
      " |  __init__(self, /, *args, **kwargs)\n",
      " |      Initialize self.  See help(type(self)) for accurate signature.\n",
      " |  \n",
      " |  __iter__(self, /)\n",
      " |      Implement iter(self).\n",
      " |  \n",
      " |  __le__(self, value, /)\n",
      " |      Return self<=value.\n",
      " |  \n",
      " |  __len__(self, /)\n",
      " |      Return len(self).\n",
      " |  \n",
      " |  __lt__(self, value, /)\n",
      " |      Return self<value.\n",
      " |  \n",
      " |  __mul__(self, value, /)\n",
      " |      Return self*value.\n",
      " |  \n",
      " |  __ne__(self, value, /)\n",
      " |      Return self!=value.\n",
      " |  \n",
      " |  __repr__(self, /)\n",
      " |      Return repr(self).\n",
      " |  \n",
      " |  __reversed__(self, /)\n",
      " |      Return a reverse iterator over the list.\n",
      " |  \n",
      " |  __rmul__(self, value, /)\n",
      " |      Return value*self.\n",
      " |  \n",
      " |  __setitem__(self, key, value, /)\n",
      " |      Set self[key] to value.\n",
      " |  \n",
      " |  __sizeof__(self, /)\n",
      " |      Return the size of the list in memory, in bytes.\n",
      " |  \n",
      " |  append(self, object, /)\n",
      " |      Append object to the end of the list.\n",
      " |  \n",
      " |  clear(self, /)\n",
      " |      Remove all items from list.\n",
      " |  \n",
      " |  copy(self, /)\n",
      " |      Return a shallow copy of the list.\n",
      " |  \n",
      " |  count(self, value, /)\n",
      " |      Return number of occurrences of value.\n",
      " |  \n",
      " |  extend(self, iterable, /)\n",
      " |      Extend list by appending elements from the iterable.\n",
      " |  \n",
      " |  index(self, value, start=0, stop=9223372036854775807, /)\n",
      " |      Return first index of value.\n",
      " |      \n",
      " |      Raises ValueError if the value is not present.\n",
      " |  \n",
      " |  insert(self, index, object, /)\n",
      " |      Insert object before index.\n",
      " |  \n",
      " |  pop(self, index=-1, /)\n",
      " |      Remove and return item at index (default last).\n",
      " |      \n",
      " |      Raises IndexError if list is empty or index is out of range.\n",
      " |  \n",
      " |  remove(self, value, /)\n",
      " |      Remove first occurrence of value.\n",
      " |      \n",
      " |      Raises ValueError if the value is not present.\n",
      " |  \n",
      " |  reverse(self, /)\n",
      " |      Reverse *IN PLACE*.\n",
      " |  \n",
      " |  sort(self, /, *, key=None, reverse=False)\n",
      " |      Sort the list in ascending order and return None.\n",
      " |      \n",
      " |      The sort is in-place (i.e. the list itself is modified) and stable (i.e. the\n",
      " |      order of two equal elements is maintained).\n",
      " |      \n",
      " |      If a key function is given, apply it once to each list item and sort them,\n",
      " |      ascending or descending, according to their function values.\n",
      " |      \n",
      " |      The reverse flag can be set to sort in descending order.\n",
      " |  \n",
      " |  ----------------------------------------------------------------------\n",
      " |  Static methods defined here:\n",
      " |  \n",
      " |  __new__(*args, **kwargs) from builtins.type\n",
      " |      Create and return a new object.  See help(type) for accurate signature.\n",
      " |  \n",
      " |  ----------------------------------------------------------------------\n",
      " |  Data and other attributes defined here:\n",
      " |  \n",
      " |  __hash__ = None\n",
      "\n"
     ]
    }
   ],
   "source": [
    "help(avengers)"
   ]
  },
  {
   "cell_type": "code",
   "execution_count": 45,
   "id": "a88e6be2-f192-481f-90d0-7cdff329cc26",
   "metadata": {},
   "outputs": [
    {
     "data": {
      "text/plain": [
       "['Doctor Strange', 'Vision', 'Wanda', 'Kate Bishop', 'Ant Man']"
      ]
     },
     "execution_count": 45,
     "metadata": {},
     "output_type": "execute_result"
    }
   ],
   "source": [
    "new_superheroes = ['Doctor Strange', 'Vision', 'Wanda', 'Kate Bishop', 'Ant Man']\n",
    "new_superheroes"
   ]
  },
  {
   "cell_type": "code",
   "execution_count": 46,
   "id": "d5131752-cb23-4a49-bc50-10e422c05f6e",
   "metadata": {},
   "outputs": [
    {
     "data": {
      "text/plain": [
       "['Spider Man', 'Doctor Strange', 'Vision', 'Wanda', 'Kate Bishop', 'Ant Man']"
      ]
     },
     "execution_count": 46,
     "metadata": {},
     "output_type": "execute_result"
    }
   ],
   "source": [
    "avengers.extend(new_superheroes)\n",
    "avengers"
   ]
  },
  {
   "cell_type": "code",
   "execution_count": 47,
   "id": "d3da2ccb-2081-4f35-8bd4-fd9360807632",
   "metadata": {},
   "outputs": [
    {
     "data": {
      "text/plain": [
       "6"
      ]
     },
     "execution_count": 47,
     "metadata": {},
     "output_type": "execute_result"
    }
   ],
   "source": [
    "len(avengers)"
   ]
  },
  {
   "cell_type": "code",
   "execution_count": 49,
   "id": "ca988208-a282-4adb-bfa9-4a9b11f8c028",
   "metadata": {},
   "outputs": [
    {
     "data": {
      "text/plain": [
       "['Ant Man', 'Doctor Strange', 'Kate Bishop', 'Spider Man', 'Vision', 'Wanda']"
      ]
     },
     "execution_count": 49,
     "metadata": {},
     "output_type": "execute_result"
    }
   ],
   "source": [
    "avengers.sort()\n",
    "avengers"
   ]
  },
  {
   "cell_type": "markdown",
   "id": "0d2c9ced-135c-4926-88fe-f11eb75412dc",
   "metadata": {},
   "source": [
    "As 'Ant Man' comes at the 0th index He is the new Leader of the Avengers. "
   ]
  },
  {
   "cell_type": "markdown",
   "id": "cd909f36-b873-4ae3-9a19-5b3a24c63b65",
   "metadata": {},
   "source": [
    "<h3 style=\"color:purple\">Quiz questions</h3>\n",
    "\n",
    "1. Select the option to join two lists in python\n",
    "new_list = list_1 + list_2\n",
    "\n",
    "2. Which statement is True about list data type in python?\n",
    "You can store any type of element in a list.\n",
    "\n",
    "3. These are the top English movies by their revenues arranged in ascending order. This means the last movie on the list (Avatar) made the most money. Which Python statement can help you find out the top 3 movies by their revenues?\r\n",
    "\r\n",
    "movies = [\"Jurassic World\",\"Spider-man\",\"Titanic\",\"Avengers-Endgame\",\"Avatar\n",
    "\n",
    "movies[-3:]\"]"
   ]
  }
 ],
 "metadata": {
  "kernelspec": {
   "display_name": "Python 3 (ipykernel)",
   "language": "python",
   "name": "python3"
  },
  "language_info": {
   "codemirror_mode": {
    "name": "ipython",
    "version": 3
   },
   "file_extension": ".py",
   "mimetype": "text/x-python",
   "name": "python",
   "nbconvert_exporter": "python",
   "pygments_lexer": "ipython3",
   "version": "3.8.10"
  }
 },
 "nbformat": 4,
 "nbformat_minor": 5
}
